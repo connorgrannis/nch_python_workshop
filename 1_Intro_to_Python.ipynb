{
  "nbformat": 4,
  "nbformat_minor": 0,
  "metadata": {
    "colab": {
      "name": "1- Intro to Python",
      "provenance": [],
      "private_outputs": true,
      "collapsed_sections": [],
      "toc_visible": true,
      "include_colab_link": true
    },
    "kernelspec": {
      "name": "python3",
      "display_name": "Python 3"
    }
  },
  "cells": [
    {
      "cell_type": "markdown",
      "metadata": {
        "id": "view-in-github",
        "colab_type": "text"
      },
      "source": [
        "<a href=\"https://colab.research.google.com/github/connorgrannis/nch_python_workshop/blob/master/1_Intro_to_Python.ipynb\" target=\"_parent\"><img src=\"https://colab.research.google.com/assets/colab-badge.svg\" alt=\"Open In Colab\"/></a>"
      ]
    },
    {
      "cell_type": "markdown",
      "metadata": {
        "id": "kPh8pu9nXQeT",
        "colab_type": "text"
      },
      "source": [
        "# __DISCLAIMER__: \n",
        "We...\n",
        "* are self taught.\n",
        "* are still learning.\n",
        "* use best practices when possible, but sometimes forget!\n",
        "\n"
      ]
    },
    {
      "cell_type": "markdown",
      "metadata": {
        "id": "2PEvA7TRKLPM",
        "colab_type": "text"
      },
      "source": [
        "#__What is Python?__\n",
        "\n",
        "Python is a general purpose programming language, which means it can do many things, unlike R or SPSS, which are designed primarily for statistics.\n",
        " \n",
        "Python is flexible enough to deal with various problems: webscraping, data science, file organization, text manipulation, and much more.\n",
        " \n",
        "One of the main points of python (like most programming languages) is to automate tasks that you have to do frequently.  With regard to data science, that could be running analyses, organizing and inputting new data, or making graphs.\n",
        " \n"
      ]
    },
    {
      "cell_type": "markdown",
      "metadata": {
        "id": "OaXkN0MdHr_J",
        "colab_type": "text"
      },
      "source": [
        "# __What is Jupyter__?\n",
        "\n",
        "A Jupyter notebook is an interactive coding environment that enables users to create a \"notebook\" where you can easily chunk your code and text into readable and easily followed sections. Most, if not all, of what we will be doing during this workshop will be in the Google version of a Jupyter notebook.\n",
        "\n"
      ]
    },
    {
      "cell_type": "markdown",
      "metadata": {
        "id": "ibPNQQqHKT_7",
        "colab_type": "text"
      },
      "source": [
        "### __How do I use it?__\n",
        "* There are text blocks (like this) and code blocks\n",
        "* to execute the code within a block, click within the block and press the play button in the top left\n",
        "\n",
        "__shortcuts__\n",
        "* ctrl+enter executes the current cell and does not advance\n",
        "* shift+enter executes the current cell and does advance"
      ]
    },
    {
      "cell_type": "markdown",
      "metadata": {
        "id": "VGW20vovP8Pl",
        "colab_type": "text"
      },
      "source": [
        "#__Variables__"
      ]
    },
    {
      "cell_type": "code",
      "metadata": {
        "id": "Mi5yxbzQJx9v",
        "colab_type": "code",
        "colab": {}
      },
      "source": [
        "# In python, the # symbol at the start of a line means everything that follows is a 'comment'.\n",
        "# Comments are to help both you and anyone else that may read your code understand what's going on.\n",
        "\n",
        "# Variable format\n",
        "# name = value\n",
        "x = 1.75                  # float- contains a decimal point\n",
        "y = 5                     # integer- is a whole number\n",
        "z = \"This is some text!\"  # string- anything in quotes (single or double)\n",
        "\n",
        "print(1.75)\n",
        "print(x)\n",
        "\n",
        "print(5)\n",
        "print(y)\n",
        "\n",
        "print('This is some text!')\n",
        "print(z)"
      ],
      "execution_count": 0,
      "outputs": []
    },
    {
      "cell_type": "markdown",
      "metadata": {
        "id": "HdAv3R4TLa4s",
        "colab_type": "text"
      },
      "source": [
        "###__Converting between variable types:__\n",
        "\n",
        "By default, different variable types can't interact with each other. Try running the code below and see what happens.\n"
      ]
    },
    {
      "cell_type": "code",
      "metadata": {
        "id": "9n0068pkLTnI",
        "colab_type": "code",
        "colab": {}
      },
      "source": [
        "a = '10'\n",
        "b = 5\n",
        "\n",
        "c = a+b"
      ],
      "execution_count": 0,
      "outputs": []
    },
    {
      "cell_type": "markdown",
      "metadata": {
        "id": "Ppm8E8vOO4Dj",
        "colab_type": "text"
      },
      "source": [
        "A few things we should go over: first of all we can see that this didn't work. instead of returning what we wanted, we got a TypeError; this means that there was a type mismatch between the variables.\n",
        "\n",
        "When python encounters an error, it returns the type of error and the line on which the error occurred. This is a useful tool for understanding what happened to your code and how to get it working again.\n",
        "\n",
        "So what should we do instead? When we want to use two types of variables at once, python lets us convert between the different core types.\n",
        "\n",
        "* int() converts the value to an 'integer' type\n",
        "* float() converts the value to a 'float' type\n",
        "* str() converts the value to a 'string' type\n",
        "\n",
        "try running the code below to gain a better understanding of converting between types.\n",
        "\n"
      ]
    },
    {
      "cell_type": "code",
      "metadata": {
        "id": "SzXLOjmdMSNG",
        "colab_type": "code",
        "colab": {}
      },
      "source": [
        "a = '10'\n",
        "b = 5\n",
        "\n",
        "print(type(a))\n",
        "print(type(b))\n",
        "\n",
        "c = int(a) + b\n",
        "print(c)\n",
        "print(type(c))\n",
        "\n",
        "d = a + str(b)\n",
        "print(d)\n",
        "print(type(d))\n"
      ],
      "execution_count": 0,
      "outputs": []
    },
    {
      "cell_type": "markdown",
      "metadata": {
        "id": "iddLArIC9bYU",
        "colab_type": "text"
      },
      "source": [
        "Now that we've got a handle on variable types and converting between them, lets move to a slightly more advanced example. The below example uses some string formatting so we can manipulate the text how we want.\n",
        "\n",
        "* when you see '\\n' in a string, it will begin a new line.\n",
        "* when you see '\\t' in a string, it will put in a tab.\n",
        "* '\\\\' is a special \"escape\" character and will alter the behaviour of the following character.\n",
        "\n",
        "there are quite a few special characters, if you want a more comprehensive list you can use this website: https://linuxconfig.org/list-of-python-escape-sequence-characters-with-examplesjj\\"
      ]
    },
    {
      "cell_type": "code",
      "metadata": {
        "id": "QX-ODIaZOkkn",
        "colab_type": "code",
        "colab": {}
      },
      "source": [
        "a = '10'\n",
        "b = 5\n",
        "\n",
        "c = int(a) + b\n",
        "\n",
        "print(\"variable c = \" + str(c) + \"\\n\\tvariable c is type: \" + str(type(c)))\n",
        "\n",
        "d = a + str(b)\n",
        "\n",
        "print(\"variable d = \" + d + \" \\n\\tvariable d is type: \" + str(type(d)))"
      ],
      "execution_count": 0,
      "outputs": []
    },
    {
      "cell_type": "markdown",
      "metadata": {
        "id": "icoSID-_COPD",
        "colab_type": "text"
      },
      "source": [
        "#__String manipulation__\n",
        "\n",
        "An important part of using python is understanding how to manipulate and transform strings.\n",
        "\n",
        "Lets take the code below and get a basic idea of how we can use python to manipulate a string.\n",
        "\n"
      ]
    },
    {
      "cell_type": "code",
      "metadata": {
        "id": "afs541wBIjYl",
        "colab_type": "code",
        "colab": {}
      },
      "source": [
        "first_name = \"roberto\"\n",
        "last_name = \"french\"\n",
        "\n",
        "all_caps = first_name.upper()  # string.upper() converts all the characters in the string to upper case\n",
        "print(all_caps)\n",
        "\n",
        "all_lower = all_caps.lower()   # string.lower() converts all the characters in the string to lower case\n",
        "print(all_lower)\n",
        "\n",
        "full_name = first_name.title() + ' ' + last_name.title()    # string.title() will capitalize just the first character\n",
        "print(full_name)"
      ],
      "execution_count": 0,
      "outputs": []
    },
    {
      "cell_type": "markdown",
      "metadata": {
        "id": "sSp8yL8Efdv9",
        "colab_type": "text"
      },
      "source": [
        "### **Indexing:**\n",
        "What if we only want part of the string? \n",
        "\n",
        "First lets say we only want one specific character, we can select the 'index' of the character and pull it out.\n"
      ]
    },
    {
      "cell_type": "code",
      "metadata": {
        "id": "Y3X_3T94fdcC",
        "colab_type": "code",
        "colab": {}
      },
      "source": [
        "first_name = 'roberto'\n",
        "\n",
        "first_letter = first_name[0]\n",
        "\n",
        "# to help visualise this lets think of          0  1  2  3  4  5  6 \n",
        "# every character being numbered                r  o  b  e  r  t  o              \n",
        "#                                               ^\n",
        "# Notice how the counting starts at 0!\n",
        "# we can use the string[] with the number of the character we want to pull out\n",
        "# we call this the 'index' of the character \n",
        "\n",
        "print(first_letter)"
      ],
      "execution_count": 0,
      "outputs": []
    },
    {
      "cell_type": "markdown",
      "metadata": {
        "id": "Q9EhqxPEfdG0",
        "colab_type": "text"
      },
      "source": [
        "We can also index from the end, if we want to start from the end we use negative numbers."
      ]
    },
    {
      "cell_type": "code",
      "metadata": {
        "id": "X9j8d7vKfcy9",
        "colab_type": "code",
        "colab": {}
      },
      "source": [
        "first_name = roberto\n",
        "\n",
        "last_letter = first_name[-1]\n",
        "print(last_letter)\n",
        "#                                                       \n",
        "# count starting from the end instead   -7 -6 -5 -4 -3 -2 -1   \n",
        "#                                        r  o  b  e  r  t  o  \n",
        "#                                                          ^\n",
        "\n",
        "print(last_letter)"
      ],
      "execution_count": 0,
      "outputs": []
    },
    {
      "cell_type": "markdown",
      "metadata": {
        "id": "N1NPe49-fcF3",
        "colab_type": "text"
      },
      "source": [
        "###**Slicing:**\n",
        "Lets say I just want the first three characters of my name, 'Rob', as a nickname.\n",
        "\n",
        "We could always define a new variable, but let's see what we can do with what we have already."
      ]
    },
    {
      "cell_type": "code",
      "metadata": {
        "id": "wyNXJVzRfbyA",
        "colab_type": "code",
        "colab": {}
      },
      "source": [
        "first_name = 'roberto'\n",
        "\n",
        "nickname = first_name[0:3].title()\n",
        "\n",
        "# Here we do something called slicing. \n",
        "# Putting ['start':'stop'] after a string lets us take a 'slice' of it to use.\n",
        "\n",
        "#                                      start    stop\n",
        "# here we take it from the range 0-3:    | 0 1 2 | 3 4 5 6 \n",
        "#                                        | r o b | e r t o\n",
        "\n",
        "# Some important things to note:\n",
        "#   * don't forget numbering starts at 0!\n",
        "#   * the slice goes UP TO but does NOT INCLUDE the end character (3 - e)\n",
        "\n",
        "# Also notice we combined the 'string'.title() method with the slice, \n",
        "# we can make our code more efficient by combining steps like that, just be sure your code is still readable!\n",
        "\n",
        "print(nickname)\n",
        "\n",
        "# Here we use a shortcut to achieve the same result, if you want to start from the beginning you can leave that field blank.\n",
        "print(first_name[:3].title())    \n",
        "\n",
        "# similarly, if you want to continue until the end, you could leave that blank too.\n",
        "print(first_name[4:])"
      ],
      "execution_count": 0,
      "outputs": []
    },
    {
      "cell_type": "markdown",
      "metadata": {
        "id": "GwuK9nOQMzo5",
        "colab_type": "text"
      },
      "source": [
        "Try to keep these slicing rules in mind as we continue as you can use the slicing and indexing formats for much more than just manipulating strings."
      ]
    },
    {
      "cell_type": "markdown",
      "metadata": {
        "id": "aWIey4YATBy4",
        "colab_type": "text"
      },
      "source": [
        "# __Compound variable types__\n",
        "\n",
        "There are two basic compuound variable types that when used well can be an extremely versatile toolset.\n",
        "\n"
      ]
    },
    {
      "cell_type": "markdown",
      "metadata": {
        "id": "0pwGzmDLJ0ip",
        "colab_type": "text"
      },
      "source": [
        "###**Lists:**\n",
        "__lists__: a list of any set of items or variables, a list is surrounded by brackets [...] and the items within it are separated by commas.\n",
        "The items can be any variable type, even another list."
      ]
    },
    {
      "cell_type": "code",
      "metadata": {
        "id": "_xKGEQC9V2Xy",
        "colab_type": "code",
        "colab": {}
      },
      "source": [
        "pizza_ingredients = ['dough', 'peperoni', 'cheese', 'pineapple', 'ham', 'anchovies']\n",
        "prime_numbers = [2, 3, 5, 7, 11, 13, 17]\n",
        "\n",
        "x = 10\n",
        "y = 10.0\n",
        "z = 'ten'\n",
        "\n",
        "tens = [z, y, z]\n",
        "\n",
        "all_lists = [pizza_ingredients, prime_numbers, tens]\n",
        "\n",
        "\n",
        "# Remember the string slicing and indexing rules? They work the same with lists!\n",
        "# Lets refrence the 3rd prime number in our primes list.\n",
        "third_prime = prime_numbers[3]\n",
        "print(third_prime)\n",
        "\n",
        "# Now lets introduce a new slicing tip, lets look at every second item in our pizza_ingredients\n",
        "every_other = pizza_ingredients[::2]   \n",
        "# '[:]' would list every item, adding the second ':' and a number after indicates we want every second item from the whole list.\n",
        "\n",
        "print(every_other)\n"
      ],
      "execution_count": 0,
      "outputs": []
    },
    {
      "cell_type": "markdown",
      "metadata": {
        "id": "S1QWBxKBlpvV",
        "colab_type": "text"
      },
      "source": [
        "What if we want to add or remove items from a list? There are a few ways we can do both.\n",
        "\n"
      ]
    },
    {
      "cell_type": "code",
      "metadata": {
        "id": "BOzP65x9lpXm",
        "colab_type": "code",
        "colab": {}
      },
      "source": [
        "pizza_ingredients = ['dough', 'peperoni', 'cheese', 'pineapple', 'ham', 'anchovies']\n",
        "prime_numbers = [2, 3, 5, 7, 11, 13, 17]\n",
        "\n",
        "# adding to the end of a list using list.append()\n",
        "prime_numbers.append(23)\n",
        "print(prime_numbers)\n",
        "\n",
        "# adding to a specific index using list.insert()\n",
        "# we missed a prime!\n",
        "prime_numbers.insert(7, 19)    # list.insert(index, value)\n",
        "print(prime_numbers)\n",
        "\n",
        "# we can remove the first occurence of a value using list.remove()\n",
        "# pineapple? on a pizza?!\n",
        "pizza_ingredients.remove('pineapple')\n",
        "print(pizza_ingredients)\n",
        "\n",
        "# what about removing at a specific index?\n",
        "# use del with the list[index]\n",
        "del pizza_ingredients[-1]\n",
        "print(pizza_ingredients)"
      ],
      "execution_count": 0,
      "outputs": []
    },
    {
      "cell_type": "markdown",
      "metadata": {
        "id": "RZgnH6HLirp9",
        "colab_type": "text"
      },
      "source": [
        "##**Dictionaries:**\n",
        "The other common type is a **dictionary**.\n",
        "\n",
        "A **dictionary** is similar to a list, but is made up of key: value pairs. \n",
        "**dictionaries** are denoted by curly brackets { }, and its items are (like lists) separated by commas.\n",
        "\n",
        "the **key** is a descriptor for its associated **value**, again these can be made up of any data types just like lists.\n",
        "\n",
        "Unlike lists, you do not refrence the items through indexing or slicing, instead you refrence them through the keys.\n",
        "\n",
        "Lets take a look at the example below:\n"
      ]
    },
    {
      "cell_type": "code",
      "metadata": {
        "id": "nBlN1DybjZR_",
        "colab_type": "code",
        "colab": {}
      },
      "source": [
        "my_car = {'make': 'Honda', 'model': 'CR-V', 'year': 2013}\n",
        "\n",
        "# Lets refrence the car colour.\n",
        "print(my_car['make'])\n",
        "\n",
        "# Adding to a dictionary\n",
        "my_car['colour'] = 'black'    # Assign it as if you were refrencing it the first time.\n",
        "print(my_car)\n",
        "\n",
        "# Removing from a dictionary.\n",
        "del my_car['model']           # Using del again, similar to the list.\n",
        "print(my_car)\n",
        "\n",
        "# Modifying values\n",
        "my_car['year'] = 2012         # Essentially just reassgning the value to the same key\n",
        "print(my_car)"
      ],
      "execution_count": 0,
      "outputs": []
    },
    {
      "cell_type": "markdown",
      "metadata": {
        "id": "XhVMrDKNtFcc",
        "colab_type": "text"
      },
      "source": [
        "#**Conditinal statements and Looping**\n",
        "\n",
        "So we know how to do a few things in Python now. What if we wanted to do one thing sometimes, and other times do something else? What if we wanted to do something a hundred times? Thats where conditional statements and loops come into play.\n"
      ]
    },
    {
      "cell_type": "markdown",
      "metadata": {
        "id": "FFQDqISuIyXb",
        "colab_type": "text"
      },
      "source": [
        "###**Conditional Statements:**\n",
        "A **conditional statement** in Python is written using the keyword \"if...else\", let's check the example below."
      ]
    },
    {
      "cell_type": "code",
      "metadata": {
        "id": "V-Zjm63ptTzV",
        "colab_type": "code",
        "colab": {}
      },
      "source": [
        "time = input('What time is it? (Just the hour in 24-hour time!) ')\n",
        "\n",
        "\n",
        "if int(time) < 12:\n",
        "  print('Good morning!')\n",
        "\n",
        "else:\n",
        "  print('Good afternoon!')"
      ],
      "execution_count": 0,
      "outputs": []
    },
    {
      "cell_type": "markdown",
      "metadata": {
        "id": "2fPr6WibaD78",
        "colab_type": "text"
      },
      "source": [
        "let's take a closer look at the conditional statement:\n",
        "\n",
        "```\n",
        "if int(time) < 12:\n",
        "```\n",
        "here we see the conditional statement started with the 'if' followed by some condtion, in our case we want to check if the time variable we entered earlier is less than 12. \n",
        "```\n",
        "if int(time) < 12:\n",
        "  print('Good morning!')\n",
        "```\n",
        "***if*** the time is less than 12, we print 'Good morning!'. What if our time is not less than 12? We need something that can capture all other conditions that aren't satisfied by our 'if' statement. That's where the 'else' comes into play, the 'else' statement doesn't need anythin following it like 'if' does, it will capture everything else that does not satisfy the paired 'if' statement.\n",
        "```\n",
        "if int(time) < 12:\n",
        "  print('Good morning!')\n",
        "\n",
        "else:\n",
        "  print('Good afternoon!')\n",
        "```\n",
        "In our simple case, if it's not morning, then it's afternoon.\n",
        "\n",
        "\n",
        "There's more than just morning and afternoon though, what if we have more than two conditions? It could be the morning, it could be the afternoon, or the evening. We can add in extra conditions using the 'elif' statement."
      ]
    },
    {
      "cell_type": "code",
      "metadata": {
        "id": "Akd9lOFhduZy",
        "colab_type": "code",
        "colab": {}
      },
      "source": [
        "time = input('What time is it? (Just the hour in 24-hour time!) ')\n",
        "\n",
        "\n",
        "if int(time) < 12:\n",
        "  print('Good morning!')\n",
        "\n",
        "elif int(time) >= 12 and int(time) < 17:\n",
        "  print('Good afternoon!')\n",
        "\n",
        "else:\n",
        "  print('Good evening!')"
      ],
      "execution_count": 0,
      "outputs": []
    },
    {
      "cell_type": "markdown",
      "metadata": {
        "id": "zPotpycEePb9",
        "colab_type": "text"
      },
      "source": [
        "Using 'elif' allows for more nuance within conditional statements, in this example we're also introduced to more complex conditional statements. \n",
        "```\n",
        "elif int(time) >= 12 and int(time) < 17:\n",
        "```\n",
        "the 'and' means that the time variable has to be both greater (or equal) to 12 **and** less than 17 for it to pass this conditional statement.\n",
        "\n",
        "the three common **logical operators** that you may find useful are 'and', 'or', and 'not'.\n",
        "\n",
        "* **and** means both of the conditionals must be satisfied for it to pass.\n",
        "* **or** means that either one of the conditionals can be satisfied in order to pass.\n",
        "```\n",
        "if int(time) < 8 or int(time) > 20:\n",
        "    print(\"It's nighttime!\")\n",
        "```\n",
        "* **not** means that the opposite must be true for it to pass.\n",
        "```\n",
        "if int(time) not < 12:\n",
        "    print(Good afternoon!)\n",
        "```\n",
        "\n",
        "###**note on formatting:** \n",
        "At the end of the 'if' or 'elif' statement, there **must** be a colon followed by a newline that is **indented**."
      ]
    },
    {
      "cell_type": "markdown",
      "metadata": {
        "id": "Gt_wji1glZ9I",
        "colab_type": "text"
      },
      "source": [
        "###**Loops and Iteration:**\n",
        "\n",
        "Loops are a way of doing something over and over again in Python (hence the name 'looping'). They become very powerful when combined with things like lists and conditional statements.\n",
        "\n",
        "A **loop** is when you write some code to do something repeatedly (sometimes with slight changes with every loop) until you reach a desired outcome. There are two main kinds of loops in Python:\n",
        "* **for loops**: a **for loop** is done *for* every item specified in the condition. They work well with lists and dictionaries to cycle though their contents individually\n",
        "  * the syntax for a **for loop** is as follows: \n",
        "  ```\n",
        "  for X in Y:\n",
        "      do something\n",
        "  ```\n",
        "  where Y is the object we iterate through (such as a list) and X is an arbitrary, temporary variable that represents the item in Y through each loop.\n",
        "  That sounds a little confusing, lets look at the code below to get a better idea of what I mean."
      ]
    },
    {
      "cell_type": "code",
      "metadata": {
        "id": "50fx6utnM084",
        "colab_type": "code",
        "colab": {}
      },
      "source": [
        "pizza_ingredients = ['dough', 'peperoni', 'cheese', 'pineapple', 'ham', 'anchovies']\n",
        "\n",
        "for ingredient in pizza_ingredients:\n",
        "  print('The ingredient is: ' + ingredient)"
      ],
      "execution_count": 0,
      "outputs": []
    },
    {
      "cell_type": "markdown",
      "metadata": {
        "id": "40gFbgVQOg6h",
        "colab_type": "text"
      },
      "source": [
        "So we have our list variable \"pizza_ingredients\" from earlier, and we used our **for loop** to iterate through each ingredient individually and print out a simple string that changes with each loop. \n",
        "\n",
        "There's a few important syntax rules we need to follow when making loops, and they're similar to our rules for conditional statements from earlier. \n",
        "1. We need our key-word **for** to start things off.\n",
        "  ```\n",
        "  for ingredient in pizza_ingredients:\n",
        "  ^^^\n",
        "  ```\n",
        "2. The next word is important as it will be our \"item\" variable we may refrence in the loop, it can be any word, I chose \"ingredient\" because it makes sense in the context. Remember your code should be as readable as possible!\n",
        "  ```\n",
        "  for ingredient in pizza_ingredients:\n",
        "       ^^^^^^^^^^\n",
        "  ```\n",
        "3. The next word **in** is just as necessary as **for** and paves into the final words of what we want to iterate through, in our case it was the **list** \"pizza_ingredients\".\n",
        "  ```\n",
        "  for ingredient in pizza_ingredients:\n",
        "                  ^^ ^^^^^^^^^^^^^^^^^\n",
        "  ```\n",
        "4. The first line of the for loop MUST end in a colon, just like in conditional statements.\n",
        "  ```\n",
        "  for ingredient in pizza_ingredients:\n",
        "                                      ^\n",
        "  ```\n",
        "5. Finally, just like conditional statements, the next line should start with a tab.\n",
        "  ```\n",
        "  for ingredient in pizza_ingredients:\n",
        "       print('The ingredient is: ' + ingredient)\n",
        "  ^^^^\n",
        "  ```\n",
        "\n",
        "\n",
        "What about the other kinds of loops I mentioned earlier? The other kind are **while loops** and work similarly to **for loops**, except will continue looping while a certain condition is **True**. Lets look at the example below."
      ]
    },
    {
      "cell_type": "code",
      "metadata": {
        "id": "mOZ6RYFxSqO-",
        "colab_type": "code",
        "colab": {}
      },
      "source": [
        "number = 0\n",
        "\n",
        "while number < 10:\n",
        "  print(number)\n",
        "  number += 1  # this is the same as number = number + 1"
      ],
      "execution_count": 0,
      "outputs": []
    },
    {
      "cell_type": "markdown",
      "metadata": {
        "id": "wHMwlPGyTTW0",
        "colab_type": "text"
      },
      "source": [
        "Here we start with a variable called \"number\" that equals 0. we say **while** that number variable is less than 10, print it out to the screen. Now if we never change the value of the number variable the loop would continue to print \"0\" indefinitely, so we add 1 to its value with each loop, and eventually \"number\" reaches 10 and the condition:\n",
        "```\n",
        "number < 10\n",
        "```\n",
        "will return **False** and the **while loop** will stop.\n",
        "\n",
        "We'll go over one other way to create **while loops**, first we'll create a loop that continues indefinitely by starting the loop with:\n",
        "```\n",
        "while True:\n",
        "```\n",
        "since while can now never return false it will never end. To get out of this we will use the **break** statement. The **break** statement, when passed, will immediately break out of the loop, if we pair this with a **conditional statement** we can achieve the same thing as our other loop."
      ]
    },
    {
      "cell_type": "code",
      "metadata": {
        "colab_type": "code",
        "id": "VPpWWhyQTPf6",
        "colab": {}
      },
      "source": [
        "number = 0\n",
        "\n",
        "while True:\n",
        "  print(number)\n",
        "  number += 1\n",
        "  if number == 10:\n",
        "    break"
      ],
      "execution_count": 0,
      "outputs": []
    },
    {
      "cell_type": "markdown",
      "metadata": {
        "id": "tMJuufPPtWv0",
        "colab_type": "text"
      },
      "source": [
        "#**Functions**\n",
        "The final piece of Python basics we're going to cover today is about **functions**.\n",
        "We've used a few of these already today, Python comes with many built in.\n",
        "\n",
        "any text followed immediately by parentheses () is a function. The print() function is one we've been using a lot. A few others we've used already are:\n",
        "\n",
        "* int()\n",
        "* float()\n",
        "* str()\n",
        "\n",
        "Most functions take one or more **arguments**, you can think of this as input to tell the function what to do. the print() function takes a string argument and 'prints' it to the console. The data conversion funcions above take a data type and attempt to convert it. Functions should be built to do one thing only.\n",
        "\n",
        "\n",
        "We can define our own custom functions that we can use later on as well."
      ]
    },
    {
      "cell_type": "code",
      "metadata": {
        "id": "th09kFhUtU1X",
        "colab_type": "code",
        "colab": {}
      },
      "source": [
        "def Greeter(firstname, lastname):\n",
        "  \"\"\"\n",
        "  A simple function that takes a first name and last name \n",
        "  and prints a formatted greeting.\n",
        "  \"\"\"\n",
        "  print('Hi ' + firstname.title() + ' ' + lastname.title() + '! How are you?')\n",
        "\n",
        "\n",
        "# Greeter('roberto', 'french')  # if we comment out this line, when we run this nothing happens."
      ],
      "execution_count": 0,
      "outputs": []
    },
    {
      "cell_type": "markdown",
      "metadata": {
        "id": "e0IZXY28tUaw",
        "colab_type": "text"
      },
      "source": [
        "Here we defined our own function, called \"Greeter\". It needs two arguments: \"firstname\" and \"lastname\" separated by a comma. In functions, every argument needs to be separated by a comma. \n",
        "\n",
        "When we define our own functions, we need to start with the keyword \"def\" and then the function name. Next we need to follow that name with some parentheses and the arguments we want, if any. Some functions don't need any arguments like the **.lower()** function we used earlier, but notice it still needs the parentheses. After we have \"def\" and the function name and arguments, we need a colon and a newline that is indented. Notice in the \"Greeter\" function I then have three quotation marks followed by a description of the function before closing it out with another three quotation marks. This isn't necessary for the function to work but again is a good habit to get into to make your code readable and easily understood."
      ]
    },
    {
      "cell_type": "markdown",
      "metadata": {
        "id": "sFqkqE9UcyH0",
        "colab_type": "text"
      },
      "source": [
        "# **End of Week 1**\n",
        "\n",
        "If you continue scrolling down there's some helpful links as well as some practice tasks you can try and complete if you want.\n",
        "\n",
        "Next week we'll dive into some Python libraries that are very useful for reading and manipulating data, as well as visualisation and statistical testing."
      ]
    },
    {
      "cell_type": "markdown",
      "metadata": {
        "id": "rBs3dO7CTkwq",
        "colab_type": "text"
      },
      "source": [
        "###__Further Reading:__\n",
        "\n",
        "* http://www.python.org - The official web page of the Python programming language.\n",
        "* http://www.python.org/dev/peps/pep-0008 - Style guide for Python programming. Highly recommended. \n",
        "* http://www.greenteapress.com/thinkpython/ - A free book on Python programming.\n",
        "* [Python Essential Reference](http://www.amazon.com/Python-Essential-Reference-4th-Edition/dp/0672329786) - A good reference book on Python programming.\n",
        "* https://automatetheboringstuff.com/ - free e-book and online course that goes over the basics as well as some practical examples."
      ]
    },
    {
      "cell_type": "markdown",
      "metadata": {
        "id": "c-qcjcMsXfpL",
        "colab_type": "text"
      },
      "source": [
        "# **PRACTICE TASKS**\n",
        "We've provided two partially completed scripts here that you can use to practice some of the things we went over today. Don't \n",
        "\n",
        "The first is something that is a little easier, while the second is more advanced and will require a little bit of reading on how the random.randint() and .join() functions work."
      ]
    },
    {
      "cell_type": "markdown",
      "metadata": {
        "id": "GCNYyWfbjMnp",
        "colab_type": "text"
      },
      "source": [
        "## **Practice #1**\n",
        "In this first practice script we'll practice using loops, conditional statements, and different variable types all at once.\n",
        "\n",
        "Your goal is to finish the below script to let a user create a shopping list, you will need to accept input on each item of the list and at the end print out the entire list to the console using print().\n",
        "\n",
        "The link to the task is [here](https://repl.it/@RobertoFrench/variablepractice)"
      ]
    },
    {
      "cell_type": "markdown",
      "metadata": {
        "id": "b4Itp4tHezBV",
        "colab_type": "text"
      },
      "source": [
        "## **Practice #2**\n",
        "\n",
        "Some of you may be familiar with \"mocking spongebob\"\n",
        "\n",
        "\n",
        "\n",
        "![Spongebob mocking meme](https://i.kym-cdn.com/photos/images/original/001/253/033/7aa.jpg)\n",
        "\n",
        "In the final link below you'll find some partially completed code. Your task is to create a function that takes an input string, randomly capitalizes some letters and prints this new string like the mocking spongebob meme.\n",
        "\n",
        "example:\n",
        "```\n",
        "input_string = \"wow Python is so cool\"\n",
        "\n",
        "output = \"wOW pYTHoN Is So CoOL\"\n",
        "```\n",
        "This is a little tougher than the other practice, one of the things that you may need to help are the random.randint() function which selects a random number. \n",
        "\n",
        "randint() info [here](https://www.geeksforgeeks.org/python-randint-function/)\n",
        "\n",
        "You may also need the .join() function which will stitch a list together into one long string.\n",
        "\n",
        ".join() info [here](https://www.geeksforgeeks.org/join-function-python/)\n",
        "\n",
        "finally, here's the [link to the task](https://repl.it/@RobertoFrench/mocker)"
      ]
    },
    {
      "cell_type": "markdown",
      "metadata": {
        "id": "wHFu1oAyMRRR",
        "colab_type": "text"
      },
      "source": [
        "# **Contact Info**\n",
        "\n",
        "Feel free to contact either of us with any questions, whether it's about the practice tasks or something that wasn't clear during the session. \n",
        "\n",
        "Roberto French (roberto.french@nationwidechildrens.org)\n",
        "\n",
        "Connor Grannis (connor.grannis@nationwidechildrens.org)"
      ]
    }
  ]
}