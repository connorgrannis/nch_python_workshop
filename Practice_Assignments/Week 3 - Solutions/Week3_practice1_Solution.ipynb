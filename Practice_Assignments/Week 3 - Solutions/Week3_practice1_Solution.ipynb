{
  "nbformat": 4,
  "nbformat_minor": 0,
  "metadata": {
    "colab": {
      "name": "Week3-practice2-Solution.ipynb",
      "provenance": [],
      "authorship_tag": "ABX9TyNRpsnahPoPc2SnbdTSI/8Z",
      "include_colab_link": true
    },
    "kernelspec": {
      "name": "python3",
      "display_name": "Python 3"
    }
  },
  "cells": [
    {
      "cell_type": "markdown",
      "metadata": {
        "id": "view-in-github",
        "colab_type": "text"
      },
      "source": [
        "<a href=\"https://colab.research.google.com/github/connorgrannis/nch_python_workshop/blob/master/Practice_Assignments/Week%203%20-%20Solutions/Week3_practice1_Solution.ipynb\" target=\"_parent\"><img src=\"https://colab.research.google.com/assets/colab-badge.svg\" alt=\"Open In Colab\"/></a>"
      ]
    },
    {
      "cell_type": "code",
      "metadata": {
        "id": "LuSVGuvWLnc4",
        "colab_type": "code",
        "colab": {}
      },
      "source": [
        "# import packages\n",
        "import numpy as np\n",
        "import pandas as pd\n",
        "import matplotlib.pyplot as plt\n",
        "import seaborn as sns\n",
        "\n",
        "titanic = pd.read_csv('https://raw.githubusercontent.com/agconti/kaggle-titanic/master/data/train.csv')"
      ],
      "execution_count": 0,
      "outputs": []
    },
    {
      "cell_type": "code",
      "metadata": {
        "id": "CVFcXWCIL6BP",
        "colab_type": "code",
        "outputId": "4a8d199f-1d82-42e7-fdd0-6902dab51be3",
        "colab": {
          "base_uri": "https://localhost:8080/",
          "height": 51
        }
      },
      "source": [
        "# drop the three highest fares from above\n",
        "print(titanic.shape)\n",
        "rowstodrop = list(titanic.nlargest(3, 'Fare').index)\n",
        "for row in rowstodrop:\n",
        "  titanic.drop(row, inplace=True)\n",
        "print(titanic.shape)"
      ],
      "execution_count": 2,
      "outputs": [
        {
          "output_type": "stream",
          "text": [
            "(891, 12)\n",
            "(888, 12)\n"
          ],
          "name": "stdout"
        }
      ]
    },
    {
      "cell_type": "code",
      "metadata": {
        "id": "JQhSLTn9MCHK",
        "colab_type": "code",
        "outputId": "985d84bb-0a16-4577-a6be-f5f4f04889f7",
        "colab": {
          "base_uri": "https://localhost:8080/",
          "height": 296
        }
      },
      "source": [
        "# bar plot that we want to annotate\n",
        "sns.barplot(x='Survived', y='Fare', hue='Sex', data=titanic, ci=68)"
      ],
      "execution_count": 3,
      "outputs": [
        {
          "output_type": "execute_result",
          "data": {
            "text/plain": [
              "<matplotlib.axes._subplots.AxesSubplot at 0x7f8448893860>"
            ]
          },
          "metadata": {
            "tags": []
          },
          "execution_count": 3
        },
        {
          "output_type": "display_data",
          "data": {
            "image/png": "[encoded data removed]",
            "text/plain": [
              "<Figure size 432x288 with 1 Axes>"
            ]
          },
          "metadata": {
            "tags": [],
            "needs_background": "light"
          }
        }
      ]
    },
    {
      "cell_type": "code",
      "metadata": {
        "id": "9f7KKsvtMARG",
        "colab_type": "code",
        "colab": {
          "base_uri": "https://localhost:8080/",
          "height": 376
        },
        "outputId": "1035bc63-76ad-4050-97ea-812b7945b883"
      },
      "source": [
        "# put it all together\n",
        "# empty lists to store the heights and centers of both graphs\n",
        "heights = []\n",
        "centers = []\n",
        "\n",
        "# to save keystrokes and minimize room for error\n",
        "x = 'Survived'\n",
        "y = 'Fare'\n",
        "\n",
        "# create figure\n",
        "plt.figure()\n",
        "splot = sns.barplot(x=x, y=y, hue='Sex', data=titanic, ci=68)\n",
        "plt.xticks(ticks=range(2), labels=[\"No\", \"Yes\"])\n",
        "\n",
        "# setting the upper range of the y-axis so we'll have room for brackets\n",
        "plt.ylim(top=titanic[y].max())\n",
        "\n",
        "# use \"patches\" to get attributes of each bar\n",
        "for p in splot.patches:\n",
        "  heights.append(p.get_height())\n",
        "  # get the x-coordinate of where the bar starts and add half of the width to get the center\n",
        "  centers.append(p.get_x() + p.get_width() /2.) # using 2. instead of 2 to make it a float\n",
        "  \n",
        "# set the bracket height of an eighth of the above the \n",
        "lineheight = np.array(heights).max() + titanic[y].max()/8\n",
        "\n",
        "# create brackets out of two vertical lines, and one horizontal line\n",
        "plt.plot([centers[0], centers[0]], [lineheight-titanic[y].max()/20, lineheight], c='k')      # first tick\n",
        "plt.plot([centers[0], centers[1]], [lineheight, lineheight], c='k')        # line\n",
        "plt.plot([centers[1], centers[1]], [lineheight-titanic[y].max()/20, lineheight], c='k')      # end tick\n",
        "\n",
        "# add text above line\n",
        "plt.annotate(\"p-value = ??\", (.4, lineheight+titanic[y].max()/20))\n",
        "\n",
        "# add title\n",
        "plt.title(f'{y} by {x}')\n",
        "\n",
        "# display plot\n",
        "plt.show()"
      ],
      "execution_count": 7,
      "outputs": [
        {
          "output_type": "display_data",
          "data": {
            "image/png": "[encoded data removed]",
            "text/plain": [
              "<Figure size 576x396 with 1 Axes>"
            ]
          },
          "metadata": {
            "tags": []
          }
        }
      ]
    },
    {
      "cell_type": "code",
      "metadata": {
        "id": "GuIY_zkALT9a",
        "colab_type": "code",
        "colab": {
          "base_uri": "https://localhost:8080/",
          "height": 376
        },
        "outputId": "767291b9-59a6-4fcc-cebb-c0c754f3e6b5"
      },
      "source": [
        "# put it all together\n",
        "# empty lists to store the heights and centers of both graphs\n",
        "heights = []\n",
        "centers = []\n",
        "\n",
        "# to save keystrokes and minimize room for error\n",
        "x = 'Survived'\n",
        "y = 'Fare'\n",
        "\n",
        "# changing the graphing theme\n",
        "# plt.style.use(\"seaborn\")\n",
        "\n",
        "# create figure\n",
        "plt.figure()\n",
        "splot = sns.barplot(x=x, y=y, hue='Sex', data=titanic, ci=68)\n",
        "plt.xticks(ticks=range(2), labels=[\"No\", \"Yes\"])\n",
        "\n",
        "# setting the upper range of the y-axis so we'll have room for brackets\n",
        "plt.ylim(top=titanic[y].max())\n",
        "\n",
        "# use \"patches\" to get attributes of each bar\n",
        "for p in splot.patches:\n",
        "  heights.append(p.get_height())\n",
        "  # get the x-coordinate of where the bar starts and add half of the width to get the center\n",
        "  centers.append(p.get_x() + p.get_width() /2.) # using 2. instead of 2 to make it a float\n",
        "  \n",
        "  \n",
        "# sort heights and centers\n",
        "heights.sort()\n",
        "centers.sort()\n",
        "\n",
        "# set the bracket height to an eighth of the max value above the average\n",
        "lineheight = np.array(heights).max() + titanic[y].max()/8\n",
        "\n",
        "# create brackets out of two vertical lines, and one horizontal line\n",
        "plt.plot([centers[2], centers[2]], [lineheight-titanic[y].max()/20, lineheight], c='k')      # first tick\n",
        "plt.plot([centers[2], centers[3]], [lineheight, lineheight], c='k')        # line\n",
        "plt.plot([centers[3], centers[3]], [lineheight-titanic[y].max()/20, lineheight], c='k')      # end tick\n",
        "\n",
        "# add text above line\n",
        "plt.annotate(\"p-value = ??\", (0.9, lineheight+titanic[y].max()/20))\n",
        "\n",
        "# set the bracket height to an eighth of the max value above the average\n",
        "lineheight = np.array(heights).max() + titanic[y].max()/6\n",
        "\n",
        "# create brackets out of two vertical lines, and one horizontal line\n",
        "plt.plot([centers[0], centers[0]], [lineheight-titanic[y].max()/20, lineheight], c='k')      # first tick\n",
        "plt.plot([centers[0], centers[2]-0.05], [lineheight, lineheight], c='k')        # line\n",
        "plt.plot([centers[2]-0.05, centers[2]-0.05], [lineheight-titanic[y].max()/20, lineheight], c='k')      # end tick\n",
        "\n",
        "# add text above line\n",
        "plt.annotate(\"p-value = ??\", (0.3, lineheight+titanic[y].max()/20))\n",
        "\n",
        "# set the bracket height to an eighth of the max value above the average\n",
        "lineheight = np.array(heights).max() + titanic[y].max()/4\n",
        "\n",
        "# create brackets out of two vertical lines, and one horizontal line\n",
        "plt.plot([centers[1], centers[1]], [lineheight-titanic[y].max()/20, lineheight], c='k')      # first tick\n",
        "plt.plot([centers[1], centers[3]], [lineheight, lineheight], c='k')        # line\n",
        "plt.plot([centers[3], centers[3]], [lineheight-titanic[y].max()/20, lineheight], c='k')      # end tick\n",
        "\n",
        "# add text above line\n",
        "plt.annotate(\"p-value = ??\", (0.7, lineheight+titanic[y].max()/20))\n",
        "\n",
        "# add title\n",
        "plt.title(f'{y} by {x}')\n",
        "\n",
        "# display plot\n",
        "plt.show()"
      ],
      "execution_count": 8,
      "outputs": [
        {
          "output_type": "display_data",
          "data": {
            "image/png": "[encoded data removed]",
            "text/plain": [
              "<Figure size 576x396 with 1 Axes>"
            ]
          },
          "metadata": {
            "tags": []
          }
        }
      ]
    }
  ]
}