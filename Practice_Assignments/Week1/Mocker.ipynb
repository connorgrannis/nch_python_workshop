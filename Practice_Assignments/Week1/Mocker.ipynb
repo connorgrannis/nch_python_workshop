{
  "nbformat": 4,
  "nbformat_minor": 0,
  "metadata": {
    "colab": {
      "name": "Mocker.ipynb",
      "provenance": [],
      "collapsed_sections": [],
      "authorship_tag": "ABX9TyN7Jrc3IvoR9RDw/BuuZhgA",
      "include_colab_link": true
    },
    "kernelspec": {
      "name": "python3",
      "display_name": "Python 3"
    }
  },
  "cells": [
    {
      "cell_type": "markdown",
      "metadata": {
        "id": "view-in-github",
        "colab_type": "text"
      },
      "source": [
        "<a href=\"https://colab.research.google.com/github/connorgrannis/nch_python_workshop/blob/master/Practice_Assignments/Week1/Mocker.ipynb\" target=\"_parent\"><img src=\"https://colab.research.google.com/assets/colab-badge.svg\" alt=\"Open In Colab\"/></a>"
      ]
    },
    {
      "cell_type": "markdown",
      "metadata": {
        "id": "1exsNTQiQBXU",
        "colab_type": "text"
      },
      "source": [
        "# Practice #2:\n",
        "maKe a moCkER"
      ]
    },
    {
      "cell_type": "code",
      "metadata": {
        "id": "yneWWpuMRILE",
        "colab_type": "code",
        "colab": {}
      },
      "source": [
        "# We'll go over this more next session, \n",
        "# but this is how we can import packages we want to use in Python.\n",
        "# In this case I've already imported the 'random' library below.\n",
        "# We don't need to import .join() as is is a default string method.\n",
        "\n",
        "import random"
      ],
      "execution_count": 0,
      "outputs": []
    },
    {
      "cell_type": "code",
      "metadata": {
        "id": "EFXIYjQsP_FJ",
        "colab_type": "code",
        "colab": {}
      },
      "source": [
        "############################################## CLUES ##########################################################\n",
        "\n",
        "# A few clues to help you out.\n",
        "\n",
        "# random.randint example:\n",
        "random_integer = random.randint(1, 10)  # Try changing these arguments and seeing what happens.\n",
        "print(random_integer)\n",
        "\n",
        "# .join() example:\n",
        "hello_letters = ['h', 'e', 'l', 'l', 'o']\n",
        "hello = \"\\n\".join(hello_letters) # Experiment with what goes in the quotes before .join()\n",
        "print(hello)\n",
        "\n",
        "# One more clue: \n",
        "alphabet = \"abcdefghijklmnopqrstuvwxyz\"\n",
        "listed_alphabet = list(alphabet)  # What does this do to the contiguous alphabet string?\n",
        "print(listed_alphabet)\n"
      ],
      "execution_count": 0,
      "outputs": []
    },
    {
      "cell_type": "code",
      "metadata": {
        "id": "f5891DONQ_vS",
        "colab_type": "code",
        "colab": {}
      },
      "source": [
        "def Mocker(input_string):\n",
        "\n",
        "  # In this space you need to somehow modify the input_string to our desired result\n",
        "  #   (random letters uppercase) before printing it out to the screen. \n",
        "  \n",
        "  print(output_string)"
      ],
      "execution_count": 0,
      "outputs": []
    }
  ]
}