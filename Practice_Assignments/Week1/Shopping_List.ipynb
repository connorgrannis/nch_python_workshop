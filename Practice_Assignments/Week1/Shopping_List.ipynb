{
  "nbformat": 4,
  "nbformat_minor": 0,
  "metadata": {
    "colab": {
      "name": "Shopping List.ipynb",
      "provenance": [],
      "collapsed_sections": [],
      "authorship_tag": "ABX9TyNkRCcXTjQbixUoci+Jpsgw",
      "include_colab_link": true
    },
    "kernelspec": {
      "name": "python3",
      "display_name": "Python 3"
    }
  },
  "cells": [
    {
      "cell_type": "markdown",
      "metadata": {
        "id": "view-in-github",
        "colab_type": "text"
      },
      "source": [
        "<a href=\"https://colab.research.google.com/github/connorgrannis/nch_python_workshop/blob/master/Practice_Assignments/Week1/Shopping_List.ipynb\" target=\"_parent\"><img src=\"https://colab.research.google.com/assets/colab-badge.svg\" alt=\"Open In Colab\"/></a>"
      ]
    },
    {
      "cell_type": "markdown",
      "metadata": {
        "id": "UW0H79dyOVyt",
        "colab_type": "text"
      },
      "source": [
        "# Practice #1:\n",
        "Create a shopping list that prompts you to add items."
      ]
    },
    {
      "cell_type": "code",
      "metadata": {
        "id": "yAMUzMX6OT4R",
        "colab_type": "code",
        "colab": {}
      },
      "source": [
        "\n",
        "name = input(\"Who's shopping list is this? \")     # This will capture user input and save it as name.\n",
        "\n",
        "while True:     # What does this mean? how can we exit the loop?\n",
        "\n",
        "  ## 1. Next we need code to capture any things the user wants to put on the shopping list. \n",
        "  #     (Hint: it's similar to the first line.)\n",
        "\n",
        "  ## 2. Now we need to take that new item and put it at the end of the shopping list.\n",
        "  #     What variable would work well to capture all the items in our shopping list?\n",
        "  #     How can we add to that shopping list?\n",
        "\n",
        "  ## 3. Eventually we need a way to get out of this loop.\n",
        "  #     We only want to break the loop when the user has put in everything they want.\n",
        "  #     We could use another input that asks if they are done each time, \n",
        "  #     and only break depending on their answer.\n",
        "\n",
        "\n",
        "  ## 4. Now we're out of the loop, let's add something to print a short sentence with the info we have,\n",
        "  #     something like \"____'s Shopping List:\" followed by each item in the shopping list indented.\n",
        "  #     A for loop would work well here, to iterate through each item of the shopping list.\n",
        "\n"
      ],
      "execution_count": 0,
      "outputs": []
    },
    {
      "cell_type": "markdown",
      "metadata": {
        "id": "G32QDJsOPR7N",
        "colab_type": "text"
      },
      "source": [
        "BONUS: Modify your script to add in a way for the user to add in the amount they want of each item.  Make sure to modify your final print statement at the end to reflect this!"
      ]
    },
    {
      "cell_type": "code",
      "metadata": {
        "id": "sXDXu8WxPRh2",
        "colab_type": "code",
        "colab": {}
      },
      "source": [
        ""
      ],
      "execution_count": 0,
      "outputs": []
    }
  ]
}