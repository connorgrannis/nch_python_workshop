{
  "nbformat": 4,
  "nbformat_minor": 0,
  "metadata": {
    "colab": {
      "name": "Week 4 solutions.ipynb",
      "provenance": [],
      "collapsed_sections": [],
      "authorship_tag": "ABX9TyPE+f3WOijPmxN7/aThPwpM",
      "include_colab_link": true
    },
    "kernelspec": {
      "name": "python3",
      "display_name": "Python 3"
    }
  },
  "cells": [
    {
      "cell_type": "markdown",
      "metadata": {
        "id": "view-in-github",
        "colab_type": "text"
      },
      "source": [
        "<a href=\"https://colab.research.google.com/github/connorgrannis/nch_python_workshop/blob/master/Practice_Assignments/Week_4_solutions/Week_4_solutions.ipynb\" target=\"_parent\"><img src=\"https://colab.research.google.com/assets/colab-badge.svg\" alt=\"Open In Colab\"/></a>"
      ]
    },
    {
      "cell_type": "markdown",
      "metadata": {
        "id": "Jk_FN9X2unfp",
        "colab_type": "text"
      },
      "source": [
        "# Exercise #1"
      ]
    },
    {
      "cell_type": "code",
      "metadata": {
        "id": "ZL9Nor4zuVrh",
        "colab_type": "code",
        "colab": {}
      },
      "source": [
        "# import packages\n",
        "import numpy as np\n",
        "import pandas as pd\n",
        "import matplotlib.pyplot as plt\n",
        "import seaborn as sns\n",
        "from scipy import stats\n",
        "\n",
        "titanic = pd.read_csv('https://raw.githubusercontent.com/agconti/kaggle-titanic/master/data/train.csv')\n"
      ],
      "execution_count": 0,
      "outputs": []
    },
    {
      "cell_type": "code",
      "metadata": {
        "id": "52Y_X664-Lja",
        "colab_type": "code",
        "colab": {
          "base_uri": "https://localhost:8080/",
          "height": 329
        },
        "outputId": "6943024c-2832-433b-c14d-5a42e1f8c683"
      },
      "source": [
        "# drop the three highest fares from above\n",
        "print(titanic.shape)\n",
        "rowstodrop = list(titanic.nlargest(3, 'Fare').index)\n",
        "for row in rowstodrop:\n",
        "  titanic.drop(row, inplace=True)\n",
        "print(titanic.shape)\n",
        "\n",
        "# put it all together\n",
        "# empty lists to store the heights and centers of both graphs\n",
        "heights = []\n",
        "centers = []\n",
        "\n",
        "# to save keystrokes and minimize room for error\n",
        "x = 'Survived'\n",
        "y = 'Fare'\n",
        "\n",
        "# create figure\n",
        "plt.figure()\n",
        "splot = sns.barplot(x=x, y=y, data=titanic, ci=68)\n",
        "plt.xticks(ticks=range(2), labels=[\"No\", \"Yes\"])\n",
        "\n",
        "# setting the upper range of the y-axis so we'll have room for brackets\n",
        "plt.ylim(top=titanic[y].max())\n",
        "\n",
        "# use \"patches\" to get attributes of each bar\n",
        "for p in splot.patches:\n",
        "  heights.append(p.get_height())\n",
        "  # get the x-coordinate of where the bar starts and add half of the width to get the center\n",
        "  centers.append(p.get_x() + p.get_width() /2.) # using 2. instead of 2 to make it a float\n",
        "  \n",
        "# set the bracket height of an eighth of the above the \n",
        "lineheight = np.array(heights).max() + titanic[y].max()/8\n",
        "\n",
        "# create brackets out of two vertical lines, and one horizontal line\n",
        "plt.plot([centers[0], centers[0]], [lineheight-titanic[y].max()/20, lineheight], c='k')      # first tick\n",
        "plt.plot([centers[0], centers[1]], [lineheight, lineheight], c='k')        # line\n",
        "plt.plot([centers[1], centers[1]], [lineheight-titanic[y].max()/20, lineheight], c='k')      # end tick\n",
        "\n",
        "# t-test to see if there are significant fare differences between survivors and non-survivors\n",
        "survived = titanic['Survived'] == 1\n",
        "died = titanic['Survived'] == 0\n",
        "t, p = stats.ttest_ind(titanic[survived]['Fare'], titanic[died]['Fare'], nan_policy='omit')\n",
        "\n",
        "# conditionally writing the p-value\n",
        "if p < 0.001:\n",
        "  p = 0.001\n",
        "  plt.annotate(f\"p-value < {p}\", (.4, lineheight+titanic[y].max()/20))\n",
        "else:\n",
        "  plt.annotate(f\"p-value = {np.round(p, 3)}\", (.4, lineheight+titanic[y].max()/20))\n",
        "\n",
        "# add title\n",
        "plt.title(f'{y} by {x}')\n",
        "\n",
        "# display plot\n",
        "plt.show()"
      ],
      "execution_count": 17,
      "outputs": [
        {
          "output_type": "stream",
          "text": [
            "(864, 12)\n",
            "(861, 12)\n"
          ],
          "name": "stdout"
        },
        {
          "output_type": "display_data",
          "data": {
            "image/png": "[encoded data removed]",
            "text/plain": [
              "<Figure size 432x288 with 1 Axes>"
            ]
          },
          "metadata": {
            "tags": [],
            "needs_background": "light"
          }
        }
      ]
    },
    {
      "cell_type": "markdown",
      "metadata": {
        "id": "JooQ4OWhurGl",
        "colab_type": "text"
      },
      "source": [
        "# Exercise #2"
      ]
    },
    {
      "cell_type": "code",
      "metadata": {
        "id": "QhsWRBdhusnR",
        "colab_type": "code",
        "colab": {}
      },
      "source": [
        "import os, sys, re    # `re` is a package that uses regex (regular expressions). We won't go into this too much, \n",
        "# but it's an efficient way to search for strings\n",
        "import numpy as np\n",
        "import pandas as pd\n",
        "import matplotlib.pyplot as plt\n",
        "import seaborn as sns\n",
        "\n",
        "# load the dataset\n",
        "movies = pd.read_csv('https://raw.githubusercontent.com/harshitcodes/tmdb_movie_data_analysis/master/tmdb-5000-movie-dataset/tmdb_5000_movies.csv')"
      ],
      "execution_count": 0,
      "outputs": []
    },
    {
      "cell_type": "code",
      "metadata": {
        "id": "PZR7KXyYuwMZ",
        "colab_type": "code",
        "colab": {}
      },
      "source": [
        "genres = []   # empty list that we'll populate with the extracted values\n",
        "for row in range(len(movies['genres'])):\n",
        "  genre_start = [m.start()+8 for m in re.finditer('\"name\"', movies.genres[row])]    # list comprehension that finds each instance of '\"name\"' and adds 8 to get to the start of the actual value\n",
        "  genres.append(', '.join([movies.genres[row][genre_start[i]: movies.genres[row].find('}', genre_start[i])] for i in range(len(genre_start))]))\n",
        "  # that's a confusing line ^^\n",
        "  # basically, for each instance of '\"name\"' we're going to collect the text from 8 characters past '\"name\"' until the next '}' and add that value to our genres list\n",
        "  # and we're going to repeat this for each row in the dataframe"
      ],
      "execution_count": 0,
      "outputs": []
    },
    {
      "cell_type": "code",
      "metadata": {
        "id": "oJj1Mp1tuzhS",
        "colab_type": "code",
        "colab": {}
      },
      "source": [
        "production_companies = []\n",
        "for row in range(len(movies['production_companies'])):\n",
        "  prod_start = [m.start()+8 for m in re.finditer('\"name\"', movies.production_companies[row])]\n",
        "  production_companies.append(', '.join([movies.production_companies[row][prod_start[i]: movies.production_companies[row].find(',', prod_start[i])] for i in range(len(prod_start))]))\n",
        "  "
      ],
      "execution_count": 0,
      "outputs": []
    },
    {
      "cell_type": "code",
      "metadata": {
        "id": "qtSyGKXLu17Z",
        "colab_type": "code",
        "colab": {}
      },
      "source": [
        "movies['genres'] = genres\n",
        "movies['production_companies'] = production_companies\n",
        "movies['profit'] = movies.revenue - movies.budget"
      ],
      "execution_count": 0,
      "outputs": []
    },
    {
      "cell_type": "code",
      "metadata": {
        "id": "IW3Y83lGu4uR",
        "colab_type": "code",
        "outputId": "96c9a286-ce60-46a3-a2e8-14fa1dd0fca8",
        "colab": {
          "base_uri": "https://localhost:8080/",
          "height": 221
        }
      },
      "source": [
        "marvel = ['Marvel' in movies.loc[title]['production_companies'] for title in movies.index]\n",
        "marvel = movies[marvel]\n",
        "marvel['Company'] = 'Marvel'\n",
        "\n",
        "dc = ['DC Entertainment' in movies.loc[title]['production_companies'] for title in movies.index]\n",
        "dc = movies[dc]\n",
        "dc['Company'] = 'DC'\n",
        "\n",
        "comics = pd.concat([marvel, dc])"
      ],
      "execution_count": 23,
      "outputs": [
        {
          "output_type": "stream",
          "text": [
            "/usr/local/lib/python3.6/dist-packages/ipykernel_launcher.py:3: SettingWithCopyWarning: \n",
            "A value is trying to be set on a copy of a slice from a DataFrame.\n",
            "Try using .loc[row_indexer,col_indexer] = value instead\n",
            "\n",
            "See the caveats in the documentation: https://pandas.pydata.org/pandas-docs/stable/user_guide/indexing.html#returning-a-view-versus-a-copy\n",
            "  This is separate from the ipykernel package so we can avoid doing imports until\n",
            "/usr/local/lib/python3.6/dist-packages/ipykernel_launcher.py:7: SettingWithCopyWarning: \n",
            "A value is trying to be set on a copy of a slice from a DataFrame.\n",
            "Try using .loc[row_indexer,col_indexer] = value instead\n",
            "\n",
            "See the caveats in the documentation: https://pandas.pydata.org/pandas-docs/stable/user_guide/indexing.html#returning-a-view-versus-a-copy\n",
            "  import sys\n"
          ],
          "name": "stderr"
        }
      ]
    },
    {
      "cell_type": "code",
      "metadata": {
        "id": "JN8z-ENWu9hT",
        "colab_type": "code",
        "outputId": "84ca6014-f755-4910-da0d-90860a038cd6",
        "colab": {
          "base_uri": "https://localhost:8080/",
          "height": 307
        }
      },
      "source": [
        "sns.scatterplot(x='popularity', y='profit', data=comics, hue='Company')"
      ],
      "execution_count": 24,
      "outputs": [
        {
          "output_type": "execute_result",
          "data": {
            "text/plain": [
              "<matplotlib.axes._subplots.AxesSubplot at 0x7f2cae17c320>"
            ]
          },
          "metadata": {
            "tags": []
          },
          "execution_count": 24
        },
        {
          "output_type": "display_data",
          "data": {
            "image/png": "[encoded data removed]",
            "text/plain": [
              "<Figure size 432x288 with 1 Axes>"
            ]
          },
          "metadata": {
            "tags": [],
            "needs_background": "light"
          }
        }
      ]
    },
    {
      "cell_type": "code",
      "metadata": {
        "id": "xDc3JSzpvEJa",
        "colab_type": "code",
        "outputId": "d6d03aa7-8b4d-4856-922a-91f11aa041b2",
        "colab": {
          "base_uri": "https://localhost:8080/",
          "height": 85
        }
      },
      "source": [
        " comics.groupby(['title'])['popularity'].max().sort_values()[-2:]"
      ],
      "execution_count": 25,
      "outputs": [
        {
          "output_type": "execute_result",
          "data": {
            "text/plain": [
              "title\n",
              "Guardians of the Galaxy    481.098624\n",
              "Deadpool                   514.569956\n",
              "Name: popularity, dtype: float64"
            ]
          },
          "metadata": {
            "tags": []
          },
          "execution_count": 25
        }
      ]
    },
    {
      "cell_type": "code",
      "metadata": {
        "id": "VO_pvW1kvGt7",
        "colab_type": "code",
        "outputId": "da4c005b-4cb7-40e7-eab2-37a30f925bc0",
        "colab": {
          "base_uri": "https://localhost:8080/",
          "height": 307
        }
      },
      "source": [
        "sns.scatterplot(x='popularity', y='profit', data=comics, hue='Company')\n",
        "plt.annotate(s='Guardians of the Galaxy', xy=(481, 600000000), xytext=(250, .2), arrowprops=dict(arrowstyle='fancy'))\n",
        "plt.annotate(s='Deadpool', xy=(514, 700000000), xytext=(450, 400000000), arrowprops=dict(arrowstyle='fancy'))"
      ],
      "execution_count": 26,
      "outputs": [
        {
          "output_type": "execute_result",
          "data": {
            "text/plain": [
              "Text(450, 400000000, 'Deadpool')"
            ]
          },
          "metadata": {
            "tags": []
          },
          "execution_count": 26
        },
        {
          "output_type": "display_data",
          "data": {
            "image/png": "[encoded data removed]",
            "text/plain": [
              "<Figure size 432x288 with 1 Axes>"
            ]
          },
          "metadata": {
            "tags": [],
            "needs_background": "light"
          }
        }
      ]
    },
    {
      "cell_type": "code",
      "metadata": {
        "id": "MvTFtK_UvI9c",
        "colab_type": "code",
        "outputId": "c4c09321-902d-4d61-83c9-b86c3ba388d7",
        "colab": {
          "base_uri": "https://localhost:8080/",
          "height": 51
        }
      },
      "source": [
        "from scipy import stats   # we only need the stats portion of scipy\n",
        "\n",
        "t, p = stats.ttest_ind(marvel['popularity'], dc['popularity'], nan_policy='omit')\n",
        "print(f't-stat is: {t}\\np-value is: {p}')"
      ],
      "execution_count": 27,
      "outputs": [
        {
          "output_type": "stream",
          "text": [
            "t-stat is: 0.34619198688410585\n",
            "p-value is: 0.7307113641871237\n"
          ],
          "name": "stdout"
        }
      ]
    },
    {
      "cell_type": "code",
      "metadata": {
        "id": "LApryDfAvLnq",
        "colab_type": "code",
        "outputId": "1c431c04-3e69-4c4a-9be6-d0afd4c3cb72",
        "colab": {
          "base_uri": "https://localhost:8080/",
          "height": 578
        }
      },
      "source": [
        "import statsmodels.formula.api as smf\n",
        "fullfactorial = smf.ols(formula='profit ~ runtime*popularity*C(Company)', data=comics)\n",
        "# fitting model\n",
        "results = fullfactorial.fit()\n",
        "\n",
        "print(results.summary())"
      ],
      "execution_count": 28,
      "outputs": [
        {
          "output_type": "stream",
          "text": [
            "                            OLS Regression Results                            \n",
            "==============================================================================\n",
            "Dep. Variable:                 profit   R-squared:                       0.608\n",
            "Model:                            OLS   Adj. R-squared:                  0.543\n",
            "Method:                 Least Squares   F-statistic:                     9.304\n",
            "Date:                Wed, 13 May 2020   Prob (F-statistic):           6.64e-07\n",
            "Time:                        17:49:42   Log-Likelihood:                -1027.7\n",
            "No. Observations:                  50   AIC:                             2071.\n",
            "Df Residuals:                      42   BIC:                             2087.\n",
            "Df Model:                           7                                         \n",
            "Covariance Type:            nonrobust                                         \n",
            "===========================================================================================================\n",
            "                                              coef    std err          t      P>|t|      [0.025      0.975]\n",
            "-----------------------------------------------------------------------------------------------------------\n",
            "Intercept                               -2.328e+08   6.56e+08     -0.355      0.725   -1.56e+09    1.09e+09\n",
            "C(Company)[T.Marvel]                    -3.741e+08   7.99e+08     -0.468      0.642   -1.99e+09    1.24e+09\n",
            "runtime                                   2.23e+06   6.15e+06      0.362      0.719   -1.02e+07    1.46e+07\n",
            "runtime:C(Company)[T.Marvel]             4.697e+06   7.28e+06      0.645      0.522      -1e+07    1.94e+07\n",
            "popularity                               -5.91e+06   1.15e+07     -0.514      0.610   -2.91e+07    1.73e+07\n",
            "popularity:C(Company)[T.Marvel]          1.256e+06   1.21e+07      0.104      0.918   -2.32e+07    2.57e+07\n",
            "runtime:popularity                       6.454e+04   7.84e+04      0.823      0.415   -9.38e+04    2.23e+05\n",
            "runtime:popularity:C(Company)[T.Marvel] -1.385e+04   8.52e+04     -0.163      0.872   -1.86e+05    1.58e+05\n",
            "==============================================================================\n",
            "Omnibus:                        6.652   Durbin-Watson:                   1.609\n",
            "Prob(Omnibus):                  0.036   Jarque-Bera (JB):                5.550\n",
            "Skew:                           0.719   Prob(JB):                       0.0624\n",
            "Kurtosis:                       3.771   Cond. No.                     6.71e+05\n",
            "==============================================================================\n",
            "\n",
            "Warnings:\n",
            "[1] Standard Errors assume that the covariance matrix of the errors is correctly specified.\n",
            "[2] The condition number is large, 6.71e+05. This might indicate that there are\n",
            "strong multicollinearity or other numerical problems.\n"
          ],
          "name": "stdout"
        }
      ]
    },
    {
      "cell_type": "code",
      "metadata": {
        "id": "DaAyXKIbvN1J",
        "colab_type": "code",
        "colab": {
          "base_uri": "https://localhost:8080/",
          "height": 476
        },
        "outputId": "bf2db9c1-7c6f-4596-a20b-ab6112db3018"
      },
      "source": [
        "import statsmodels.formula.api as smf\n",
        "fullfactorial = smf.ols(formula='profit ~ popularity*C(Company)', data=comics)\n",
        "# fitting model\n",
        "results = fullfactorial.fit()\n",
        "\n",
        "print(results.summary())"
      ],
      "execution_count": 29,
      "outputs": [
        {
          "output_type": "stream",
          "text": [
            "                            OLS Regression Results                            \n",
            "==============================================================================\n",
            "Dep. Variable:                 profit   R-squared:                       0.369\n",
            "Model:                            OLS   Adj. R-squared:                  0.328\n",
            "Method:                 Least Squares   F-statistic:                     8.965\n",
            "Date:                Wed, 13 May 2020   Prob (F-statistic):           8.71e-05\n",
            "Time:                        17:49:44   Log-Likelihood:                -1039.6\n",
            "No. Observations:                  50   AIC:                             2087.\n",
            "Df Residuals:                      46   BIC:                             2095.\n",
            "Df Model:                           3                                         \n",
            "Covariance Type:            nonrobust                                         \n",
            "===================================================================================================\n",
            "                                      coef    std err          t      P>|t|      [0.025      0.975]\n",
            "---------------------------------------------------------------------------------------------------\n",
            "Intercept                       -1.382e+08   1.38e+08     -1.003      0.321   -4.16e+08    1.39e+08\n",
            "C(Company)[T.Marvel]             3.941e+08   1.49e+08      2.638      0.011    9.34e+07    6.95e+08\n",
            "popularity                       5.359e+06   1.43e+06      3.738      0.001    2.47e+06    8.24e+06\n",
            "popularity:C(Company)[T.Marvel] -3.947e+06   1.49e+06     -2.646      0.011   -6.95e+06   -9.44e+05\n",
            "==============================================================================\n",
            "Omnibus:                       15.726   Durbin-Watson:                   1.086\n",
            "Prob(Omnibus):                  0.000   Jarque-Bera (JB):               18.007\n",
            "Skew:                           1.245   Prob(JB):                     0.000123\n",
            "Kurtosis:                       4.563   Cond. No.                         916.\n",
            "==============================================================================\n",
            "\n",
            "Warnings:\n",
            "[1] Standard Errors assume that the covariance matrix of the errors is correctly specified.\n"
          ],
          "name": "stdout"
        }
      ]
    },
    {
      "cell_type": "code",
      "metadata": {
        "id": "-9eEumxAKZNK",
        "colab_type": "code",
        "colab": {}
      },
      "source": [
        ""
      ],
      "execution_count": 0,
      "outputs": []
    }
  ]
}