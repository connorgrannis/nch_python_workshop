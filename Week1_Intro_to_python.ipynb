{
  "nbformat": 4,
  "nbformat_minor": 0,
  "metadata": {
    "colab": {
      "name": "Week1_Intro_to_python.ipynb",
      "provenance": [],
      "private_outputs": true,
      "collapsed_sections": [],
      "toc_visible": true,
      "include_colab_link": true
    },
    "kernelspec": {
      "name": "python3",
      "display_name": "Python 3"
    }
  },
  "cells": [
    {
      "cell_type": "markdown",
      "metadata": {
        "id": "view-in-github",
        "colab_type": "text"
      },
      "source": [
        "<a href=\"https://colab.research.google.com/github/connorgrannis/nch_python_workshop/blob/master/Week1_Intro_to_python.ipynb\" target=\"_parent\"><img src=\"https://colab.research.google.com/assets/colab-badge.svg\" alt=\"Open In Colab\"/></a>"
      ]
    },
    {
      "cell_type": "markdown",
      "metadata": {
        "id": "Bdhl2vTkNTbW",
        "colab_type": "text"
      },
      "source": [
        "# **Welcome!**\n",
        "![](https://media1.tenor.com/images/b7cd57136bb82a1784bedc5408149eb1/tenor.gif?itemid=13247943)"
      ]
    },
    {
      "cell_type": "markdown",
      "metadata": {
        "id": "E4brJhBtLDXs",
        "colab_type": "text"
      },
      "source": [
        "Welcome to the first session of our intro to Python workshop! Before we get started, please read the readme.md file on the github page.  Here are a few things you should know before we dive in:"
      ]
    },
    {
      "cell_type": "markdown",
      "metadata": {
        "id": "WuQWQW3wAABj",
        "colab_type": "text"
      },
      "source": [
        "## __Be Interactive!__\n",
        "Since this is hosted on github, everyone has their own copy of this.  That means that you can (and are encouraged) to play around with the code to figure out how it works.  Any changes you make will not be saved to the original or affect anyone else's copy.  Just a reminder that you can either press \n",
        "\n",
        "\n",
        "\n",
        "```\n",
        "ctrl+enter\n",
        "```\n",
        " to \"run\" or execute the current code cell and not advance to the next one or \n",
        "\n",
        "\n",
        "```\n",
        "shift+enter\n",
        "```\n",
        "to execute the code cell and move on to the next one.\n",
        "\n",
        "Additionally, you can move your mouse to the top left corner of the code cell and press the play button.\n",
        "\n",
        " "
      ]
    },
    {
      "cell_type": "markdown",
      "metadata": {
        "id": "vAiN5ZqHys7s",
        "colab_type": "text"
      },
      "source": [
        "##**What's a code cell?**\n",
        "What we're working in right now is a **Jupyter notebook**, which is an easy and intuitive way of splitting up code into bite sized chunks called \"code cells\".\n",
        "\n",
        "A **code cell** is a small set of code that can be run independently of everything else making it perfect for teaching more complex things in smaller steps.\n",
        "\n",
        "The other type of cell in a Jupyter notebook is a **text cell**, which is just like this one, and will not display any executable code, and is only here to try and help explain what's going on between the code cells in a more readable fashion.\n"
      ]
    },
    {
      "cell_type": "markdown",
      "metadata": {
        "id": "Rd8lvCzXXEHo",
        "colab_type": "text"
      },
      "source": [
        "## __Functions__\n",
        "We're going to talk about functions a little later, but here's a brief introduction.  Functions are a collection of code statements that are meant to do something specific.  One function that we're going to be using a lot is \n",
        "\n",
        "\n",
        "```\n",
        "print()\n",
        "```\n",
        "Print takes the input and displays it on the screen.  This is very useful for communicating with the user. We use it a lot for trouble shooting.\n",
        "\n",
        "Functions are followed by parentheses.  These parentheses contain the input that get fed into the function:\n"
      ]
    },
    {
      "cell_type": "code",
      "metadata": {
        "id": "fXkomRj4K-sB",
        "colab_type": "code",
        "colab": {}
      },
      "source": [
        "# run this cell either by using the keyboard or pressing the play button\n",
        "print(\"Hello!\")"
      ],
      "execution_count": 0,
      "outputs": []
    },
    {
      "cell_type": "markdown",
      "metadata": {
        "id": "LMMfqGz-WVbm",
        "colab_type": "text"
      },
      "source": [
        "## __Comments__\n",
        "In Python, the # symbol at the start of a line means everything that follows is a 'comment'. The important thing to remember about comments is that they are **not** run as code. Comments are just there to help both you and anyone reading your code understand what's going on. We will be using comments throughout this course to help explain different parts of out code."
      ]
    },
    {
      "cell_type": "markdown",
      "metadata": {
        "id": "IhMdZC8zMQvj",
        "colab_type": "text"
      },
      "source": [
        "## __Quotes__\n",
        "\n",
        "When formatting text as a \"string\" (we'll get to this later) you can use either single ('hello') or double (\"hello\") quotes. These are interpretted as the same thing."
      ]
    },
    {
      "cell_type": "markdown",
      "metadata": {
        "id": "C1UNmBqbWuIF",
        "colab_type": "text"
      },
      "source": [
        "## __Variables__\n",
        "variable format: name = value"
      ]
    },
    {
      "cell_type": "code",
      "metadata": {
        "id": "L1i1_9kRV4ph",
        "colab_type": "code",
        "colab": {}
      },
      "source": [
        "x = 1.75                  # float- contains a decimal point\n",
        "y = 5                     # integer- is a whole number\n",
        "z = \"This is some text!\"  # string- anything in quotes (single or double)"
      ],
      "execution_count": 0,
      "outputs": []
    },
    {
      "cell_type": "code",
      "metadata": {
        "id": "_NbqGeGYXA4m",
        "colab_type": "code",
        "colab": {}
      },
      "source": [
        "print(1.75)"
      ],
      "execution_count": 0,
      "outputs": []
    },
    {
      "cell_type": "code",
      "metadata": {
        "id": "pLltVltlXS-1",
        "colab_type": "code",
        "colab": {}
      },
      "source": [
        "print(x)"
      ],
      "execution_count": 0,
      "outputs": []
    },
    {
      "cell_type": "code",
      "metadata": {
        "id": "xBch8G8BXTy2",
        "colab_type": "code",
        "colab": {}
      },
      "source": [
        "print(5)\n",
        "print(y)"
      ],
      "execution_count": 0,
      "outputs": []
    },
    {
      "cell_type": "code",
      "metadata": {
        "id": "ZGvw9I4HXXv-",
        "colab_type": "code",
        "colab": {}
      },
      "source": [
        "print(z)"
      ],
      "execution_count": 0,
      "outputs": []
    },
    {
      "cell_type": "markdown",
      "metadata": {
        "id": "VxjxSoo-IDEF",
        "colab_type": "text"
      },
      "source": [
        "####Your Turn!"
      ]
    },
    {
      "cell_type": "code",
      "metadata": {
        "id": "dF7kCSfwICbi",
        "colab_type": "code",
        "colab": {}
      },
      "source": [
        "# try defining your own three variables of each type below, then use the print function to print each one\n",
        "\n"
      ],
      "execution_count": 0,
      "outputs": []
    },
    {
      "cell_type": "markdown",
      "metadata": {
        "colab_type": "text",
        "id": "lN6zq4T7H8dq"
      },
      "source": [
        "###__Converting between variable types:__\n",
        "\n",
        "By default, different variable types can't interact with each other. Try running the code below and see what happens.\n"
      ]
    },
    {
      "cell_type": "code",
      "metadata": {
        "id": "-swNLjkx8Pfc",
        "colab_type": "code",
        "colab": {}
      },
      "source": [
        "print(25+25)"
      ],
      "execution_count": 0,
      "outputs": []
    },
    {
      "cell_type": "code",
      "metadata": {
        "id": "mxQC0Biq8Vqs",
        "colab_type": "code",
        "colab": {}
      },
      "source": [
        "print('this is'+' ' + 'some text')"
      ],
      "execution_count": 0,
      "outputs": []
    },
    {
      "cell_type": "code",
      "metadata": {
        "id": "OkZIUAGmXaY1",
        "colab_type": "code",
        "colab": {}
      },
      "source": [
        "a = '10'\n",
        "b = 5\n",
        "\n",
        "c = a+b"
      ],
      "execution_count": 0,
      "outputs": []
    },
    {
      "cell_type": "markdown",
      "metadata": {
        "id": "7dUzLFSr8rOQ",
        "colab_type": "text"
      },
      "source": [
        "The first two code blocks ran just as we expected them to.\n",
        "The third one however did not and instead of returning what we wanted, we got a TypeError; this means that there was a type mismatch between the variables. What was different between the the first two code blocks and the third one? The key to solving this issue is to make sure we always have matching variable types when we want two variables to interact. \n",
        "\n",
        "In the case of our error, we tried to add a string: \"10\" to an integer: 5. It may seem a little confusing that \"10\" was not recognized as an integer but remember, if it's surrounded by quotes it's a **string** no matter what.\n",
        "\n",
        "While it's easy enough to fix manually by deleting the quotes, we want to be able to do this using python syntax.\n",
        "\n",
        "So how do we get this to work? When we want to use two types of variables at once, python lets us convert between the different core types.\n",
        "\n",
        "* int() converts the value to an 'integer' type\n",
        "* float() converts the value to a 'float' type\n",
        "* str() converts the value to a 'string' type\n",
        "\n",
        "try running the code below to gain a better understanding of converting between types."
      ]
    },
    {
      "cell_type": "code",
      "metadata": {
        "id": "FGiwd8QA8GBz",
        "colab_type": "code",
        "colab": {}
      },
      "source": [
        "a = '10'\n",
        "b = 5\n",
        "print('a is a ', type(a))   # you can also use commas to separate items in a print statement\n",
        "print('b is a ', type(b))"
      ],
      "execution_count": 0,
      "outputs": []
    },
    {
      "cell_type": "code",
      "metadata": {
        "id": "QLOkTTea8_jT",
        "colab_type": "code",
        "colab": {}
      },
      "source": [
        "c = int(a) + b    # converting the string variable a ('10') to an integer (10)"
      ],
      "execution_count": 0,
      "outputs": []
    },
    {
      "cell_type": "markdown",
      "metadata": {
        "id": "VXSUZnBhMR3j",
        "colab_type": "text"
      },
      "source": [
        "####Your Turn!"
      ]
    },
    {
      "cell_type": "code",
      "metadata": {
        "id": "142U-jTJMmhr",
        "colab_type": "code",
        "colab": {}
      },
      "source": [
        "# Try using the the space below to define an age variable containing your age\n",
        "\n",
        "\n",
        "# now add your age variable to the string in this print statement without returning an error\n",
        "#    hint: you'll need the type conversions we talked about earlier\n",
        "\n",
        "print(\"I am \" + ??? + \" years old!\")\n"
      ],
      "execution_count": 0,
      "outputs": []
    },
    {
      "cell_type": "markdown",
      "metadata": {
        "id": "bWEHljNHDq4g",
        "colab_type": "text"
      },
      "source": [
        "### __Why are we talking about errors already?__\n",
        "We understand it may be a little confusing to talk about errors already, but it's good to know what different errors are and how to handle them as they're important part of the coding process.\n",
        "\n",
        "When python encounters an error, it returns the type of error and the line on which the error occurred. This is a useful tool for understanding what happened to your code and how to get it working again.  Google colab also suggests a link to [stack overflow](https://stackoverflow.com/), which is often where we end up when looking for answers."
      ]
    },
    {
      "cell_type": "markdown",
      "metadata": {
        "id": "y0c1yuYRCZXf",
        "colab_type": "text"
      },
      "source": [
        "### f-strings\n",
        "An f string is a formatted string. Having a lowercase f preceed your quotes will allow us to insert variables into our string.  This is really nice when using the print function.  Just put your variable name inside curly brackets.\n",
        "\n",
        "\n",
        "\n",
        "```\n",
        "animals = \"dogs\"\n",
        "print(f\"I have two {animals}\")\n",
        "```\n",
        "You'll see us use different ways of inserting variables into strings, but this is the preferred way of doing it. \n"
      ]
    },
    {
      "cell_type": "code",
      "metadata": {
        "id": "jO_IFgJOCdbv",
        "colab_type": "code",
        "colab": {}
      },
      "source": [
        "print(f'c = {c} and is a {type(c)}')"
      ],
      "execution_count": 0,
      "outputs": []
    },
    {
      "cell_type": "code",
      "metadata": {
        "id": "TGtAzaut_IO7",
        "colab_type": "code",
        "colab": {}
      },
      "source": [
        "d = a + str(b)    # converting b into a string/text\n",
        "print(f'd = {d} and is a {type(d)}')"
      ],
      "execution_count": 0,
      "outputs": []
    },
    {
      "cell_type": "markdown",
      "metadata": {
        "id": "PDjvAXts_r5R",
        "colab_type": "text"
      },
      "source": [
        "Now that we've got a handle on variable types and converting between them, lets move to a slightly more advanced example. The below example uses some string formatting so we can manipulate the text how we want.\n",
        "\n",
        "* '\\\\' is a special \"escape\" character and will alter the behaviour of the following character.\n",
        "* when you see '\\n' in a string, it will begin a new line.\n",
        "* when you see '\\t' in a string, it will put in a tab.\n",
        "\n",
        "there are quite a few special characters, if you want a more comprehensive list you can use this website: https://linuxconfig.org/list-of-python-escape-sequence-characters-with-examplesjj\\"
      ]
    },
    {
      "cell_type": "code",
      "metadata": {
        "id": "M13qPxK3_ahM",
        "colab_type": "code",
        "colab": {}
      },
      "source": [
        "# our variables a, b, c, and d are still in memory from before\n",
        "print(a, b, c, d)\n",
        "print(\"variable c = \" + str(c) + \"\\n\\tvariable c is type: \" + str(type(c)))"
      ],
      "execution_count": 0,
      "outputs": []
    },
    {
      "cell_type": "code",
      "metadata": {
        "id": "EXZNaWz-AC2J",
        "colab_type": "code",
        "colab": {}
      },
      "source": [
        "d = a + str(b)\n",
        "print(\"variable d = \" + d + \" \\n\\tvariable d is type: \" + str(type(d)))"
      ],
      "execution_count": 0,
      "outputs": []
    },
    {
      "cell_type": "markdown",
      "metadata": {
        "id": "pJq5Vi0qPnnJ",
        "colab_type": "text"
      },
      "source": [
        "####Your Turn!\n"
      ]
    },
    {
      "cell_type": "code",
      "metadata": {
        "id": "7ETbx7s7PrZZ",
        "colab_type": "code",
        "colab": {}
      },
      "source": [
        "# Try using the print statement that uses the above special characters to indent and make text on a new line.\n",
        "\n",
        "print()"
      ],
      "execution_count": 0,
      "outputs": []
    },
    {
      "cell_type": "markdown",
      "metadata": {
        "id": "n3mLxyLJAXKx",
        "colab_type": "text"
      },
      "source": [
        "#__String manipulation__\n",
        "\n",
        "An important part of using python is understanding how to manipulate and transform strings.\n",
        "\n",
        "Lets take the code below and get a basic idea of how we can use python to manipulate a string.\n",
        "\n"
      ]
    },
    {
      "cell_type": "code",
      "metadata": {
        "id": "3D6fSVCAATkF",
        "colab_type": "code",
        "colab": {}
      },
      "source": [
        "first_name = \"roberto\"\n",
        "last_name = \"french\"\n",
        "\n",
        "all_caps = first_name.upper()  # string.upper() converts all the characters in the string to upper case\n",
        "print(all_caps)"
      ],
      "execution_count": 0,
      "outputs": []
    },
    {
      "cell_type": "markdown",
      "metadata": {
        "id": "oA6L0W-h8zFD",
        "colab_type": "text"
      },
      "source": [
        "We've been using variables a lot, but you don't need to"
      ]
    },
    {
      "cell_type": "code",
      "metadata": {
        "id": "c6H8P7WxAxXv",
        "colab_type": "code",
        "colab": {}
      },
      "source": [
        "print(first_name.lower())   # string.lower() converts all the characters in the string to lower case"
      ],
      "execution_count": 0,
      "outputs": []
    },
    {
      "cell_type": "markdown",
      "metadata": {
        "id": "yJTSIDGtTWxx",
        "colab_type": "text"
      },
      "source": [
        "### Your turn!\n",
        "\n",
        "Create a variable named full_name that is your first name, a space, and your last name.  Since your name should be capitalized, use the [.title()](https://docs.python.org/2.5/lib/string-methods.html) method to capitalize just the first letter of your name"
      ]
    },
    {
      "cell_type": "code",
      "metadata": {
        "id": "TcA3eTB8A-m9",
        "colab_type": "code",
        "colab": {}
      },
      "source": [
        "# complete the code below\n",
        "\n",
        "my_first_name = '' \n",
        "my_last_name = ''\n",
        "full_name = f''\n",
        "print(full_name)"
      ],
      "execution_count": 0,
      "outputs": []
    },
    {
      "cell_type": "markdown",
      "metadata": {
        "id": "DP9ixRBOBY8G",
        "colab_type": "text"
      },
      "source": [
        "### **Indexing:**\n",
        "What if we only want part of the string? \n",
        "\n",
        "First lets say we only want one specific character, we can select the 'index' of the character and pull it out.\n",
        "\n",
        "Note: a lot of the examples in this notebook are a silly (but fun!?) way of getting used to how these methods work.  The \"so what\" or \"okay, but why?\" will make more since in the following notebooks when we're working with real data."
      ]
    },
    {
      "cell_type": "code",
      "metadata": {
        "id": "rn2tIyCWBTen",
        "colab_type": "code",
        "colab": {}
      },
      "source": [
        "first_name = 'roberto'\n",
        "\n",
        "# To help visualise this lets think of          0  1  2  3  4  5  6 \n",
        "# every character being numbered                r  o  b  e  r  t  o              \n",
        "#                                               ^\n",
        "# Notice how the counting starts at 0!\n",
        "# we can use the string[] with the number of the character we want to pull out\n",
        "# we call this the 'index' of the character \n",
        "\n",
        "first_letter = first_name[0]\n",
        "\n",
        "print(first_letter)"
      ],
      "execution_count": 0,
      "outputs": []
    },
    {
      "cell_type": "markdown",
      "metadata": {
        "id": "Z0XKHGNECN1M",
        "colab_type": "text"
      },
      "source": [
        "We can also index from the end, if we want to start from the end we use negative numbers."
      ]
    },
    {
      "cell_type": "code",
      "metadata": {
        "id": "wnYd_8xeB5A4",
        "colab_type": "code",
        "colab": {}
      },
      "source": [
        "first_name = \"roberto\"\n",
        "\n",
        "last_letter = first_name[-1]\n",
        "\n",
        "#                                                       \n",
        "# count starting from the end instead   -7 -6 -5 -4 -3 -2 -1   \n",
        "#                                        r  o  b  e  r  t  o  \n",
        "#                                                          ^\n",
        "\n",
        "print(last_letter)"
      ],
      "execution_count": 0,
      "outputs": []
    },
    {
      "cell_type": "markdown",
      "metadata": {
        "id": "k0GPOcTPQYKA",
        "colab_type": "text"
      },
      "source": [
        "####Your Turn!"
      ]
    },
    {
      "cell_type": "code",
      "metadata": {
        "id": "ywusk4LFVDvQ",
        "colab_type": "code",
        "colab": {}
      },
      "source": [
        "# How would you use indexing to select only the consonants?\n",
        "# Type out your code below and use the print function to display your answer.\n",
        "# Try writing three lines each using indexing to take out each consonant.\n",
        "\n"
      ],
      "execution_count": 0,
      "outputs": []
    },
    {
      "cell_type": "markdown",
      "metadata": {
        "id": "A7WRIXPZDNKI",
        "colab_type": "text"
      },
      "source": [
        "###**Slicing:**\n",
        "Lets say I just want the first three characters of my name, 'Rob', as a nickname.\n",
        "\n",
        "We could always define a new variable, but let's see what we can do with what we have already."
      ]
    },
    {
      "cell_type": "code",
      "metadata": {
        "id": "fTBAmGOQCS5g",
        "colab_type": "code",
        "colab": {}
      },
      "source": [
        "first_name = 'roberto'\n",
        "\n",
        "nickname = first_name[0:3].title()\n",
        "\n",
        "# Here we do something called slicing. \n",
        "# Putting ['start':'stop'] after a string lets us take a 'slice' of it to use.\n",
        "\n",
        "#                                      start    stop\n",
        "# here we take it from the range 0-3:    | 0 1 2 | 3 4 5 6 \n",
        "#                                        | r o b | e r t o\n",
        "\n",
        "# Some important things to note:\n",
        "#   * don't forget numbering starts at 0!\n",
        "#   * the slice goes UP TO but does NOT INCLUDE the end character (3 - e)\n",
        "\n",
        "# Also notice we combined the 'string'.title() method with the slice, \n",
        "# we can make our code more efficient by combining steps like that, just be sure your code is still readable!\n",
        "\n",
        "print(nickname)\n",
        "\n",
        "# Here we use a shortcut to achieve the same result, if you want to start from the beginning you can leave that field blank.\n",
        "print(first_name[:3].title())    \n",
        "\n",
        "# similarly, if you want to continue until the end, you could leave that blank too.\n",
        "print(first_name[4:])"
      ],
      "execution_count": 0,
      "outputs": []
    },
    {
      "cell_type": "markdown",
      "metadata": {
        "id": "PtAkFGSlDi1x",
        "colab_type": "text"
      },
      "source": [
        "Try to keep these slicing and indexing rules in mind as we continue. \n",
        "\n",
        "Slicing and indexing can be used for much more than just manipulating strings."
      ]
    },
    {
      "cell_type": "markdown",
      "metadata": {
        "id": "TByKp1ZfXgit",
        "colab_type": "text"
      },
      "source": [
        "# Break\n",
        "This is a lot of potentially new information that can be overwhelming if you're not used to it.  This is a good stopping point if you want to take a break.  Below we're going to be using what we've learned above and use it in more complex and common situations."
      ]
    },
    {
      "cell_type": "markdown",
      "metadata": {
        "id": "NdmWCXWzDnjI",
        "colab_type": "text"
      },
      "source": [
        "# __Compound variable types__\n",
        "\n",
        "There are two basic compuound variable types that when used well can be an extremely versatile toolset, these are lists and dictionaries.\n",
        "\n"
      ]
    },
    {
      "cell_type": "markdown",
      "metadata": {
        "id": "OEUrGtAXDruf",
        "colab_type": "text"
      },
      "source": [
        "###**Lists:**\n",
        "__lists__: a list of any set of items or variables, a list is surrounded by brackets [...] and the items within it are separated by commas.\n",
        "The items can be any variable type, even another list."
      ]
    },
    {
      "cell_type": "code",
      "metadata": {
        "id": "l6CxaVqZDb6o",
        "colab_type": "code",
        "colab": {}
      },
      "source": [
        "pizza_ingredients = ['dough', 'pepperoni', 'cheese', 'pineapple', 'ham', 'anchovies']\n",
        "prime_numbers = [2, 3, 5, 7, 11, 13, 17]"
      ],
      "execution_count": 0,
      "outputs": []
    },
    {
      "cell_type": "markdown",
      "metadata": {
        "id": "UgTYg0JqETLn",
        "colab_type": "text"
      },
      "source": [
        "#### Append"
      ]
    },
    {
      "cell_type": "code",
      "metadata": {
        "id": "42OldUnCEXXD",
        "colab_type": "code",
        "colab": {}
      },
      "source": [
        "# adding to the end of a list using list.append()\n",
        "# this always puts it at the end of the list.\n",
        "\n",
        "prime_numbers.append(23)\n",
        "print(prime_numbers)"
      ],
      "execution_count": 0,
      "outputs": []
    },
    {
      "cell_type": "markdown",
      "metadata": {
        "id": "FotH6YwMEYhl",
        "colab_type": "text"
      },
      "source": [
        "#### Insert"
      ]
    },
    {
      "cell_type": "code",
      "metadata": {
        "id": "l08Q4yAXD-ZQ",
        "colab_type": "code",
        "colab": {}
      },
      "source": [
        "# adding to a specific index using list.insert()\n",
        "# we missed a prime! Let's add it inbetween the last two (remember the indexing rules from earlier?)\n",
        "\n",
        "prime_numbers.insert(7, 19)    # list.insert(index, value)\n",
        "print(prime_numbers)"
      ],
      "execution_count": 0,
      "outputs": []
    },
    {
      "cell_type": "markdown",
      "metadata": {
        "id": "DZuNri09EbFF",
        "colab_type": "text"
      },
      "source": [
        "#### Remove"
      ]
    },
    {
      "cell_type": "code",
      "metadata": {
        "id": "xQ4qx6L4EE70",
        "colab_type": "code",
        "colab": {}
      },
      "source": [
        "# we can remove the first occurence of a value using list.remove()\n",
        "# pineapple? on a pizza?!\n",
        "\n",
        "pizza_ingredients.remove('pineapple')\n",
        "print(pizza_ingredients)"
      ],
      "execution_count": 0,
      "outputs": []
    },
    {
      "cell_type": "code",
      "metadata": {
        "id": "v6Kum2iJEI94",
        "colab_type": "code",
        "colab": {}
      },
      "source": [
        "# what about removing at a specific index?\n",
        "# use del with the list[index]\n",
        "\n",
        "del pizza_ingredients[-1]\n",
        "print(pizza_ingredients)"
      ],
      "execution_count": 0,
      "outputs": []
    },
    {
      "cell_type": "markdown",
      "metadata": {
        "id": "84tvD36YYGwM",
        "colab_type": "text"
      },
      "source": [
        "### Make your own pizza!\n",
        "Create a new list of your favorite pizza and use the above methods to add and remove additional ingredients"
      ]
    },
    {
      "cell_type": "code",
      "metadata": {
        "id": "7ojtHet6YnTU",
        "colab_type": "code",
        "colab": {}
      },
      "source": [
        "# create your own pizza\n",
        "fav_pizza = \n",
        "\n",
        "# You'll probably use .append the most often in real life, so let's get used to it now\n",
        "fav_pizza.append()    # put your new ingredient inside the parentheses\n",
        "\n",
        "# Let's change the first ingredient.\n",
        "# You could remove it and insert it using the methods above, but can you use indexing to replace it with a different ingredient?\n",
        "# try it below\n",
        "\n"
      ],
      "execution_count": 0,
      "outputs": []
    },
    {
      "cell_type": "markdown",
      "metadata": {
        "id": "Ytlf6Z2AEht4",
        "colab_type": "text"
      },
      "source": [
        "##**Dictionaries:**\n",
        "The other common type is a **dictionary**.\n",
        "\n",
        "A **dictionary** is similar to a list, but is made up of {key: value} pairs. \n",
        "**Dictionaries** are denoted by curly brackets { }, and its items are, just like lists, separated by commas.\n",
        "\n",
        "the **key** is a descriptor for its associated **value**, again these can be made up of any data types just like lists.\n",
        "\n",
        "Unlike lists, you do not refrence the items through indexing or slicing, instead you refrence them through the keys.\n",
        "\n",
        "Lets take a look at the example below:\n"
      ]
    },
    {
      "cell_type": "code",
      "metadata": {
        "id": "UQg3sUYAEK_r",
        "colab_type": "code",
        "colab": {}
      },
      "source": [
        "my_car = {'make': 'Honda', 'model': 'CR-V', 'year': 2013}\n",
        "\n",
        "# Lets refrence the car colour.\n",
        "print(my_car['make'])"
      ],
      "execution_count": 0,
      "outputs": []
    },
    {
      "cell_type": "code",
      "metadata": {
        "id": "kjFE67n_ExvC",
        "colab_type": "code",
        "colab": {}
      },
      "source": [
        "# Adding to a dictionary\n",
        "my_car['colour'] = 'black'    # Assign it as if you were refrencing it the first time.\n",
        "print(my_car)"
      ],
      "execution_count": 0,
      "outputs": []
    },
    {
      "cell_type": "code",
      "metadata": {
        "id": "SnWLM1DrExnl",
        "colab_type": "code",
        "colab": {}
      },
      "source": [
        "# Removing from a dictionary.\n",
        "del my_car['model']           # Using del again, similar to the list.\n",
        "print(my_car)"
      ],
      "execution_count": 0,
      "outputs": []
    },
    {
      "cell_type": "code",
      "metadata": {
        "id": "avYWeVm1E82K",
        "colab_type": "code",
        "colab": {}
      },
      "source": [
        "# Modifying values\n",
        "my_car['year'] = 2012         # Essentially just reassgning the value to the same key\n",
        "print(my_car)"
      ],
      "execution_count": 0,
      "outputs": []
    },
    {
      "cell_type": "markdown",
      "metadata": {
        "id": "UqJUNEZcTBiq",
        "colab_type": "text"
      },
      "source": [
        "####Your Turn!\n",
        "make a dictionary that describes you, give it items like your age, height, and hair colour."
      ]
    },
    {
      "cell_type": "code",
      "metadata": {
        "id": "qJYwniE3UK68",
        "colab_type": "code",
        "colab": {}
      },
      "source": [
        "# write your dictionary below!\n",
        "\n"
      ],
      "execution_count": 0,
      "outputs": []
    },
    {
      "cell_type": "markdown",
      "metadata": {
        "id": "ld5TLBydFG8R",
        "colab_type": "text"
      },
      "source": [
        "#**Conditinal statements and Looping**\n",
        "\n",
        "So we know how to do a few things in Python now. What if we wanted to do one thing sometimes and other times do something else? What if we wanted to do something a hundred times? Thats where conditional statements and loops come into play.\n"
      ]
    },
    {
      "cell_type": "markdown",
      "metadata": {
        "id": "OBCFXLIEFM7R",
        "colab_type": "text"
      },
      "source": [
        "###**Conditional Statements:**\n",
        "A **conditional statement** in Python is written using the keyword \"if...else\".  If you've used conditional logic in Excel or another language, it's very similar in Python. Let's check out the example below."
      ]
    },
    {
      "cell_type": "code",
      "metadata": {
        "id": "YZdM_supFMjS",
        "colab_type": "code",
        "colab": {}
      },
      "source": [
        "time = input('What time is it? (Just the hour in 24-hour time!) ')\n",
        "\n",
        "\n",
        "if int(time) < 12:\n",
        "  print('Good morning!')\n",
        "\n",
        "else:\n",
        "  print('Good afternoon!')"
      ],
      "execution_count": 0,
      "outputs": []
    },
    {
      "cell_type": "markdown",
      "metadata": {
        "id": "y0uQu_j7FcIr",
        "colab_type": "text"
      },
      "source": [
        "let's take a closer look at the conditional statement:\n",
        "\n",
        "```\n",
        "if int(time) < 12:\n",
        "```\n",
        "here we see the conditional statement started with the 'if' followed by some condtion, in our case we want to check if the time variable we entered earlier is less than 12. \n",
        "```\n",
        "if int(time) < 12:\n",
        "  print('Good morning!')\n",
        "```\n",
        "***if*** the time is less than 12, we print 'Good morning!'. What if our time is not less than 12? We need something that can capture all other conditions that aren't satisfied by our 'if' statement. That's where the 'else' comes into play, the 'else' statement doesn't need anythin following it like 'if' does, it will capture everything else that does not satisfy the paired 'if' statement.\n",
        "```\n",
        "if int(time) < 12:\n",
        "  print('Good morning!')\n",
        "\n",
        "else:\n",
        "  print('Good afternoon!')\n",
        "```\n",
        "In our simple case, if it's not morning, then it's afternoon.\n",
        "\n",
        "\n",
        "There's more than just morning and afternoon though, what if we have more than two conditions? It could be the morning, it could be the afternoon, or the evening. We can add in extra conditions using the 'elif' statement."
      ]
    },
    {
      "cell_type": "code",
      "metadata": {
        "id": "8trBKofoFGhy",
        "colab_type": "code",
        "colab": {}
      },
      "source": [
        "time = input('What time is it? Just the hour in 24-hour time! Then press ENTER: ')\n",
        "\n",
        "\n",
        "if int(time) < 12:\n",
        "  print('Good morning!')\n",
        "\n",
        "elif int(time) >= 12 and int(time) < 17:\n",
        "  print('Good afternoon!')\n",
        "\n",
        "else:\n",
        "  print('Good evening!')"
      ],
      "execution_count": 0,
      "outputs": []
    },
    {
      "cell_type": "markdown",
      "metadata": {
        "id": "eTvpf6F8F3VO",
        "colab_type": "text"
      },
      "source": [
        "Using 'elif' allows for more nuance within conditional statements, in this example we're also introduced to more complex conditional statements. \n",
        "```\n",
        "elif int(time) >= 12 and int(time) < 17:\n",
        "```\n",
        "the 'and' means that the time variable has to be both greater (or equal) to 12 **and** less than 17 for it to pass this conditional statement.\n",
        "\n",
        "the three common **logical operators** that you may find useful are 'and', 'or', and 'not'.\n",
        "\n",
        "* **and** means both of the conditionals must be satisfied for it to pass.\n",
        "* **or** means that either one of the conditionals can be satisfied in order to pass.\n",
        "```\n",
        "if int(time) < 8 or int(time) > 20:\n",
        "    print(\"It's nighttime!\")\n",
        "```\n",
        "* **not** means that the opposite must be true for it to pass.\n",
        "```\n",
        "if int(time) not < 12:\n",
        "    print(Good afternoon!)\n",
        "```\n",
        "\n",
        "###**Note on formatting:** \n",
        "At the end of the 'if' or 'elif' statement, there **must** be a colon followed by a newline that is **indented**.\n",
        "\n",
        "\n",
        "###**Side Note:**\n",
        "One other brand new thing that was introduced here was the \"input\" function. Here's a quick overview on how it works:\n",
        "```\n",
        "variable_name = input('Text you want to display')\n",
        "```\n",
        "\n",
        "What \"input\" does is present the user with a free text input, as soon as they press ENTER it will take whatever is given as input and save it to that variable name. The 'Text you want to display' is whatever you want to show the user to tell them what to input.\n",
        "\n",
        "Let's look at our example:\n",
        "```\n",
        "time = input('What time is it? Just the hour in 24-hour time! Then press ENTER: ')\n",
        "```\n",
        "So here we take whatever the user types in (and we've given them instructions to type in the time) and assign it to the \"time\" variable that we use later."
      ]
    },
    {
      "cell_type": "markdown",
      "metadata": {
        "id": "RSa38hQ4VXVR",
        "colab_type": "text"
      },
      "source": [
        "####Your Turn!\n",
        "\n",
        "Try writing your own conditional statements below, go through each step before moving to the next one:\n",
        "\n",
        "* First, write one conditional statement that asks for the weather; if it's raining have it print something like: *\\\"It's raining, grab an umbrella!\"* and if it's anything else make it print what the weather is.\n",
        "\n",
        "* Next take it a step further, add in an **elif** condition for another weather type of your choice, coupled with a corresponding print statement.\n",
        "\n",
        "* Finally, add in another input line at the beginning that asks for the temperature. Now there should be one input line asking what the weather is like, and another separate input line asking what the temperature is. Now add a new *unique* **elif** condition to take into account the weather **and** the temperature (hint! here's where you need the logical operators we talked about earlier) and have it respond with a new print statement.\n"
      ]
    },
    {
      "cell_type": "code",
      "metadata": {
        "id": "bBm_W1lcb1se",
        "colab_type": "code",
        "colab": {}
      },
      "source": [
        "# here's a little code to get you started:\n",
        "\n",
        "weather = input(\"What's the weather like today? \")\n",
        "\n",
        "if weather ....\n",
        "  ....\n",
        "else:\n",
        "  ...."
      ],
      "execution_count": 0,
      "outputs": []
    },
    {
      "cell_type": "markdown",
      "metadata": {
        "id": "XmTQZpGbGGA-",
        "colab_type": "text"
      },
      "source": [
        "###**Loops and Iteration:**\n",
        "\n",
        "Loops are a way of doing something over and over again in Python (hence the name 'looping'). They become very powerful when combined with things like lists and conditional statements.\n",
        "\n",
        "A **loop** is when you write some code to do something repeatedly (sometimes with slight changes with every loop) until you reach a desired outcome. There are two main kinds of loops in Python:\n",
        "* **for loops**: a **for loop** is done *for* every item specified in the condition. They work well with lists and dictionaries to cycle though their contents individually\n",
        "  * the syntax for a **for loop** is as follows: \n",
        "  ```\n",
        "  for X in Y:\n",
        "      do something\n",
        "  ```\n",
        "  where Y is the object we iterate through (such as a list) and X is an arbitrary, temporary variable that represents the item in Y through each loop. \n",
        "  That sounds a little confusing, lets look at the code below to get a better idea of what we mean."
      ]
    },
    {
      "cell_type": "code",
      "metadata": {
        "id": "pEA4Gp0_E-Bj",
        "colab_type": "code",
        "colab": {}
      },
      "source": [
        "pizza_ingredients = ['dough', 'peperoni', 'cheese', 'pineapple', 'ham', 'anchovies']\n",
        "\n",
        "for ingredient in pizza_ingredients:\n",
        "  print('The ingredient is: ' + ingredient)"
      ],
      "execution_count": 0,
      "outputs": []
    },
    {
      "cell_type": "markdown",
      "metadata": {
        "id": "z1fqnsOtHx-M",
        "colab_type": "text"
      },
      "source": [
        "So we have our list variable \"pizza_ingredients\" from earlier, and we used our **for loop** to iterate through each ingredient individually and print out a simple string that changes with each loop. \n",
        "\n",
        "There's a few important syntax rules we need to follow when making loops, and they're similar to our rules for conditional statements from earlier. \n",
        "1. We need our key-word **for** to start things off.\n",
        "  ```\n",
        "  for ingredient in pizza_ingredients:\n",
        "  ^^^\n",
        "  ```\n",
        "2. The next word is important as it will be our \"item\" variable we may refrence in the loop, it can be any word, I chose \"ingredient\" because it makes sense in the context. Remember your code should be as readable as possible! \n",
        "  ```\n",
        "  for ingredient in pizza_ingredients:\n",
        "       ^^^^^^^^^^\n",
        "  ```\n",
        "3. The next word **in** is just as necessary as **for** and paves into the final words of what we want to iterate through, in our case it was the **list** \"pizza_ingredients\".\n",
        "  ```\n",
        "  for ingredient in pizza_ingredients:\n",
        "                  ^^ ^^^^^^^^^^^^^^^^^\n",
        "  ```\n",
        "4. The first line of the for loop MUST end in a colon, just like in conditional statements.\n",
        "  ```\n",
        "  for ingredient in pizza_ingredients:\n",
        "                                      ^\n",
        "  ```\n",
        "5. Finally, just like conditional statements, the next line should start with a tab.\n",
        "  ```\n",
        "  for ingredient in pizza_ingredients:\n",
        "       print('The ingredient is: ' + ingredient)\n",
        "  ^^^^\n",
        "  ```\n"
      ]
    },
    {
      "cell_type": "markdown",
      "metadata": {
        "id": "iX2pN4zRIR9v",
        "colab_type": "text"
      },
      "source": [
        "### While Loops\n",
        "What about the other kinds of loops I mentioned earlier? The other kind are **while loops** and work similarly to **for loops**, except will continue looping while a certain condition is **True**. Lets look at the example below."
      ]
    },
    {
      "cell_type": "code",
      "metadata": {
        "id": "kZ0BLafEHju-",
        "colab_type": "code",
        "colab": {}
      },
      "source": [
        "number = 0\n",
        "while number < 10:\n",
        "  print(number)\n",
        "  number += 1      # this means the same thing as: number = number + 1"
      ],
      "execution_count": 0,
      "outputs": []
    },
    {
      "cell_type": "markdown",
      "metadata": {
        "id": "mKc3DotyJYWl",
        "colab_type": "text"
      },
      "source": [
        "Here we start with a variable called \"number\" that equals 0. We say **while** that number variable is less than 10, print it out to the screen. Now if we never change the value of the number variable the loop would continue to print \"0\" indefinitely, so we add 1 to its value with each loop, and eventually \"number\" reaches 10 and the condition:\n",
        "```\n",
        "number < 10\n",
        "```\n",
        "will return **False** and the **while loop** will stop.\n",
        "\n",
        "We'll go over one other way to create **while loops**, first we'll create a loop that continues indefinitely by starting the loop with:\n",
        "```\n",
        "while True:\n",
        "```\n",
        "since **while** can now *never* be false it will never end. To get out of this we will use the **break** statement. The **break** statement, when passed, will immediately break out of the loop, if we pair this with a **conditional statement** we can achieve the same thing as our other loop."
      ]
    },
    {
      "cell_type": "code",
      "metadata": {
        "id": "LqlexXoSJVJb",
        "colab_type": "code",
        "colab": {}
      },
      "source": [
        "number = 0\n",
        "while True:\n",
        "  print(number)\n",
        "  number += 1\n",
        "  if number == 10:\n",
        "    break"
      ],
      "execution_count": 0,
      "outputs": []
    },
    {
      "cell_type": "markdown",
      "metadata": {
        "id": "dmPHQd7Nfme8",
        "colab_type": "text"
      },
      "source": [
        "####Your Turn!\n",
        "\n",
        "Try writing one of each type of loop yourself, "
      ]
    },
    {
      "cell_type": "markdown",
      "metadata": {
        "id": "u9Q9OBo2J8c_",
        "colab_type": "text"
      },
      "source": [
        "#**Functions**\n",
        "The final piece of Python basics we're going to cover is about **functions**.\n",
        "We've used a few of these already today, Python comes with many built in.\n",
        "\n",
        "any text followed immediately by parentheses () is a function. The print() function is one we've been using a lot. A few others we've used already are:\n",
        "\n",
        "* int()\n",
        "* float()\n",
        "* str()\n",
        "\n",
        "Most functions take one or more **arguments**, you can think of this as input to tell the function what to do. the print() function takes a string argument and 'prints' it to the console. The data conversion functions above take a data type and attempt to convert it. Functions should be built to do one thing only.\n",
        "\n",
        "\n",
        "We can define our own custom functions that we can use later on as well."
      ]
    },
    {
      "cell_type": "code",
      "metadata": {
        "id": "t5awnEP8J35m",
        "colab_type": "code",
        "colab": {}
      },
      "source": [
        "def Greeter(firstname, lastname):\n",
        "  \"\"\"\n",
        "  A simple function that takes a first name and last name \n",
        "  and prints a formatted greeting.\n",
        "  \"\"\"\n",
        "  print(f'Hi {firstname.title()} {lastname.title()}! How are you?')\n"
      ],
      "execution_count": 0,
      "outputs": []
    },
    {
      "cell_type": "markdown",
      "metadata": {
        "id": "NFOz53N4XJpF",
        "colab_type": "text"
      },
      "source": [
        "Notice that running the above code block doesn't seem to do anything.\n",
        "That's OK, what we did is just **define** the function, we haven't used it yet. \n",
        "Look at the next code block, there we actually use the function we just wrote.\n",
        "\n",
        "Try it yourself!  Replace firstname and lastname to let us say hi to you :)"
      ]
    },
    {
      "cell_type": "code",
      "metadata": {
        "id": "1q9JMTDbLxe6",
        "colab_type": "code",
        "colab": {}
      },
      "source": [
        "# Remember to put your name in quotes -- single or double, it doesn't matter. Just be consistent!\n",
        "Greeter(firstname, lastname)"
      ],
      "execution_count": 0,
      "outputs": []
    },
    {
      "cell_type": "markdown",
      "metadata": {
        "id": "FLBFxM9tNdUY",
        "colab_type": "text"
      },
      "source": [
        "Here we defined our own function, called \"Greeter\". It needs two arguments: \"firstname\" and \"lastname\" separated by a comma. In functions, every argument needs to be separated by a comma. \n",
        "\n",
        "When we define our own functions, we need to start with the keyword \"def\" and then the function name. Next we need to follow that name with some parentheses and the arguments we want, if any. Some functions don't need any arguments like the **.lower()** function we used earlier, but notice it still needs the parentheses. After we have \"def\" and the function name and arguments, we need a colon and a newline that is indented. Notice in the \"Greeter\" function there are three quotation marks followed by a description of the function before closing it out with another three quotation marks. This isn't necessary for the function to work but again is a good habit to get into to make your code readable and easily understood."
      ]
    },
    {
      "cell_type": "markdown",
      "metadata": {
        "id": "FVh5TLa1N4yo",
        "colab_type": "text"
      },
      "source": [
        "# **End of Week 1**\n",
        "\n",
        "If you continue scrolling down there's some helpful links as well as some practice tasks you can try and complete if you want.\n",
        "\n",
        "Next week we'll dive into some Python libraries that are very useful for reading and manipulating data, as well as visualisation and statistical testing."
      ]
    },
    {
      "cell_type": "markdown",
      "metadata": {
        "id": "RQOE1kfnN8z7",
        "colab_type": "text"
      },
      "source": [
        "###__Further Reading:__\n",
        "\n",
        "* http://www.python.org - The official web page of the Python programming language.\n",
        "* http://www.python.org/dev/peps/pep-0008 - Style guide for Python programming. Highly recommended. \n",
        "* http://www.greenteapress.com/thinkpython/ - A free book on Python programming.\n",
        "* [Python Essential Reference](http://www.amazon.com/Python-Essential-Reference-4th-Edition/dp/0672329786) - A good reference book on Python programming.\n",
        "* https://automatetheboringstuff.com/ - free e-book and online course that goes over the basics as well as some practical examples."
      ]
    },
    {
      "cell_type": "markdown",
      "metadata": {
        "id": "kdmw74gbOLpj",
        "colab_type": "text"
      },
      "source": [
        "## **Practice #1**\n",
        "In this first practice script we'll practice using loops, conditional statements, and different variable types all at once.\n",
        "\n",
        "Your goal is to finish the below script to let a user create a shopping list, you will need to accept input on each item of the list and at the end print out the entire list to the console using print().\n",
        "\n",
        "The link to the task is [here](https://repl.it/@RobertoFrench/variablepractice)"
      ]
    },
    {
      "cell_type": "markdown",
      "metadata": {
        "id": "iuhosmnkOW9q",
        "colab_type": "text"
      },
      "source": [
        "## **Practice #2**\n",
        "\n",
        "Some of you may be familiar with \"mocking spongebob\"\n",
        "\n",
        "\n",
        "\n",
        "![Spongebob mocking meme](https://i.kym-cdn.com/photos/images/original/001/253/033/7aa.jpg)\n",
        "\n",
        "In the final link below you'll find some partially completed code. Your task is to create a function that takes an input string, randomly capitalizes some letters and prints this new string like the mocking spongebob meme.\n",
        "\n",
        "example:\n",
        "```\n",
        "input_string = \"wow Python is so cool\"\n",
        "\n",
        "output = \"wOW pYTHoN Is So CoOL\"\n",
        "```\n",
        "This is a little tougher than the other practice, one of the things that you may need to help is the random.randint() function which selects a random number. \n",
        "\n",
        "randint() info [here](https://www.geeksforgeeks.org/python-randint-function/)\n",
        "\n",
        "You may also need the .join() function which will stitch a list together into one long string.\n",
        "\n",
        ".join() info [here](https://www.geeksforgeeks.org/join-function-python/)\n",
        "\n",
        "finally, here's the [link to the task](https://repl.it/@RobertoFrench/mocker)"
      ]
    },
    {
      "cell_type": "markdown",
      "metadata": {
        "id": "jI6KaDppOpG2",
        "colab_type": "text"
      },
      "source": [
        "# **Contact Info**\n",
        "\n",
        "Feel free to contact either of us with any questions, whether it's about the practice tasks or something that wasn't clear during the session. \n",
        "\n",
        "Roberto French (roberto.french@nationwidechildrens.org)\n",
        "\n",
        "Connor Grannis (connor.grannis@nationwidechildrens.org)"
      ]
    }
  ]
}