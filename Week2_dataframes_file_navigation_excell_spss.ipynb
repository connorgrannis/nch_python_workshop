{
  "nbformat": 4,
  "nbformat_minor": 0,
  "metadata": {
    "colab": {
      "name": "Week2_dataframes_file_navigation_excell_spss.ipynb",
      "provenance": [],
      "private_outputs": true,
      "collapsed_sections": [],
      "toc_visible": true,
      "include_colab_link": true
    },
    "kernelspec": {
      "name": "python3",
      "display_name": "Python 3"
    }
  },
  "cells": [
    {
      "cell_type": "markdown",
      "metadata": {
        "id": "view-in-github",
        "colab_type": "text"
      },
      "source": [
        "<a href=\"https://colab.research.google.com/github/connorgrannis/nch_python_workshop/blob/master/Week2_dataframes_file_navigation_excell_spss.ipynb\" target=\"_parent\"><img src=\"https://colab.research.google.com/assets/colab-badge.svg\" alt=\"Open In Colab\"/></a>"
      ]
    },
    {
      "cell_type": "markdown",
      "metadata": {
        "id": "sL4IH-noPQYv",
        "colab_type": "text"
      },
      "source": [
        "# **Installing Packages**\n",
        "Similar to other languages (R), you can install and load functions for increased functionality.  While some packages are installed with python, you'll need to manually install others.  There are two main ways of doing this: pip and conda.  pip is more-or-less universal and will work in different coding environments, while conda will only work if you're using Anaconda.  The difference is essentially where you're downloading the package from.  If you're working in Anaconda it's best to use conda if you can: otherwise use pip.\n",
        "\n",
        "\n",
        "Note: We're going to be using \"packages\" and \"modules\" interchangeably.\n",
        "\n",
        "Let's make sure that the packages we're going to be working with today are installed.  Since we're working in a Google environment focused on learning, these are probably already installed but might not be if you are working outside of Google.\n",
        "\n",
        "Usually, you'll use the pip/conda install command on the command line/terminal but Google allows you to execute command line statements by prefacing your command with !\n",
        "\n",
        "\n",
        "```\n",
        "!pip install numpy pandas\n",
        "```\n",
        "\n"
      ]
    },
    {
      "cell_type": "markdown",
      "metadata": {
        "id": "ruClZ5R1G0y0",
        "colab_type": "text"
      },
      "source": [
        "# **NumPy**\n",
        "\n",
        "You can think of numpy as the underlying structure of most of the data you're used to. \n",
        "\n",
        "At it's core, numpy works with arrays. If you're familiar with Matlab, think of this as the package that enables matlab-esque functionality to python.  If you're not familiar with arrays, you can think of them as a set of data.  Arrays can have multiple dimensions, which can be confusing when you're just starting out. Thinking about Excel, each row is an array; each column is an array, and you can even think of the entire dataset as an array.\n",
        "\n",
        "Before we can use numpy, we have to load it.  We only need to do this once per notebook (per session) and it will work in all cells.  Python loads packages using the import command.  Numpy is often given the nickname \"np\" which is why we write 'import numpy **as** np' (although you can name it whatever you want) to save keystrokes.  This is the most common way to load numpy:\n",
        "\n",
        "\n",
        "```\n",
        "import numpy as np\n",
        "```\n",
        "\n",
        "\n",
        "\n",
        "Let's play around with numpy arrays so you can get used to it."
      ]
    },
    {
      "cell_type": "code",
      "metadata": {
        "id": "qPZmkkcfIK6d",
        "colab_type": "code",
        "colab": {}
      },
      "source": [
        "import numpy as np\n",
        "\n",
        "x = [5,4,3,2,1]  # List of numbers\n",
        "y = np.array(x)  # Using numpy to convert the list to an array\n",
        "print(type(x))   # Show numlist's type\n",
        "print(type(y))   # Show numarray's type."
      ],
      "execution_count": 0,
      "outputs": []
    },
    {
      "cell_type": "markdown",
      "metadata": {
        "id": "18PgKJtcIjhv",
        "colab_type": "text"
      },
      "source": [
        "Notice above in line 4 that the command np.array() converts a list to an array.  If we forget to make the input a list, we'll get an error.  For example, the following will not work:\n",
        "\n",
        "\n",
        "\n",
        "```\n",
        "y = np.array(5,4,3,2,1)\n",
        "```\n",
        "\n"
      ]
    },
    {
      "cell_type": "markdown",
      "metadata": {
        "id": "NxOqkd1KJP1z",
        "colab_type": "text"
      },
      "source": [
        "## **How are arrays different than lists?**\n",
        "While lists and arrays look similar, they behave differently."
      ]
    },
    {
      "cell_type": "code",
      "metadata": {
        "id": "DdEgNgrVIeKn",
        "colab_type": "code",
        "colab": {}
      },
      "source": [
        "# what do they look like?\n",
        "print(x)\n",
        "print(y)"
      ],
      "execution_count": 0,
      "outputs": []
    },
    {
      "cell_type": "markdown",
      "metadata": {
        "id": "rMuFAVhFJy6g",
        "colab_type": "text"
      },
      "source": [
        "What happens if we try to do do multiplication and division with lists and arrays?"
      ]
    },
    {
      "cell_type": "code",
      "metadata": {
        "id": "Z57eDzi1JEZL",
        "colab_type": "code",
        "colab": {}
      },
      "source": [
        "print(x*3)  # will replicate the list 3 times\n",
        "print(y*3)  # will multiply each item in the array by 3"
      ],
      "execution_count": 0,
      "outputs": []
    },
    {
      "cell_type": "code",
      "metadata": {
        "id": "lzz7bwMbKNNE",
        "colab_type": "code",
        "colab": {}
      },
      "source": [
        "# print(x/3) # will crash. Uncomment the first pound sign to run\n",
        "print(y/3)  # will divide each item in the arry by 3"
      ],
      "execution_count": 0,
      "outputs": []
    },
    {
      "cell_type": "markdown",
      "metadata": {
        "id": "xUcvyzDULRJX",
        "colab_type": "text"
      },
      "source": [
        "We can't multiply or divide lists by each other, but we can multiply arrays by other arrays (as long as they're the same length)"
      ]
    },
    {
      "cell_type": "code",
      "metadata": {
        "id": "2Xcf8vFaLCJ9",
        "colab_type": "code",
        "colab": {}
      },
      "source": [
        "# print(x*x)  # will return an error\n",
        "print(y*y)"
      ],
      "execution_count": 0,
      "outputs": []
    },
    {
      "cell_type": "markdown",
      "metadata": {
        "id": "WGcOfdtqL02A",
        "colab_type": "text"
      },
      "source": [
        "## **Built-in methods for arrays**\n",
        "Arrays come with a bunch of useful methods to compute common statistics.  For example:\n",
        "- mean\n",
        "- max/min\n",
        "- sum\n",
        "- standard deviation\n",
        "- variance\n",
        "\n",
        "As well has other useful methods that we use all the time:\n",
        "- shape\n",
        "- size\n",
        "- flatten"
      ]
    },
    {
      "cell_type": "markdown",
      "metadata": {
        "id": "03yoL7sNMNm7",
        "colab_type": "text"
      },
      "source": [
        "Your turn!\n",
        "Complete the code block below to "
      ]
    },
    {
      "cell_type": "code",
      "metadata": {
        "id": "GKO-3w5JLXUE",
        "colab_type": "code",
        "colab": {}
      },
      "source": [
        "print(f'The mean of y is: {}')\n",
        "print(f'The sum of y is: {}')\n",
        "print(f'The maximum value in y is: {}')\n",
        "print(f'The variance of y is: {}')\n",
        "print(f'The standard deviation for y is: {}')"
      ],
      "execution_count": 0,
      "outputs": []
    },
    {
      "cell_type": "markdown",
      "metadata": {
        "id": "wdvZtSGUOTfl",
        "colab_type": "text"
      },
      "source": [
        "## **Creating placeholders and constants**\n",
        "Sometimes we might need to create a 1-dimensional array of either zeros or ones, and numpy makes it really easy"
      ]
    },
    {
      "cell_type": "code",
      "metadata": {
        "id": "Qm2xVxzoM_dW",
        "colab_type": "code",
        "colab": {}
      },
      "source": [
        "zeros = np.zeros(5)\n",
        "ones = np.ones(5)\n",
        "\n",
        "print(zeros, ones)"
      ],
      "execution_count": 0,
      "outputs": []
    },
    {
      "cell_type": "markdown",
      "metadata": {
        "id": "m3qZFCTMPBab",
        "colab_type": "text"
      },
      "source": [
        "## **Multidimensional arrays**\n",
        "So far, we've been looking at one-dimensional arrays.  Our behavioral data is often 2-dimensional arrays, although 3- or 4-dimensional arrays will be common when working with Big Data sets or neuroimaging data.\n",
        "\n",
        "Let's create an array of animals.  We'll have a column for species, name, number of legs, age, and weight.  We'll need to start with two sets of brackets, because each item in our array is going to be a new entry."
      ]
    },
    {
      "cell_type": "code",
      "metadata": {
        "id": "BUeR8dLgO5qT",
        "colab_type": "code",
        "colab": {}
      },
      "source": [
        "my_pets = np.array([['Dog', 'Moose', 4, 4, 20], \n",
        "                    ['Dog', 'Dobby', 2, 3, 67],\n",
        "                    ['Cat', 'Meow', 4, 7, 13],\n",
        "                    ['Bird', 'Iago', 2, 9, 3],\n",
        "                    ['Spider', 'Bob', 8, 1,1]])\n",
        "print(my_pets)"
      ],
      "execution_count": 0,
      "outputs": []
    },
    {
      "cell_type": "code",
      "metadata": {
        "id": "aPbAvRtgQ7zv",
        "colab_type": "code",
        "colab": {}
      },
      "source": [
        "# let's look at the shape\n",
        "print(my_pets.shape)"
      ],
      "execution_count": 0,
      "outputs": []
    },
    {
      "cell_type": "markdown",
      "metadata": {
        "id": "GFeaO7pjROgZ",
        "colab_type": "text"
      },
      "source": [
        "Here, we can see that there are 5 rows and 5 columns.  We have two axes (rows and columns), so it's a 2-dimensional array."
      ]
    },
    {
      "cell_type": "markdown",
      "metadata": {
        "id": "BVKbSlYbRWv_",
        "colab_type": "text"
      },
      "source": [
        "### **Indexing arrays**\n",
        "We can look at just certain parts of our array by using indexing and slicing, like we learned last week."
      ]
    },
    {
      "cell_type": "code",
      "metadata": {
        "id": "sTUtFvp_RMb3",
        "colab_type": "code",
        "colab": {}
      },
      "source": [
        "# Let's look at just the first row\n",
        "moose = my_pets[0]\n",
        "print(moose)"
      ],
      "execution_count": 0,
      "outputs": []
    },
    {
      "cell_type": "markdown",
      "metadata": {
        "id": "XtGY0SnvSneB",
        "colab_type": "text"
      },
      "source": [
        "We can use the same indexing and slicing tools that we used with strings last week.  Here's a brief refresher working with `moose`"
      ]
    },
    {
      "cell_type": "code",
      "metadata": {
        "id": "D6V7zHKgRgpP",
        "colab_type": "code",
        "colab": {}
      },
      "source": [
        "print(f'The second element of moose is: {moose[1]}')  # remember python indexing starts at 0!\n",
        "print(f'The last element of moose is: {moose[-1]}')   # remember that the negative means to start at the end and move backwards\n",
        "print(f'The middle three elements of moose are: {moose[1:-1]}') # remember that slicing does not include the 'stop' position\n",
        "print(f'These are all the elements of moose: {moose[:]}')       # remember that leaving the 'start' and 'stop' fields blank when slicing will start at the beginning and stop at the end."
      ],
      "execution_count": 0,
      "outputs": []
    },
    {
      "cell_type": "markdown",
      "metadata": {
        "id": "INTdVg93TwMc",
        "colab_type": "text"
      },
      "source": [
        "### **Indexing Multidemensional arrays**\n",
        "Since `moose` is just one of our rows, how do we reference the other dimensions?\n",
        "\n",
        "If we break down our variable `moose`, it becomes clear how it works.  Remember that `moose = my_pets[0]`, so getting the second element of moose could also be written like this: \n",
        "\n",
        "```\n",
        "my_pets[0][1]\n",
        "```\n",
        "\n",
        "You can think of this as:\n",
        "\n",
        "```\n",
        "array[row][column]\n",
        "```\n",
        "\n",
        "which is the same as:\n",
        "\n",
        "```\n",
        "array[row, column]\n",
        "```"
      ]
    },
    {
      "cell_type": "code",
      "metadata": {
        "id": "85dSbSQ0TuEu",
        "colab_type": "code",
        "colab": {}
      },
      "source": [
        "print(my_pets[0][1])\n",
        "print(my_pets[0,1])"
      ],
      "execution_count": 0,
      "outputs": []
    },
    {
      "cell_type": "markdown",
      "metadata": {
        "id": "nFb-uWopVC1W",
        "colab_type": "text"
      },
      "source": [
        "### Your turn!\n",
        "\n",
        "Loop through the array and print the name and speces for each animal.\n",
        "\n",
        "Your output should be a sentence that looks like this:\n",
        "\n",
        "```\n",
        "Moose is a dog.\n",
        "```\n",
        "\n",
        "You should use f-strings and string formatting methods like `.title()` and `.lower()` to make your sentence look more natural."
      ]
    },
    {
      "cell_type": "markdown",
      "metadata": {
        "id": "itV4iWINVW7T",
        "colab_type": "text"
      },
      "source": [
        "It can be confusing to loop through two lists/arrays at the same time.  Instead, since both of our lists are the same length (5), we can loop through a range of that length"
      ]
    },
    {
      "cell_type": "code",
      "metadata": {
        "id": "lHiFEpUQU69z",
        "colab_type": "code",
        "colab": {}
      },
      "source": [
        "for row in range(len(my_pets)):\n",
        "  print(row)"
      ],
      "execution_count": 0,
      "outputs": []
    },
    {
      "cell_type": "markdown",
      "metadata": {
        "id": "aLMUN-2JVyCN",
        "colab_type": "text"
      },
      "source": [
        "Now, we can use this new \"row\" variable to index the columns at that row.  This is much simplier than trying to nest loops!"
      ]
    },
    {
      "cell_type": "code",
      "metadata": {
        "id": "uxX6HFd3VwGb",
        "colab_type": "code",
        "colab": {}
      },
      "source": [
        "# complete the code below:\n",
        "for row in range(len(my_pets)):\n",
        "  print(f'{} is a {}')"
      ],
      "execution_count": 0,
      "outputs": []
    },
    {
      "cell_type": "markdown",
      "metadata": {
        "id": "MV2ZShfrWheN",
        "colab_type": "text"
      },
      "source": [
        "Great! We're off to a great start, but this is really hard to read. I can't remember the order of our values.  This is where pandas can be really helpful. Let's convert our pet array into a dataframe.  Remember, when we're done it will look and act pretty similar to excel or an R dataframe."
      ]
    },
    {
      "cell_type": "markdown",
      "metadata": {
        "id": "wOojzkjZWz2b",
        "colab_type": "text"
      },
      "source": [
        "# **Pandas**\n",
        "Pandas will be very familiar to people who have experience with R.  Pandas can be thought of as an extension to NumPy and offers the ability to add column and index labels, while retaining all the useful methods NumPy could already do.  Pandas also makes loading data from a a variety of sources (csv, excel, webpages, spss, etc) super simple, as we'll see a little later.\n",
        "\n",
        "Similar to NumPy, Pandas is often given the nickname \"pd\" and can imported like this: \n",
        "\n",
        "```\n",
        "import pandas as pd\n",
        "```"
      ]
    },
    {
      "cell_type": "markdown",
      "metadata": {
        "id": "KIqLPkrMaHu7",
        "colab_type": "text"
      },
      "source": [
        "Let's load our `my_pets` array into pandas.  In case you took a break, let's re-import numpy and reload our array so you don't have to start from the beginning"
      ]
    },
    {
      "cell_type": "code",
      "metadata": {
        "id": "RIFqE2Y9fuuU",
        "colab_type": "code",
        "colab": {}
      },
      "source": [
        "# You can skip this if everything is still in memory\n",
        "import numpy as np\n",
        "\n",
        "my_pets = np.array([['Dog', 'Moose', 4, 4, 20], \n",
        "                    ['Dog', 'Dobby', 2, 3, 67],\n",
        "                    ['Cat', 'Meow', 4, 7, 13],\n",
        "                    ['Bird', 'Iago', 2, 9, 3],\n",
        "                    ['Spider', 'Bob', 8, 1,1]])"
      ],
      "execution_count": 0,
      "outputs": []
    },
    {
      "cell_type": "code",
      "metadata": {
        "id": "FzGtJp_yWFFD",
        "colab_type": "code",
        "colab": {}
      },
      "source": [
        "import pandas as pd\n",
        "\n",
        "df = pd.DataFrame(my_pets)\n",
        "print(df)"
      ],
      "execution_count": 0,
      "outputs": []
    },
    {
      "cell_type": "markdown",
      "metadata": {
        "id": "V2BDTI7p_89f",
        "colab_type": "text"
      },
      "source": [
        "What we do here is use our newly imported `pd` and use a function from the package: `DataFrame()` to put our `my_pets` array into a neatly formatted Pandas dataframe. \n",
        "\n",
        "Note the `.` between `pd` and `DataFrame`, this is an important formatting framework and means that the DataFrame function is from the pandas module."
      ]
    },
    {
      "cell_type": "markdown",
      "metadata": {
        "id": "isIZSONeaYYA",
        "colab_type": "text"
      },
      "source": [
        "This is already a much nicer layout.  While pandas makes arrays/dataframes a LOT nicer to look at and work with, remember that the data is still numpy arrays"
      ]
    },
    {
      "cell_type": "code",
      "metadata": {
        "id": "25fFdM1aaTid",
        "colab_type": "code",
        "colab": {}
      },
      "source": [
        "print(type(df))             # entire dataframe\n",
        "print(type(df[0]))          # first column\n",
        "print(type(df[0].values))   # all the values"
      ],
      "execution_count": 0,
      "outputs": []
    },
    {
      "cell_type": "markdown",
      "metadata": {
        "id": "Ien5XWfTad_W",
        "colab_type": "text"
      },
      "source": [
        "### **Columns and Series**\n",
        "Above, you'll notice that the entire array is called a **dataframe** and the columns are called **Series**.\n",
        "\n",
        "We can easily look at different parts of a dataframe, like the columns:"
      ]
    },
    {
      "cell_type": "code",
      "metadata": {
        "id": "6vtMlpprabJ0",
        "colab_type": "code",
        "colab": {}
      },
      "source": [
        "print(df.columns)"
      ],
      "execution_count": 0,
      "outputs": []
    },
    {
      "cell_type": "markdown",
      "metadata": {
        "id": "-eAmerwvaxHk",
        "colab_type": "text"
      },
      "source": [
        "This is saying that our columns are currently just the numnbers 0-4.  Let's add some column headers so we can keep our variables straight."
      ]
    },
    {
      "cell_type": "code",
      "metadata": {
        "id": "Sr5BWna2awWH",
        "colab_type": "code",
        "colab": {}
      },
      "source": [
        "df.columns = ['Species', 'Name', 'Number_of_legs', 'Age', 'Weight']\n",
        "print(df)"
      ],
      "execution_count": 0,
      "outputs": []
    },
    {
      "cell_type": "markdown",
      "metadata": {
        "id": "j9IlOoDsa-ik",
        "colab_type": "text"
      },
      "source": [
        "### **Setting the index**\n",
        "Now, let's set the index to something a bit more useful:"
      ]
    },
    {
      "cell_type": "code",
      "metadata": {
        "id": "SBrXuE4da7Mg",
        "colab_type": "code",
        "colab": {}
      },
      "source": [
        "df.set_index('Name', inplace=True)  # inplace=True is the same as df=df.set_index('Name')\n",
        "print(df)"
      ],
      "execution_count": 0,
      "outputs": []
    },
    {
      "cell_type": "markdown",
      "metadata": {
        "id": "zO1NeZ7BeZpE",
        "colab_type": "text"
      },
      "source": [
        "### **Referencing specific rows**\n",
        "We can easily reference rows in pandas dataframes by using either `df.loc` or `df.iloc`.\n"
      ]
    },
    {
      "cell_type": "markdown",
      "metadata": {
        "id": "Le1Q1nGgedam",
        "colab_type": "text"
      },
      "source": [
        "#### Index VALUE\n",
        "\n",
        "\n",
        "```\n",
        "df.loc['value']\n",
        "```\n",
        "\n",
        "is telling python to grab the row in the dataframe where the index location is equal to a certain value."
      ]
    },
    {
      "cell_type": "code",
      "metadata": {
        "id": "TXo6xTDebNKi",
        "colab_type": "code",
        "colab": {}
      },
      "source": [
        "# look at the first row based on index VALUE\n",
        "print(df.loc['Moose'])"
      ],
      "execution_count": 0,
      "outputs": []
    },
    {
      "cell_type": "markdown",
      "metadata": {
        "id": "v7yK7I6qgAhr",
        "colab_type": "text"
      },
      "source": [
        "#### Index LOCATION\n",
        "\n",
        "\n",
        "```\n",
        "df.iloc[0] \n",
        "```\n",
        "\n",
        "is telling python to grab the row in the dataframe at the indicated index location (in our case at index '0')."
      ]
    },
    {
      "cell_type": "code",
      "metadata": {
        "id": "q4byPLADej6y",
        "colab_type": "code",
        "colab": {}
      },
      "source": [
        "# look at the first row based on index LOCATION\n",
        "print(df.iloc[0])"
      ],
      "execution_count": 0,
      "outputs": []
    },
    {
      "cell_type": "markdown",
      "metadata": {
        "id": "CX7ZcLjvgLrD",
        "colab_type": "text"
      },
      "source": [
        "### Your turn!\n",
        "\n",
        "Use `df.loc` to print how many pounds Moose weighs.  Hint: you'll have to use both single and double quotes."
      ]
    },
    {
      "cell_type": "code",
      "metadata": {
        "id": "BWHzWUYFgFRk",
        "colab_type": "code",
        "colab": {}
      },
      "source": [
        "# How many pounds does Moose weigh?\n",
        "print(f'Moose weighs {} pounds.')"
      ],
      "execution_count": 0,
      "outputs": []
    },
    {
      "cell_type": "markdown",
      "metadata": {
        "id": "vRCjQpWegiNI",
        "colab_type": "text"
      },
      "source": [
        "### Referencing specific columns\n",
        "Referencing columns/series is just as simple as referencing rows."
      ]
    },
    {
      "cell_type": "markdown",
      "metadata": {
        "id": "WV0jyfzKgk9D",
        "colab_type": "text"
      },
      "source": [
        "### Column VALUE"
      ]
    },
    {
      "cell_type": "code",
      "metadata": {
        "id": "JNJ3n2ALgkUQ",
        "colab_type": "code",
        "colab": {}
      },
      "source": [
        "# look at the first column based on header\n",
        "print(df['Species'])"
      ],
      "execution_count": 0,
      "outputs": []
    },
    {
      "cell_type": "markdown",
      "metadata": {
        "id": "Mf9OtNfLhB9M",
        "colab_type": "text"
      },
      "source": [
        "### Column LOCATION\n",
        "This is slightly more involved because we'll have to slice the dataframe. \n",
        "\n",
        "First, let's get the column we want"
      ]
    },
    {
      "cell_type": "code",
      "metadata": {
        "id": "CcSGGChKg9-9",
        "colab_type": "code",
        "colab": {}
      },
      "source": [
        "print(df.columns[0])"
      ],
      "execution_count": 0,
      "outputs": []
    },
    {
      "cell_type": "markdown",
      "metadata": {
        "id": "9ZVUsEgnhTjN",
        "colab_type": "text"
      },
      "source": [
        "Now we can slice the dataframe based on the output of `df.columns[0]`"
      ]
    },
    {
      "cell_type": "code",
      "metadata": {
        "id": "97Y4TRxihSO9",
        "colab_type": "code",
        "colab": {}
      },
      "source": [
        "df[df.columns[0]]"
      ],
      "execution_count": 0,
      "outputs": []
    },
    {
      "cell_type": "markdown",
      "metadata": {
        "id": "oXNLIyfUhgzp",
        "colab_type": "text"
      },
      "source": [
        "### **Value types**\n",
        "Sometimes you might have to explicitly define your variable types.  When we check below, we'll find that all of our data are strings.  Luckily, it's easy to change the datatype of entire columns."
      ]
    },
    {
      "cell_type": "code",
      "metadata": {
        "id": "t-XIKBxZhah9",
        "colab_type": "code",
        "colab": {}
      },
      "source": [
        "print(type(df['Age'].values[0]))\n",
        "print(df.Age.values)"
      ],
      "execution_count": 0,
      "outputs": []
    },
    {
      "cell_type": "code",
      "metadata": {
        "id": "x55sOOnohm5C",
        "colab_type": "code",
        "colab": {}
      },
      "source": [
        "# Let's convert some of the columns to float instead of string\n",
        "df['Age'] = df['Age'].astype('float')\n",
        "df['Number_of_Legs'] = df['Number_of_legs'].astype('float')\n",
        "df['Weight'] = df['Weight'].astype('float')\n",
        "\n",
        "print(type(df['Age'].values[0]))\n",
        "print(df.Age.values)"
      ],
      "execution_count": 0,
      "outputs": []
    },
    {
      "cell_type": "markdown",
      "metadata": {
        "id": "B1myNP_ZhrxH",
        "colab_type": "text"
      },
      "source": [
        "### Your turn!\n",
        "Create a 'floatify' function that will loop over all the columns and convert the ones with numeric values to floats.  We're going to have to use some error handling for this function.  We'll come back to this idea in the future, but for now here are the basics:\n",
        "\n",
        "\n",
        "\n",
        "```\n",
        "try:\n",
        "  # code to try\n",
        "except:\n",
        "  # if there's an error above it will be piped to this condition instead of crashing\n",
        "```\n",
        "\n",
        "We can be more specific as well and only accept certain types of errors.  An IOError is an input/output error. \n",
        "\n",
        "YOU SHOULD ALWAYS HAVE A SPECIFIC EXCEPTION AFTER YOUR EXCEPT!\n",
        "\n",
        "If you were to use the generic `except:` without an exception it prevents you from catching any errors in your code during this block. This is bad coding practice, be specific with your except blocks.\n",
        "\n",
        "\n",
        "\n",
        "```\n",
        "try:\n",
        "  # code to try\n",
        "except IOError:\n",
        "  # only execute this if the code in the try statement failed\n",
        "  # specifically because of an IOError\n",
        "```\n",
        "\n",
        "If you want to catch more than one kind of error with your `try:... except:` blocks, you can use parentheses to contain the exceptions you want to handle:\n",
        "\n",
        "\n",
        "```\n",
        "try:\n",
        "  # code to try\n",
        "except (IOError, ValueError):\n",
        "  # only execute this if the code in the try statement failed\n",
        "  # specifically because of an IOError OR a ValueError\n",
        "```\n",
        "\n",
        "If you're not sure what Exception to include after your `except`, there's a few things you could try.\n",
        "\n",
        "First you could consult this website: [here](https://www.tutorialsteacher.com/python/error-types-in-python) which goes into detail on a number of exceptions and theor use cases.\n",
        "\n",
        "You could also try and run your code without the `try...except` and see what error it gives you, if that's the error you were trying to catch then you could reformat your code to use it in the `try...except` block."
      ]
    },
    {
      "cell_type": "code",
      "metadata": {
        "id": "6e7GuZbRhpd6",
        "colab_type": "code",
        "colab": {}
      },
      "source": [
        "def floatify(dataframe):\n",
        "  \"\"\"\n",
        "  This is called a doc string.\n",
        "  It's a place for you to define what your function does\n",
        "  And what your input and output will look like\n",
        "  \"\"\"\n",
        "  for series in dataframe.columns:\n",
        "    try:\n",
        "      # insert your code here\n",
        "      \n",
        "    except ValueError:\n",
        "      print(f'Could not convert {series} to float')\n",
        "  return dataframe"
      ],
      "execution_count": 0,
      "outputs": []
    },
    {
      "cell_type": "markdown",
      "metadata": {
        "id": "2WupOKmBh4CH",
        "colab_type": "text"
      },
      "source": [
        "Now that we know the basics of NumPy and Pandas, let's load in some real data.  But how do we do that?  First, we'll have to learn how to navigate through the computer to find the file we want to load."
      ]
    },
    {
      "cell_type": "markdown",
      "metadata": {
        "id": "PkZalcnzjRKo",
        "colab_type": "text"
      },
      "source": [
        "# **System Navigation**\n",
        "Python has a built-in package that allows the user to navigate through their operating system. To access these functions, just type `import os`. \n",
        "\n",
        "**This will make much more sense if you are using Anaconda on your local computer instead of using Google Colab**.  \n",
        "\n",
        "If you still need to download Anaconda you can do that [here](https://www.anaconda.com/distribution/).\n",
        "\n",
        "When we use Google Colab, we're actually on one of Google's computers, which makes it difficult to access local files, especially in a group setting like this, unless they're stored in your Google Drive.  We're going to go through the syntax, but we **strongly** encourage you to play with this on your own computer.\n",
        "\n",
        "A final note: a \"directory\" refers to a \"folder\""
      ]
    },
    {
      "cell_type": "markdown",
      "metadata": {
        "id": "eoHFYfEwkQpj",
        "colab_type": "text"
      },
      "source": [
        "### **System syntax**\n",
        "A quick note about different operating systems:\n",
        "\n",
        "For most of you, your work computers will be using Windows 10, which formats it's file paths like this\n",
        "\n",
        "```\n",
        "\"C:\\Users\\username\\\"\n",
        "```\n",
        "\n",
        "As we learned last week, `\\` is a special character which \"escapes\" the following character.  There are two ways to get around this:\n",
        "\n",
        "You can double the `\\`\n",
        "```\n",
        "\"C:\\\\Users\\\\username\\\\\"\n",
        "```\n",
        "or you can preceed your quotes with `r`. This tells python to use the raw text and treat it exactly as it's typed\n",
        "```\n",
        "r\"C:\\Users\\username\\\"\n",
        "```\n",
        "\n",
        "Some of you might be using Macs or Linux computers, both of which use `/` instead of `\\`.  Since `/` is not a special character, there is no need for special treatment."
      ]
    },
    {
      "cell_type": "markdown",
      "metadata": {
        "id": "WS-EPJHEl5Kt",
        "colab_type": "text"
      },
      "source": [
        "### **os commands**\n",
        "Below, we'll go through some commands that will be useful for navigating through your folders."
      ]
    },
    {
      "cell_type": "code",
      "metadata": {
        "id": "WBuM42L4hv1U",
        "colab_type": "code",
        "colab": {}
      },
      "source": [
        "# First, we need to import os\n",
        "import os"
      ],
      "execution_count": 0,
      "outputs": []
    },
    {
      "cell_type": "markdown",
      "metadata": {
        "id": "2GL24kLrV1HP",
        "colab_type": "text"
      },
      "source": [
        "*Notice we didn't give `os` a \"nickname\" when we imported it like we did for NumPy and Pandas. `os` is only a few letters so there was no need to assign it a short name to refrence it by. Conversely there was no reason we had to assign pd and np to Pandas and NumPy when importing them, it just makes typing them easier.*"
      ]
    },
    {
      "cell_type": "markdown",
      "metadata": {
        "id": "4fs4qup6_IfP",
        "colab_type": "text"
      },
      "source": [
        "### **Create data**\n",
        "In order for us to learn how these commands work, let's download some common data.  The following command will make a temporary copy of the github we're working with into Google Colab. When you refresh the page, you'll have to run this line again to get it back into your workspace."
      ]
    },
    {
      "cell_type": "code",
      "metadata": {
        "id": "uUEnLWhMDrm7",
        "colab_type": "code",
        "colab": {}
      },
      "source": [
        "!git clone https://github.com/connorgrannis/nch_python_workshop.git"
      ],
      "execution_count": 0,
      "outputs": []
    },
    {
      "cell_type": "markdown",
      "metadata": {
        "id": "1n4Ft4tnWhU1",
        "colab_type": "text"
      },
      "source": [
        "Did you notice the `!` in front of `git`? Remember this means that this isn't a Python command, and instead allows Google Colab to know this is a command prompt command."
      ]
    },
    {
      "cell_type": "markdown",
      "metadata": {
        "id": "kz9VcHuFmIH9",
        "colab_type": "text"
      },
      "source": [
        "#### **Get current working directory**"
      ]
    },
    {
      "cell_type": "code",
      "metadata": {
        "id": "r0EUisFQmHIZ",
        "colab_type": "code",
        "colab": {}
      },
      "source": [
        "print(os.getcwd())"
      ],
      "execution_count": 0,
      "outputs": []
    },
    {
      "cell_type": "markdown",
      "metadata": {
        "id": "RExJiprvmaem",
        "colab_type": "text"
      },
      "source": [
        "#### **Display the contents of a directory**"
      ]
    },
    {
      "cell_type": "code",
      "metadata": {
        "id": "d-5DcDRRmYeh",
        "colab_type": "code",
        "colab": {}
      },
      "source": [
        "print(os.listdir())"
      ],
      "execution_count": 0,
      "outputs": []
    },
    {
      "cell_type": "code",
      "metadata": {
        "id": "hFbtNGQb_u6N",
        "colab_type": "code",
        "colab": {}
      },
      "source": [
        "print(os.listdir('nch_python_workshop'))"
      ],
      "execution_count": 0,
      "outputs": []
    },
    {
      "cell_type": "markdown",
      "metadata": {
        "id": "DHEYKPer_kX1",
        "colab_type": "text"
      },
      "source": [
        "#### **Change directories**"
      ]
    },
    {
      "cell_type": "code",
      "metadata": {
        "id": "zB0vhm0Amz_U",
        "colab_type": "code",
        "colab": {}
      },
      "source": [
        "os.chdir('nch_python_workshop/Data')\n",
        "print(os.getcwd())"
      ],
      "execution_count": 0,
      "outputs": []
    },
    {
      "cell_type": "code",
      "metadata": {
        "id": "0y5WQl7F9aOi",
        "colab_type": "code",
        "colab": {}
      },
      "source": [
        "for file in os.listdir():\n",
        "  print(file)"
      ],
      "execution_count": 0,
      "outputs": []
    },
    {
      "cell_type": "markdown",
      "metadata": {
        "id": "QzXAOvcuXPuM",
        "colab_type": "text"
      },
      "source": [
        "All of these things allow you to access and move to the correct directories we need to before manipulating or creating any files."
      ]
    },
    {
      "cell_type": "markdown",
      "metadata": {
        "id": "afsXDj8lNyEe",
        "colab_type": "text"
      },
      "source": [
        "# **Reading in Files**\n",
        "A huge benefit to working with Pandas is its ability to load in different types of data files.  Pandas can easily convert .csv and .xlsx files into a dataframe using the `pd.read_csv` and `pd.read_excel` funtions."
      ]
    },
    {
      "cell_type": "markdown",
      "metadata": {
        "id": "wY6gURZcOyHk",
        "colab_type": "text"
      },
      "source": [
        "### **Loading Excel files**"
      ]
    },
    {
      "cell_type": "code",
      "metadata": {
        "id": "seFDRVHq-oyI",
        "colab_type": "code",
        "colab": {}
      },
      "source": [
        "import pandas as pd\n",
        "excel = pd.read_excel('example1.xlsx')\n",
        "print(excel)"
      ],
      "execution_count": 0,
      "outputs": []
    },
    {
      "cell_type": "markdown",
      "metadata": {
        "id": "QxZUEW_bQf7m",
        "colab_type": "text"
      },
      "source": [
        "### **Be careful!**\n",
        "By default pandas assumes that your file has column headers. If that's not the case, make sure to add `header=None` as an argument to the `read_excel` function."
      ]
    },
    {
      "cell_type": "code",
      "metadata": {
        "id": "1mPoZr2yPvWc",
        "colab_type": "code",
        "colab": {}
      },
      "source": [
        "excel = pd.read_excel('example1.xlsx', header=None)\n",
        "excel"
      ],
      "execution_count": 0,
      "outputs": []
    },
    {
      "cell_type": "markdown",
      "metadata": {
        "id": "L7iytwAMQ2uh",
        "colab_type": "text"
      },
      "source": [
        "Now you can add column and index labels just like before"
      ]
    },
    {
      "cell_type": "code",
      "metadata": {
        "id": "XgZ1D81eQ9Zc",
        "colab_type": "code",
        "colab": {}
      },
      "source": [
        "excel.columns = ['Species', 'Name', 'Number_of_legs', 'Age', 'Weight']\n",
        "excel.set_index('Species', inplace=True)\n",
        "excel"
      ],
      "execution_count": 0,
      "outputs": []
    },
    {
      "cell_type": "markdown",
      "metadata": {
        "id": "H-R3XX4xQSyh",
        "colab_type": "text"
      },
      "source": [
        "### **Loading csv files**"
      ]
    },
    {
      "cell_type": "code",
      "metadata": {
        "id": "FSBl_Yc9QAit",
        "colab_type": "code",
        "colab": {}
      },
      "source": [
        "csv = pd.read_csv('example2.csv')\n",
        "csv.head()"
      ],
      "execution_count": 0,
      "outputs": []
    },
    {
      "cell_type": "markdown",
      "metadata": {
        "id": "28RW8795ROph",
        "colab_type": "text"
      },
      "source": [
        "### **Loading files from SPSS**"
      ]
    },
    {
      "cell_type": "code",
      "metadata": {
        "id": "8oOC66rEQdxZ",
        "colab_type": "code",
        "colab": {}
      },
      "source": [
        "!pip install savReaderWriter\n",
        "\n",
        "from savReaderWriter import SavReader\n",
        "\n",
        "with SavReader('example3.sav', ioUtf8 = True) as reader:\n",
        "      spss = pd.DataFrame(reader.all(), columns = reader.header)"
      ],
      "execution_count": 0,
      "outputs": []
    },
    {
      "cell_type": "code",
      "metadata": {
        "id": "Jx0Lx1JbENY9",
        "colab_type": "code",
        "colab": {}
      },
      "source": [
        "print(spss.head())"
      ],
      "execution_count": 0,
      "outputs": []
    },
    {
      "cell_type": "markdown",
      "metadata": {
        "id": "FAOMko8n1e6m",
        "colab_type": "text"
      },
      "source": [
        "There's a lot of stuff going on here. Let's break it down:\n",
        "- After we installed `savReaderWriter` we import it in a way we havn't seen yet: `from savReaderWriter import SavReader`, this means that from the main package `savReaderWriter` we only want to import the function `SavReader`. This is nice when we know we only want to use one or two functions from a package, that way we don't have to type out the full `savReaderWriter.SavReader()` to use the function.\n",
        "\n",
        "- SPSS files are encoded using utf-8, so we're going to set that to true.  Let's see what that looks like:"
      ]
    },
    {
      "cell_type": "code",
      "metadata": {
        "id": "pd3X-FPG1eeW",
        "colab_type": "code",
        "colab": {}
      },
      "source": [
        "temp_df = savReaderWriter.SavReader('example3.sav', ioUtf8 = True)\n",
        "print(temp_df.head())\n",
        "print(type(temp_df))\n",
        "print(temp_df.shape)\n",
        "print(type(temp_df[0]))"
      ],
      "execution_count": 0,
      "outputs": []
    },
    {
      "cell_type": "markdown",
      "metadata": {
        "id": "eVHSrSMWR3Vp",
        "colab_type": "text"
      },
      "source": [
        "- This is the data that goes into the dataframe"
      ]
    },
    {
      "cell_type": "code",
      "metadata": {
        "id": "q7JocIY2FRUd",
        "colab_type": "code",
        "colab": {}
      },
      "source": [
        "df = pd.DataFrame(temp_df.all())\n",
        "print(df.head())"
      ],
      "execution_count": 0,
      "outputs": []
    },
    {
      "cell_type": "markdown",
      "metadata": {
        "id": "vPlI1TQvR7ym",
        "colab_type": "text"
      },
      "source": [
        "- Setting the column headers"
      ]
    },
    {
      "cell_type": "code",
      "metadata": {
        "id": "b5emlUxqF7tF",
        "colab_type": "code",
        "colab": {}
      },
      "source": [
        "df.columns = temp_df.header\n",
        "print(df.columns)"
      ],
      "execution_count": 0,
      "outputs": []
    },
    {
      "cell_type": "markdown",
      "metadata": {
        "id": "ALyXxX9uGWCx",
        "colab_type": "text"
      },
      "source": [
        "We can make this into a function that might come in handy in the future:"
      ]
    },
    {
      "cell_type": "code",
      "metadata": {
        "id": "wdlMSMxCGNVO",
        "colab_type": "code",
        "colab": {}
      },
      "source": [
        "def open_spss(filename):\n",
        "  with savReaderWriter.SavReader(filename, ioUtf8=True) as reader:\n",
        "    return pd.DataFrame(reader.all(), columns=reader.header)\n",
        "\n",
        "df = open_spss('example3.sav')\n",
        "print(df.head())"
      ],
      "execution_count": 0,
      "outputs": []
    },
    {
      "cell_type": "markdown",
      "metadata": {
        "id": "zJuR-4r2LErF",
        "colab_type": "text"
      },
      "source": [
        "# **Recap: What have we learned?**\n",
        "- Downloading and importing packages\n",
        "  - The three ways of importing packages\n",
        "- Navigating directories\n",
        "  - How to display dirtectory contents\n",
        "- Numpy\n",
        "  - Numpy arrays and functions\n",
        "  - Numpy indexing and slicing\n",
        "\n",
        "- Pandas\n",
        "  - How to load data into Pandas\n",
        "  - Pandas indexing and slicing\n",
        "  - How to drop rows and columns\n",
        "  - How to convert Pandas Series data types"
      ]
    },
    {
      "cell_type": "markdown",
      "metadata": {
        "id": "VItLurBQKAyJ",
        "colab_type": "text"
      },
      "source": [
        "# **Practice 1: Numpy**\n",
        "1. Create a numpy array of shape 2x4\n",
        "2. Transpose this array\n",
        "3. Create a 1D array of length 9\n",
        "4. Use `np.reshape` to convert this to a 3x3 array\n",
        "5. Add this array to itself (numerically)\n",
        "6. Add this array to itself (concatenate)\n",
        "\n",
        "Advanced:\n",
        "1. Create a symmetric 10x10 array of random values using `np.array` (reference 'Mocker' from last week on how to use random values)\n",
        "2. Set the diagonal to 1\n",
        "3. Return the upper or lower triangular as a 1D array"
      ]
    },
    {
      "cell_type": "code",
      "metadata": {
        "id": "Y-m5up6IHPb4",
        "colab_type": "code",
        "colab": {}
      },
      "source": [
        "# If you want to, you can write practice 1 here. Or you can try and write it out using an IDE of your choice. (spyder is one that comes with Anaconda)"
      ],
      "execution_count": 0,
      "outputs": []
    },
    {
      "cell_type": "markdown",
      "metadata": {
        "id": "R8h7YoqwL-qF",
        "colab_type": "text"
      },
      "source": [
        "# **Practice 2: Pandas**\n",
        "1. Convert one of the arrays from above into a Pandas dataframe and add reasonable index and column labels\n",
        "2. Load the titanic \"train\" dataset into a Pandas dataframe from [kaggle]('https://raw.githubusercontent.com/agconti/kaggle-titanic/master/data/train.csv').\n",
        "3. Drop the \"Name\" column\n",
        "\n",
        "Advanced:\n",
        "1. Using only Pandas, plot a scatter plot of `Age` and `Fare`. Here's a link to the function you'll need: [Pandas.DataFrame.plot](https://pandas.pydata.org/pandas-docs/version/0.23.4/generated/pandas.DataFrame.plot.html)\n",
        "2. Attach a new row of data to the Titanic set\n",
        "3. Attach a new column of data to the titanic set\n",
        "4. Use the pandas `groupby` method to display the mean age of the survivors and non-survivors"
      ]
    },
    {
      "cell_type": "code",
      "metadata": {
        "id": "IpcegDMlHSpI",
        "colab_type": "code",
        "colab": {}
      },
      "source": [
        "# If you want to, you can write practice 2 here. Or you can try and write it out using an IDE of your choice. (spyder is one that comes with Anaconda)"
      ],
      "execution_count": 0,
      "outputs": []
    }
  ]
}