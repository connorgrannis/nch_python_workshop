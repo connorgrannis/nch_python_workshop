{
  "nbformat": 4,
  "nbformat_minor": 0,
  "metadata": {
    "colab": {
      "name": "Week3_plotting_with_python.ipynb",
      "provenance": [],
      "private_outputs": true,
      "collapsed_sections": [],
      "include_colab_link": true
    },
    "kernelspec": {
      "name": "python3",
      "display_name": "Python 3"
    }
  },
  "cells": [
    {
      "cell_type": "markdown",
      "metadata": {
        "id": "view-in-github",
        "colab_type": "text"
      },
      "source": [
        "<a href=\"https://colab.research.google.com/github/connorgrannis/nch_python_workshop/blob/master/Week3_plotting_with_python.ipynb\" target=\"_parent\"><img src=\"https://colab.research.google.com/assets/colab-badge.svg\" alt=\"Open In Colab\"/></a>"
      ]
    },
    {
      "cell_type": "markdown",
      "metadata": {
        "id": "aXvp8JdgTWh9",
        "colab_type": "text"
      },
      "source": [
        "# __Plotting with Python__\n",
        "\n",
        "While graphing in SPSS is easy, it doesn't always produce the best looking graphs and it's fairly rigid on the types of graphs it can create.\n",
        "\n",
        "There are several graphing packages in Python, but the main ones we're going to talk about are *matplotlib* and *seaborn*."
      ]
    },
    {
      "cell_type": "markdown",
      "metadata": {
        "id": "gJme8y9FT2uy",
        "colab_type": "text"
      },
      "source": [
        "### __Matplotlib__\n",
        "Matplotlib is like the NumPy of graphing; almost all the other graphing libraries are based on matplotlib. While it's not as user-friendly as some of the others, it's helpful to know what's going on under the hood. to have greater control of libraries like Seaborn that are built off of it.\n",
        "\n",
        "Almost all of the functions we'll be using are contained in the *pyplot* class, so we'll import matplotlib like this:\n",
        "\n",
        "```\n",
        "import matplotlib.pyplot as plt\n",
        "```\n",
        "\n",
        "At the end of last week we used Pandas to create a scatter plot of the Titanic data comparing `Age` and `Fare`.  Let's load the titanic set and do the same graph using matplotlib."
      ]
    },
    {
      "cell_type": "code",
      "metadata": {
        "id": "Gcr9nJ9OPZJK",
        "colab_type": "code",
        "colab": {}
      },
      "source": [
        "# import packages\n",
        "import numpy as np\n",
        "import pandas as pd\n",
        "import matplotlib.pyplot as plt\n",
        "\n",
        "titanic = pd.read_csv('https://raw.githubusercontent.com/agconti/kaggle-titanic/master/data/train.csv')"
      ],
      "execution_count": 0,
      "outputs": []
    },
    {
      "cell_type": "code",
      "metadata": {
        "id": "4SBTkbPzVhNO",
        "colab_type": "code",
        "colab": {}
      },
      "source": [
        "# scatter using pandas\n",
        "titanic.plot(kind='scatter', x='Age', y='Fare')"
      ],
      "execution_count": 0,
      "outputs": []
    },
    {
      "cell_type": "code",
      "metadata": {
        "id": "Soj5RX9TVLRj",
        "colab_type": "code",
        "colab": {}
      },
      "source": [
        "# scatter using matplotlib\n",
        "plt.scatter(titanic['Age'], titanic['Fare'])"
      ],
      "execution_count": 0,
      "outputs": []
    },
    {
      "cell_type": "markdown",
      "metadata": {
        "id": "DdqVtokHz3oF",
        "colab_type": "text"
      },
      "source": [
        "This is a good time to go over positional arguments vs. keyword arguments. \n",
        "\n",
        "In the first cell we specify each argument of the function and specify what value we want it to be: `kind='scatter'`, `x='Age'`, `y='Fare'`. We can place these arguments in any order we like within the function because we specified the keyword for each one. For example, \n",
        "```\n",
        "titanic.plot(y='Fare', kind='scatter', x='Age')\n",
        "```\n",
        "will do the exact same thing.\n",
        "\n",
        "\n",
        "This is not true for the second cell however. `plt.scatter()` expects the x variable in the first argument, and the y variable in the second argument. If we were to type out:\n",
        "```\n",
        "plt.scatter(titanic['Fare'], titanic['Age'])\n",
        "```\n",
        "this would plot the inverse of what we wanted, as the function still expects the x variable to be the first argument. These are \"positional arguments\" and if you don't specify the \"keyword\" it will follow the order you put the arguments in. You can use any function with either positional or keyword arguments."
      ]
    },
    {
      "cell_type": "markdown",
      "metadata": {
        "id": "Bn0zHZIoncM4",
        "colab_type": "text"
      },
      "source": [
        "Notice how the pandas plot added in axis labels, but matplotlib didn't.  We can add them in using the following syntax:"
      ]
    },
    {
      "cell_type": "code",
      "metadata": {
        "id": "PjnIazOYnssX",
        "colab_type": "code",
        "colab": {}
      },
      "source": [
        "plt.scatter(titanic['Age'], titanic['Fare'])\n",
        "plt.xlabel('Age')\n",
        "plt.ylabel('Fare')"
      ],
      "execution_count": 0,
      "outputs": []
    },
    {
      "cell_type": "markdown",
      "metadata": {
        "id": "BfEgMtRnVwoc",
        "colab_type": "text"
      },
      "source": [
        "Here, we're using the `scatter` method of `plt`. But matplotlib can make all of the traditional graphs:\n",
        "- scatter\n",
        "- bar\n",
        "- line\n",
        "- box and whisker\n",
        "- pie charts\n",
        "\n",
        "and even some less traditional ones:\n",
        "- 3dplots\n",
        "- streamplots\n",
        "- filled curves\n",
        "- polar plots\n",
        "- and [more](https://matplotlib.org/3.2.1/tutorials/introductory/sample_plots.html)\n",
        "\n"
      ]
    },
    {
      "cell_type": "markdown",
      "metadata": {
        "id": "LYThBrYqfWpH",
        "colab_type": "text"
      },
      "source": [
        "Your turn! \n",
        "\n",
        "Using the titanic dataset, show the distribution of `Age` using a `hisogram`, plot the distribution of `Age` by `Survived` using a `boxplot` and see if there are differences in ticket price (`Fare`) by `Survived` using a `bar` graph"
      ]
    },
    {
      "cell_type": "code",
      "metadata": {
        "id": "K0kcmKs4fOUf",
        "colab_type": "code",
        "colab": {}
      },
      "source": [
        "# histogram\n"
      ],
      "execution_count": 0,
      "outputs": []
    },
    {
      "cell_type": "code",
      "metadata": {
        "id": "agcBRQAllHSk",
        "colab_type": "code",
        "colab": {}
      },
      "source": [
        "# boxplot\n"
      ],
      "execution_count": 0,
      "outputs": []
    },
    {
      "cell_type": "code",
      "metadata": {
        "id": "n35GUCSalKGa",
        "colab_type": "code",
        "colab": {}
      },
      "source": [
        "# bar\n"
      ],
      "execution_count": 0,
      "outputs": []
    },
    {
      "cell_type": "markdown",
      "metadata": {
        "id": "qwKTv6uEfPmb",
        "colab_type": "text"
      },
      "source": [
        "With all these options, why should we bother learning about seaborn or any other plotting packages? It's possible to change almost every aspect of the graph to get it to look exactly how you want it, but the default settings on other packages look much nicer and the input is cleaner. \n"
      ]
    },
    {
      "cell_type": "markdown",
      "metadata": {
        "id": "-oCst3kaowpw",
        "colab_type": "text"
      },
      "source": [
        "### Seaborn\n",
        "Seaborn is one of our favorite graphing packages and looks much better by default.  Again, this is based on matplotlib and it's possible to get an identical graph using matplotlib, but seaborn makes it easier. We often use seaborn to produce the main graph and then use pyplot to tweak the axes, grids, titles, etc.\n",
        "\n",
        "Let's create the same 3 graphs plus the original scatter using seaborn.  It's common to give seaborn the nickname `sns`."
      ]
    },
    {
      "cell_type": "code",
      "metadata": {
        "id": "R8Es05SmWjBr",
        "colab_type": "code",
        "colab": {}
      },
      "source": [
        "import seaborn as sns\n",
        "sns.scatterplot(x='Age', y='Fare', data=titanic)"
      ],
      "execution_count": 0,
      "outputs": []
    },
    {
      "cell_type": "code",
      "metadata": {
        "id": "V6N8xNUdWmUx",
        "colab_type": "code",
        "colab": {}
      },
      "source": [
        "# histogram\n"
      ],
      "execution_count": 0,
      "outputs": []
    },
    {
      "cell_type": "code",
      "metadata": {
        "id": "tq8lbCa-m-qf",
        "colab_type": "code",
        "colab": {}
      },
      "source": [
        "# boxplot\n"
      ],
      "execution_count": 0,
      "outputs": []
    },
    {
      "cell_type": "code",
      "metadata": {
        "id": "B11bqtG3nA8e",
        "colab_type": "code",
        "colab": {}
      },
      "source": [
        "# bar\n"
      ],
      "execution_count": 0,
      "outputs": []
    },
    {
      "cell_type": "markdown",
      "metadata": {
        "id": "njjuRtaknXMt",
        "colab_type": "text"
      },
      "source": [
        "#### Errorbars\n",
        "By default, seaborn uses a confidence interval of 95% for its error bars. You can change this to the standard error by changing the following syntax:\n",
        "\n",
        "\n",
        "```\n",
        "ci=68    # changes the error bars to standard error\n",
        "```\n",
        "\n"
      ]
    },
    {
      "cell_type": "code",
      "metadata": {
        "id": "yMVsOlp3nC1d",
        "colab_type": "code",
        "colab": {}
      },
      "source": [
        "sns.barplot(x='Survived', y='Fare', data=titanic, ci=68)"
      ],
      "execution_count": 0,
      "outputs": []
    },
    {
      "cell_type": "markdown",
      "metadata": {
        "id": "-nd1RxO7qlhp",
        "colab_type": "text"
      },
      "source": [
        "#### Modifying the figure\n",
        "Now that we have a nice plot, we can use pyplot to easily tidy things up a bit and make our graph really easy to interpret.  Let's change what we're graphing and put age on the y-axis and if they survived or not on the x."
      ]
    },
    {
      "cell_type": "code",
      "metadata": {
        "id": "qsexwZFHqFLP",
        "colab_type": "code",
        "colab": {}
      },
      "source": [
        "sns.barplot(x='Survived', y='Fare', data=titanic, ci=68)\n",
        "\n",
        "plt.grid(axis='y', alpha=0.3)   # setting horizontal gridlines and making them semi-transparent\n",
        "plt.ylim(0, titanic['Age'].max()+10)  # fixing the y-axis to start at 0 and end at ten over the max value\n",
        "plt.xticks(ticks=range(2), labels=['No', 'Yes'])  # Changing the labels of the ticks on the x-axis\n",
        "plt.title('Differences in ticket price in survivors and non-survivors', fontsize=12)   # making a title above the graph and setting the fontsize\n",
        "plt.tight_layout()     # adjusts the padding on the plots to make everything fit better"
      ],
      "execution_count": 0,
      "outputs": []
    },
    {
      "cell_type": "markdown",
      "metadata": {
        "id": "iNflCyKf2ks3",
        "colab_type": "text"
      },
      "source": [
        "Try commenting out some of the  above lines that modify different aspects of the histogram and running it again. See how the graph changes, try adding in your own modifications!"
      ]
    },
    {
      "cell_type": "markdown",
      "metadata": {
        "id": "BiDvzR0_sXmK",
        "colab_type": "text"
      },
      "source": [
        "#### FacetGrids\n",
        "Sometimes we want to graph several related variables at the same time.  FacetGrids allow us to create subplots within the same figure, which is a great way of displaying related data.\n",
        "\n",
        "FacetGrids work a little differently than a regular graph.  First, we have to create the grid of subplots, and then we _map_ the plot of the data onto the grid we just made. Let's break that down step by step."
      ]
    },
    {
      "cell_type": "code",
      "metadata": {
        "id": "-t_nsOFZqimM",
        "colab_type": "code",
        "colab": {}
      },
      "source": [
        "# Create subplots\n",
        "fg = sns.FacetGrid(data=titanic, row='Survived', col='Sex')"
      ],
      "execution_count": 0,
      "outputs": []
    },
    {
      "cell_type": "markdown",
      "metadata": {
        "id": "x1obziIjujZ9",
        "colab_type": "text"
      },
      "source": [
        "This created a 2 by 2 grid because both `Survived` and `Sex` have two unique values."
      ]
    },
    {
      "cell_type": "code",
      "metadata": {
        "id": "8_BKDLXescuF",
        "colab_type": "code",
        "colab": {}
      },
      "source": [
        "# map plots to subplots\n",
        "fg = sns.FacetGrid(data=titanic, row='Survived', col='Sex')\n",
        "fg = fg.map(sns.scatterplot, 'Age', 'Fare', ci=68)"
      ],
      "execution_count": 0,
      "outputs": []
    },
    {
      "cell_type": "markdown",
      "metadata": {
        "id": "YGuinQo6wBm8",
        "colab_type": "text"
      },
      "source": [
        "### Hue\n",
        "Another, more common way, the combining graphs is using `hue`.  We can show the above four graphs in a single plot."
      ]
    },
    {
      "cell_type": "code",
      "metadata": {
        "id": "iAWkZrvOu4dj",
        "colab_type": "code",
        "colab": {}
      },
      "source": [
        "sns.barplot(x='Survived', y='Age', ci=68, hue='Sex', data=titanic)\n",
        "plt.xticks(ticks=range(2), labels=['No', 'Yes'])"
      ],
      "execution_count": 0,
      "outputs": []
    },
    {
      "cell_type": "code",
      "metadata": {
        "id": "ItF1Aatdwrmr",
        "colab_type": "code",
        "colab": {}
      },
      "source": [
        "sns.scatterplot(x='Age', y='Fare', ci=68, hue='Sex', data=titanic)"
      ],
      "execution_count": 0,
      "outputs": []
    },
    {
      "cell_type": "markdown",
      "metadata": {
        "id": "brlJSdt8xarb",
        "colab_type": "text"
      },
      "source": [
        "### Linear Regression Scatter plots\n",
        "There are two convenient ways to add a regression line to a scatter plot:\n",
        "* regplot\n",
        "  * performs a single linear regression fit and plot\n",
        "* lmplot\n",
        "  * combines regplot and FacetGrid to allow variable subsets and multiple regression lines"
      ]
    },
    {
      "cell_type": "code",
      "metadata": {
        "id": "KQCgLg5mxPZp",
        "colab_type": "code",
        "colab": {}
      },
      "source": [
        "sns.regplot(x='Age', y='Fare', data=titanic, ci=68, color=\"orange\", line_kws={'color': 'cyan'})"
      ],
      "execution_count": 0,
      "outputs": []
    },
    {
      "cell_type": "code",
      "metadata": {
        "id": "eecDrz31xeV5",
        "colab_type": "code",
        "colab": {}
      },
      "source": [
        "sns.lmplot(x='Age', y='Fare', hue='Sex', ci=68, data=titanic)"
      ],
      "execution_count": 0,
      "outputs": []
    },
    {
      "cell_type": "markdown",
      "metadata": {
        "id": "P-qoJjJsySaD",
        "colab_type": "text"
      },
      "source": [
        "### Combining graphs\n",
        "You can also make multiple graphs before displaying them.  Matplotlib will add everything to the same set of axes until you execute the `plt.show()` command.  In Jupyter notebooks, this is executed when you run the cell.\n",
        "\n",
        "Let's overlay a swarmplot on a bar graph."
      ]
    },
    {
      "cell_type": "code",
      "metadata": {
        "id": "4Y1xFM2uyGED",
        "colab_type": "code",
        "colab": {}
      },
      "source": [
        "# barplot\n",
        "sns.barplot(x='Survived', y='Age', data=titanic)\n",
        "\n",
        "# swarmplot\n",
        "sns.swarmplot(x='Survived', y='Age', data=titanic)"
      ],
      "execution_count": 0,
      "outputs": []
    },
    {
      "cell_type": "markdown",
      "metadata": {
        "id": "1fKk8RBSzJkm",
        "colab_type": "text"
      },
      "source": [
        "I think we can all agree that this is a pretty terrible graph.  The point of combining these two graphs was to get a sense of the distribution, but we can't even see half of the scatter points.\n",
        "\n",
        "Luckily, we can adjust the opacity of the bars and the dots; we can adjust the edges of the bars; and we can adjust the size of the scatter dots.  All of this will hopefully make this graph more useful.\n",
        "\n",
        "Let's also trim down the size of our dataset just so we can visualize the data better for this example.  In the code below I've changed the `data` to be only the first 300 rows."
      ]
    },
    {
      "cell_type": "code",
      "metadata": {
        "id": "btphG14NzHD9",
        "colab_type": "code",
        "colab": {}
      },
      "source": [
        "# swarmplot\n",
        "sns.swarmplot(x='Survived', \n",
        "              y='Age', \n",
        "              data=titanic[:300],\n",
        "              size=7,       # making the dot size slightly bigger\n",
        "              alpha=.77,    # adjusting the opacity of the scatter\n",
        "              )\n",
        "\n",
        "# barplot\n",
        "sns.barplot(x='Survived', \n",
        "            y='Age', \n",
        "            data=titanic[:300],\n",
        "            linewidth=2.5,\n",
        "            errcolor='0',   # adjusting the error bar definition\n",
        "            edgecolor='.2', # adjusting the definition of the edges of the bars\n",
        "            alpha=0.25,     # adjusting the opacity of the bars\n",
        "            )"
      ],
      "execution_count": 0,
      "outputs": []
    },
    {
      "cell_type": "markdown",
      "metadata": {
        "id": "uA-oSb3x8AtM",
        "colab_type": "text"
      },
      "source": [
        "This is just a quick example of how you can begin to overlay and combine graphs. You can combine and overlay any number and combination of graphs, the possibilities are endless!"
      ]
    },
    {
      "cell_type": "markdown",
      "metadata": {
        "id": "ZgY0N_rjJslc",
        "colab_type": "text"
      },
      "source": [
        "# Annotaing Graphs\n",
        "Matplotlib and seaborn also provide functions that allow you to add shapes, text, and more on top of your graph to help you draw attention to a portion of the graph."
      ]
    },
    {
      "cell_type": "markdown",
      "metadata": {
        "id": "AXQXb05ALgt3",
        "colab_type": "text"
      },
      "source": [
        "### Adding shapes\n"
      ]
    },
    {
      "cell_type": "code",
      "metadata": {
        "id": "eq0RHqEEMuzW",
        "colab_type": "code",
        "colab": {}
      },
      "source": [
        "sns.scatterplot(x='Age', y='Fare', data=titanic)\n",
        "plt.annotate(s=' ', xy=(35, 500), xytext=(35, 400), arrowprops=dict(facecolor='red', width=0.5, headwidth=5))\n",
        "plt.annotate(s=' ', xy=(34, 505), xytext=(25, 500), arrowprops=dict(facecolor='red', width=0.5, headwidth=5))\n",
        "plt.annotate(s=' ', xy=(37, 510), xytext=(45, 500), arrowprops=dict(facecolor='red', width=0.5, headwidth=5))"
      ],
      "execution_count": 0,
      "outputs": []
    },
    {
      "cell_type": "markdown",
      "metadata": {
        "id": "eS78whREA5_T",
        "colab_type": "text"
      },
      "source": [
        "Your turn!\n",
        "\n",
        "Change the arrow style to a  [FancyArrowPatch](https://matplotlib.org/3.1.1/api/_as_gen/matplotlib.pyplot.annotate.html).  Also note the use of `dict()` in the `arrowprops` statement above."
      ]
    },
    {
      "cell_type": "code",
      "metadata": {
        "id": "R8KQhnCJ8ppw",
        "colab_type": "code",
        "colab": {}
      },
      "source": [
        ""
      ],
      "execution_count": 0,
      "outputs": []
    },
    {
      "cell_type": "markdown",
      "metadata": {
        "id": "FDg-f7FkZFSu",
        "colab_type": "text"
      },
      "source": [
        "Your turn again!\n",
        "\n",
        "Drop the rows of the three highest `Fares`\n",
        "\n",
        "Click the drop down arrow to the left of the next cell to see a possible solution"
      ]
    },
    {
      "cell_type": "code",
      "metadata": {
        "id": "ggliWHlW8qtn",
        "colab_type": "code",
        "colab": {}
      },
      "source": [
        ""
      ],
      "execution_count": 0,
      "outputs": []
    },
    {
      "cell_type": "markdown",
      "metadata": {
        "id": "bY1T_K7KZgJJ",
        "colab_type": "text"
      },
      "source": [
        "### Possible solution to dropping 3 highest values"
      ]
    },
    {
      "cell_type": "code",
      "metadata": {
        "id": "o3dxDruSZkyP",
        "colab_type": "code",
        "colab": {}
      },
      "source": [
        "# drop the three highest fares from above\n",
        "print(titanic.shape)\n",
        "rowstodrop = list(titanic.nlargest(3, 'Fare').index)\n",
        "for row in rowstodrop:\n",
        "  titanic.drop(row, inplace=True)\n",
        "print(titanic.shape)"
      ],
      "execution_count": 0,
      "outputs": []
    },
    {
      "cell_type": "markdown",
      "metadata": {
        "id": "sGpTGAqaEMr0",
        "colab_type": "text"
      },
      "source": [
        "### Adding brackets and p-values to bar graphs"
      ]
    },
    {
      "cell_type": "markdown",
      "metadata": {
        "id": "UPBi8QbQE_gy",
        "colab_type": "text"
      },
      "source": [
        "When showing group differences with bar graphs, it's common to do this with brackets. One way to do this is by putting your graph into PowerPoint, adding the brackets, grouping them so everything acts as a single object, and saving this as a picture to use later.  \n",
        "\n",
        "An alternate way of doing this, is by having Python add the brackets and, optionally, the associated p-values into the graph.  This cuts out the middle man and gives you a graph that's ready to use.\n",
        "\n",
        "Let's see how it works."
      ]
    },
    {
      "cell_type": "code",
      "metadata": {
        "id": "17eQOkEsEpVi",
        "colab_type": "code",
        "colab": {}
      },
      "source": [
        "# bar plot that we want to annotate\n",
        "sns.barplot(x='Survived', y='Fare', data=titanic, ci=68)"
      ],
      "execution_count": 0,
      "outputs": []
    },
    {
      "cell_type": "code",
      "metadata": {
        "id": "G4_bRR83KNhe",
        "colab_type": "code",
        "colab": {}
      },
      "source": [
        "# empty lists to store the heights and centers of both graphs\n",
        "heights = []\n",
        "centers = []\n",
        "\n",
        "# to save keystrokes and minimize room for error\n",
        "x = 'Survived'\n",
        "y = 'Fare'\n",
        "\n",
        "# create figure\n",
        "plt.figure()\n",
        "splot = sns.barplot(x=x, y=y, data=titanic, ci=68)\n",
        "plt.xticks(ticks=range(2), labels=[\"No\", \"Yes\"])\n",
        "\n",
        "# setting the upper range of the y-axis so we'll have room for brackets\n",
        "plt.ylim(top=titanic[y].max())\n",
        "\n",
        "# use \"patches\" to get attributes of each bar\n",
        "for p in splot.patches:\n",
        "  heights.append(p.get_height())\n",
        "  # get the x-coordinate of where the bar starts and add half of the width to get the center\n",
        "  centers.append(p.get_x() + p.get_width() /2.) # using 2. instead of 2 to make it a float\n",
        "  \n",
        "##########\n",
        "# Let's see what we have so far\n",
        "print(heights)\n",
        "print(centers)\n",
        "print(titanic[y].max())"
      ],
      "execution_count": 0,
      "outputs": []
    },
    {
      "cell_type": "code",
      "metadata": {
        "id": "k8Fx68H1cuw4",
        "colab_type": "code",
        "colab": {}
      },
      "source": [
        "# set the bracket height of an eighth of the above the \n",
        "lineheight = np.array(heights).max() + titanic[y].max()/8\n",
        "\n",
        "# create brackets out of two vertical lines, and one horizontal line\n",
        "plt.plot([centers[0], centers[0]], [lineheight-titanic[y].max()/20, lineheight], c='k')      # first tick\n",
        "plt.plot([centers[0], centers[1]], [lineheight, lineheight], c='k')        # line\n",
        "plt.plot([centers[1], centers[1]], [lineheight-titanic[y].max()/20, lineheight], c='k')      # end tick\n",
        "\n",
        "# add text above line\n",
        "plt.annotate(\"p-value = ??\", (.5, lineheight+titanic[y].max()/20))\n",
        "\n",
        "# add title\n",
        "plt.title(f'{y} by {x}')"
      ],
      "execution_count": 0,
      "outputs": []
    },
    {
      "cell_type": "code",
      "metadata": {
        "id": "PmqQSUTwe--Y",
        "colab_type": "code",
        "colab": {}
      },
      "source": [
        "# put it all together\n",
        "# empty lists to store the heights and centers of both graphs\n",
        "heights = []\n",
        "centers = []\n",
        "\n",
        "# to save keystrokes and minimize room for error\n",
        "x = 'Survived'\n",
        "y = 'Fare'\n",
        "\n",
        "# changing the graphing theme\n",
        "plt.style.use(\"seaborn\")\n",
        "\n",
        "# create figure\n",
        "plt.figure()\n",
        "splot = sns.barplot(x=x, y=y, data=titanic, ci=68)\n",
        "plt.xticks(ticks=range(2), labels=[\"No\", \"Yes\"])\n",
        "\n",
        "# setting the upper range of the y-axis so we'll have room for brackets\n",
        "plt.ylim(top=titanic[y].max())\n",
        "\n",
        "# use \"patches\" to get attributes of each bar\n",
        "for p in splot.patches:\n",
        "  heights.append(p.get_height())\n",
        "  # get the x-coordinate of where the bar starts and add half of the width to get the center\n",
        "  centers.append(p.get_x() + p.get_width() /2.) # using 2. instead of 2 to make it a float\n",
        "  \n",
        "# set the bracket height of an eighth of the above the \n",
        "lineheight = np.array(heights).max() + titanic[y].max()/8\n",
        "\n",
        "# create brackets out of two vertical lines, and one horizontal line\n",
        "plt.plot([centers[0], centers[0]], [lineheight-titanic[y].max()/20, lineheight], c='k')      # first tick\n",
        "plt.plot([centers[0], centers[1]], [lineheight, lineheight], c='k')        # line\n",
        "plt.plot([centers[1], centers[1]], [lineheight-titanic[y].max()/20, lineheight], c='k')      # end tick\n",
        "\n",
        "# add text above line\n",
        "plt.annotate(\"p-value = ??\", (.4, lineheight+titanic[y].max()/20))\n",
        "\n",
        "# add title\n",
        "plt.title(f'{y} by {x}')\n",
        "\n",
        "# display plot\n",
        "plt.show()"
      ],
      "execution_count": 0,
      "outputs": []
    },
    {
      "cell_type": "markdown",
      "metadata": {
        "id": "yjW0KVqyYeJK",
        "colab_type": "text"
      },
      "source": [
        "###__Choosing Colourmaps__\n",
        "\n",
        "You may have already noticed, but we've been playing around with the colours for some of the graphs we've shown. Matplotlib (and by extension seaborn and any other graphing library dependent on Matplotlib) has set \"Colourmaps\" or \"cmaps\" if you would like to use a colour palette across continous data. You can define your own colourmaps interactively in a Jupyter Notebook using the seaborn method `sns.choose_cubehelix_palette()`.\n",
        "\n",
        "Try running the code cell below and changing the sliders to find a colourmap you like!"
      ]
    },
    {
      "cell_type": "code",
      "metadata": {
        "id": "3tIJwupNYdce",
        "colab_type": "code",
        "colab": {}
      },
      "source": [
        "sns.choose_cubehelix_palette()"
      ],
      "execution_count": 0,
      "outputs": []
    },
    {
      "cell_type": "code",
      "metadata": {
        "id": "mO8F9PanaUIt",
        "colab_type": "code",
        "colab": {}
      },
      "source": [
        "# by changing the `as_cmap` argument to True, it will instead plot a truly continuous set of colours instead of a discrete set\n",
        "\n",
        "sns.choose_cubehelix_palette(as_cmap=True)"
      ],
      "execution_count": 0,
      "outputs": []
    },
    {
      "cell_type": "markdown",
      "metadata": {
        "id": "JZQvu6CLav59",
        "colab_type": "text"
      },
      "source": [
        "So what do we do once we've gotten it to look how we like it?\n",
        "\n",
        "Notice how each of the sliders has a value next to it? We'll take each of those values and assign them to the arguments in the seaborn method: `sns.cubehelix_palette()` and then we'll have our own customized colourmap. Let's do that below:"
      ]
    },
    {
      "cell_type": "code",
      "metadata": {
        "id": "1gU8v0kWbfJU",
        "colab_type": "code",
        "colab": {}
      },
      "source": [
        "# fill these in with your own custom values that you chose above\n",
        "cmap = sns.cubehelix_palette(n_colors=?, start=?, rot=?, gamma=?, hue=?, light=?, dark=?, reverse=?, as_cmap=?)"
      ],
      "execution_count": 0,
      "outputs": []
    },
    {
      "cell_type": "markdown",
      "metadata": {
        "id": "NpTZ-sH-cMdG",
        "colab_type": "text"
      },
      "source": [
        "Now we've defined our cmap, let's use it in a graph with the titanic dataset from earlier and instead of using the `hue` argument with something binary like 'Survived' try it with a continuous variable. Here I used 'SibSp' which is a measure of how many siblings and spouses were also aboard."
      ]
    },
    {
      "cell_type": "code",
      "metadata": {
        "id": "zfhBMiKfcKYT",
        "colab_type": "code",
        "colab": {}
      },
      "source": [
        "sns.scatterplot(x='Age', y='Fare', data=titanic, hue='SibSp', palette=cmap)"
      ],
      "execution_count": 0,
      "outputs": []
    },
    {
      "cell_type": "markdown",
      "metadata": {
        "id": "GKMTWWwYh583",
        "colab_type": "text"
      },
      "source": [
        "# Interactive Graphs\n",
        "`Plotly` is another grapphing package that creates JavaScript based graphs and displays then in a webbrowser.  This allows us to create interactive graphs that can be fun and informative.  A good use-case for these graphs could be a dashboard that breaks down different aspects of your lab.\n",
        "\n",
        "Note that `plotly` will NOT work with Spyder.  It WILL work with Jupyter notebooks, or if you execute it in a traditional `.py` script it will launch the graph in the default browser."
      ]
    },
    {
      "cell_type": "code",
      "metadata": {
        "id": "wxM8FK_7p5CU",
        "colab_type": "code",
        "colab": {}
      },
      "source": [
        "import plotly.graph_objects as go\n",
        "fig = go.Figure(\n",
        "    data=[go.Bar(y=[2,1,3])],\n",
        "    layout_title_text = \"Figure Title\"\n",
        ")\n",
        "fig"
      ],
      "execution_count": 0,
      "outputs": []
    },
    {
      "cell_type": "markdown",
      "metadata": {
        "id": "Rm86ctE9qNV4",
        "colab_type": "text"
      },
      "source": [
        "On the graph above, hover your cursor over one of the bars to display the coordinates.\n",
        "\n",
        "Drag your cursor over a section of the graph to zoom in to that area and double-click to zoom back to 100%"
      ]
    },
    {
      "cell_type": "markdown",
      "metadata": {
        "id": "PvhaW2tSqu_q",
        "colab_type": "text"
      },
      "source": [
        "Another way to make graphs using plotly is by creating a blank graph and adding in `traces`, or graph instances.\n",
        "\n",
        "This is a good method to use if you plan on adding graphs iteratively through a loop."
      ]
    },
    {
      "cell_type": "code",
      "metadata": {
        "id": "8lNfFLjYq4QN",
        "colab_type": "code",
        "colab": {}
      },
      "source": [
        "fig = go.Figure()\n",
        "fig.add_trace(go.Bar(x=[1, 2, 3], y=[1, 3, 2]))\n",
        "fig.show()"
      ],
      "execution_count": 0,
      "outputs": []
    },
    {
      "cell_type": "code",
      "metadata": {
        "id": "VetRD-2crCbC",
        "colab_type": "code",
        "colab": {}
      },
      "source": [
        "fig.add_trace(go.Bar(x=[4, 5], y=[5,3]))\n",
        "fig.show()"
      ],
      "execution_count": 0,
      "outputs": []
    },
    {
      "cell_type": "markdown",
      "metadata": {
        "id": "CN2usE_JrFsI",
        "colab_type": "text"
      },
      "source": [
        "Single-clicking on legend will filter OUT those elements from the graph."
      ]
    },
    {
      "cell_type": "markdown",
      "metadata": {
        "id": "9IjRg_zlrolA",
        "colab_type": "text"
      },
      "source": [
        "### Subplots\n",
        "Plotly can also make interactive subplots, but notice that unlike matplotlib and seaborn, the axes don't have to match.  Additionally, using the cursor to filter a view will only affect that subplot."
      ]
    },
    {
      "cell_type": "code",
      "metadata": {
        "id": "-k-FC5OCr5vk",
        "colab_type": "code",
        "colab": {}
      },
      "source": [
        "# making subplots\n",
        "from plotly.subplots import make_subplots\n",
        "fig = make_subplots(rows=1, cols=2)\n",
        "fig.add_trace(go.Scatter(y=[4,2,1], mode=\"lines\"), row=1, col=1)\n",
        "fig.add_trace(go.Bar(y=[2,1,3]), row=1, col=2)\n",
        "fig.show()"
      ],
      "execution_count": 0,
      "outputs": []
    },
    {
      "cell_type": "markdown",
      "metadata": {
        "id": "MBiedo8jr5Te",
        "colab_type": "text"
      },
      "source": [
        "### Express\n",
        "Plotly comes with a class called `express` that's syntax looks more familiar."
      ]
    },
    {
      "cell_type": "code",
      "metadata": {
        "id": "zsYSmQLnsg5F",
        "colab_type": "code",
        "colab": {}
      },
      "source": [
        "import plotly.express as px\n",
        "iris = px.data.iris()\n",
        "fig = px.scatter(iris, x=\"sepal_width\", y=\"sepal_length\", color=\"species\")\n",
        "fig.show()"
      ],
      "execution_count": 0,
      "outputs": []
    },
    {
      "cell_type": "markdown",
      "metadata": {
        "id": "BxGb2ymBtL9s",
        "colab_type": "text"
      },
      "source": [
        "Just like the graph_object graphs, we can add traces to the express graphs"
      ]
    },
    {
      "cell_type": "code",
      "metadata": {
        "id": "cn85rgxdtQ3S",
        "colab_type": "code",
        "colab": {}
      },
      "source": [
        "fig.add_trace(\n",
        "    go.Scatter(x=[2,4], y=[4,8], mode='lines', line=go.scatter.Line(color='gray'),\n",
        "               showlegend=False)\n",
        ")\n",
        "fig.show()"
      ],
      "execution_count": 0,
      "outputs": []
    },
    {
      "cell_type": "markdown",
      "metadata": {
        "id": "jpxUWzwStyv7",
        "colab_type": "text"
      },
      "source": [
        "### Adjusting graph opacity\n"
      ]
    },
    {
      "cell_type": "code",
      "metadata": {
        "id": "m6Ig1iptuARJ",
        "colab_type": "code",
        "colab": {}
      },
      "source": [
        "fig = go.Figure(go.Bar(x=[1, 2, 3], y=[1, 3, 2], opacity = 0.4))\n",
        "fig.show()"
      ],
      "execution_count": 0,
      "outputs": []
    },
    {
      "cell_type": "markdown",
      "metadata": {
        "id": "XGC5ZK1zuSJH",
        "colab_type": "text"
      },
      "source": [
        "Let's make the edge lines darker"
      ]
    },
    {
      "cell_type": "code",
      "metadata": {
        "id": "2J46E9nCuU9g",
        "colab_type": "code",
        "colab": {}
      },
      "source": [
        "fig.data[0].marker.line.width=4\n",
        "fig.data[0].marker.line.color='black'\n",
        "fig.show()"
      ],
      "execution_count": 0,
      "outputs": []
    },
    {
      "cell_type": "markdown",
      "metadata": {
        "id": "bhk26LYD3Ve0",
        "colab_type": "text"
      },
      "source": [
        "# Graphing with Coordinates"
      ]
    },
    {
      "cell_type": "markdown",
      "metadata": {
        "id": "dQzvYCxFDmPk",
        "colab_type": "text"
      },
      "source": [
        "Here we present some other ways you can create interesting graphs using Python.\n",
        "Below, we created these plots using only `plt.scatter()` using a freely available database on all reported car accidents in the US (1, 2). If you're interested, you can take a look at the code we used to create these [here](https://github.com/connorgrannis/nch_python_workshop/tree/master/Example%20code), under \"accidents_plot.py\". \n",
        "\n",
        "We've opted not to show how these were graphed in real time as there are about 3 million datapoints in total, so plotting takes a little time.\n",
        "\n",
        "If the images below don't load, try loading this page in Google Chrome or double click this cell and the hyperlink will take you to a working image.\n",
        "\n",
        "![2016](https://drive.google.com/uc?id=1Ghf4nphlq-5zJcaRJeaVadn4JI6f8OC_)\n",
        "\n",
        "![2017](https://drive.google.com/uc?id=1c3kjtkldo3iulOCc5HqWm4P1p45oYjto)\n",
        "\n",
        "![2018](https://drive.google.com/uc?id=1p6flaDZ30WAciIRC7n3_0JLJ_oF5ei1W)\n",
        "\n",
        "![2019](https://drive.google.com/uc?id=110HBM9nY6FMT4P_W2UkA8K526sObkLyZ)\n",
        "\n",
        "\n",
        "1. Moosavi, Sobhan, Mohammad Hossein Samavatian, Srinivasan Parthasarathy, and Rajiv Ramnath. “A Countrywide Traffic Accident Dataset.”, 2019.\n",
        "\n",
        "2. Moosavi, Sobhan, Mohammad Hossein Samavatian, Srinivasan Parthasarathy, Radu Teodorescu, and Rajiv Ramnath. \"Accident Risk Prediction based on Heterogeneous Sparse Data: New Dataset and Insights.\" In proceedings of the 27th ACM SIGSPATIAL International Conference on Advances in Geographic Information Systems, ACM, 2019.)"
      ]
    },
    {
      "cell_type": "markdown",
      "metadata": {
        "id": "wdNcuihbGzpk",
        "colab_type": "text"
      },
      "source": [
        "Here are some images of plots we've done with some of our lab's brain data.  The syntax is pretty specific to our lab directories and has PHI, so we're not posting the code here.  But if this is something that you want to try with your lab, you can reach out to us and we'd be more than happy to help.\n",
        "\n",
        "![2D connectome plot](https://drive.google.com/uc?id=15nxsBIP8jUMOb3HEpylLUIBt3rZNBLE1)\n",
        "\n",
        "\n",
        "Below is an interactive 3D version of the same plot above, you'll have to click the link and download the html file first, but then just double click it to view it in your browser:\n",
        "\n",
        "[3D connectome plot](https://drive.google.com/uc?id=1HytuzRDtWH4jtT00vUz-BpxT1B8D8V0S)\n",
        "\n",
        "Note that the interactive 3D brain is graphed partly using plotly."
      ]
    },
    {
      "cell_type": "markdown",
      "metadata": {
        "id": "pILCE-eCKNzw",
        "colab_type": "text"
      },
      "source": [
        "# Review:\n",
        "We've talked about how to graph data using pandas, matplotlib, seaborn, and plotly. \n",
        "\n",
        "You should now know how to:\n",
        "- Make traditional graphs (scatter, bar, box)\n",
        "- Adjust the opacity of data points\n",
        "- Combine multiple graphs\n",
        "- Modify axis labels\n",
        "- Add shapes and text to graphs\n",
        "- Make interactive graphs\n",
        "\n",
        "We've also seen how Python can create nice graphs using coordinates, either longitude and latitude or brain coordinates."
      ]
    },
    {
      "cell_type": "markdown",
      "metadata": {
        "id": "k8_CRvqn2uPA",
        "colab_type": "text"
      },
      "source": [
        "# Practice #1\n",
        "Based on the graphs above, there's a positive relationship between `Fare` and `Survived`, such that the more money a person spent on their ticket the more likely it was that they survived.  But could that be based on the location of their `cabin`?  Unfortunately, `cabin` has a lot of missing data, but we should still have a reasonable sample size.  Additionally, the `cabin` variable has the `section` and `room number`.  \n",
        "\n",
        "Let's create a new column in the titanic dataset that describes which *section* their cabin was in.  In order to do this, you'll need to do the following:\n",
        "1. Use the 'Cabin' series\n",
        "1. Drop the NaNs\n",
        "5. Only take the first cabin assigned to that person\n",
        "77. Only keep the first character in their cabin assignment\n",
        "5. Save it as a new column in the dataframe.\n",
        "\n",
        "After you've created that new series:\n",
        "1. Use groupby to group the dataset on the sections\n",
        "2. Display a barplot of the fare for each section\n",
        "3. Print the mean fare for each section using only one line of code"
      ]
    },
    {
      "cell_type": "code",
      "metadata": {
        "id": "7bsTZgUDhcPO",
        "colab_type": "code",
        "colab": {}
      },
      "source": [
        ""
      ],
      "execution_count": 0,
      "outputs": []
    },
    {
      "cell_type": "markdown",
      "metadata": {
        "id": "bzwMW2FZgpfm",
        "colab_type": "text"
      },
      "source": [
        "# Practice #2\n",
        "Add `Sex` to the annotated bar graph from earlier and connect any bars that visually look different, since we haven't talked about performing stats yet (next week). Explore the [documentation](https://matplotlib.org/3.2.1/gallery/style_sheets/style_sheets_reference.html) to choose a different theme that you like."
      ]
    },
    {
      "cell_type": "code",
      "metadata": {
        "id": "g691h0XAhdUS",
        "colab_type": "code",
        "colab": {}
      },
      "source": [
        ""
      ],
      "execution_count": 0,
      "outputs": []
    }
  ]
}