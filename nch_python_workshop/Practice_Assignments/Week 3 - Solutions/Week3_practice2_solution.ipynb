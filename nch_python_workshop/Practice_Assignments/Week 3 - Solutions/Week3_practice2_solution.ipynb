{
  "nbformat": 4,
  "nbformat_minor": 0,
  "metadata": {
    "colab": {
      "name": "Week3-practice2-solution.ipynb",
      "provenance": [],
      "collapsed_sections": [],
      "authorship_tag": "ABX9TyPu7aaA/7RfE5PXaG0Imprw",
      "include_colab_link": true
    },
    "kernelspec": {
      "name": "python3",
      "display_name": "Python 3"
    }
  },
  "cells": [
    {
      "cell_type": "markdown",
      "metadata": {
        "id": "view-in-github",
        "colab_type": "text"
      },
      "source": [
        "<a href=\"https://colab.research.google.com/github/connorgrannis/nch_python_workshop/blob/master/nch_python_workshop/Practice_Assignments/Week%203%20-%20Solutions/Week3_practice2_solution.ipynb\" target=\"_parent\"><img src=\"https://colab.research.google.com/assets/colab-badge.svg\" alt=\"Open In Colab\"/></a>"
      ]
    },
    {
      "cell_type": "code",
      "metadata": {
        "id": "E-eW7vvXJHtH",
        "colab_type": "code",
        "colab": {}
      },
      "source": [
        "onecabinperrow = []\n",
        "for row in titanic['Cabin'].dropna().values:\n",
        "  # split the list entry on spaces\n",
        "  cabins = row.split()        # splits the list entry on spaces by default\n",
        "  if len(cabins[0]) >= 2:     # valid room\n",
        "    onecabinperrow.append(cabins[0])\n",
        "  else:                       # not a valid room, like entry 75 above (\"F\")\n",
        "    try:                      # try to add the second entry for that person\n",
        "      onecabinperrow.append(cabins[1])\n",
        "    except IndexError:        # if there isn't a second entry, don't crash, just add the first\n",
        "      onecabinperrow.append(cabins[0])\n",
        "\n",
        "print(onecabinperrow[:10])"
      ],
      "execution_count": 0,
      "outputs": []
    },
    {
      "cell_type": "code",
      "metadata": {
        "id": "zmhKRUIVJPhn",
        "colab_type": "code",
        "colab": {}
      },
      "source": [
        "# now let's just take the first character of the cabin, so we can get which section they were in\n",
        "section = [cabin[0] for cabin in onecabinperrow]    # list comprehension\n",
        "print(section[:10])"
      ],
      "execution_count": 0,
      "outputs": []
    },
    {
      "cell_type": "code",
      "metadata": {
        "id": "GsCvZc6OJTV-",
        "colab_type": "code",
        "colab": {}
      },
      "source": [
        "# let's add this variable to our dataframe and split on it\n",
        "reduced_titanic = titanic[titanic['Cabin'].notnull()]\n",
        "reduced_titanic['Section'] = section\n",
        "reduced_titanic.sort_values('Section', ascending=True, inplace=True)\n",
        "grouped = reduced_titanic.groupby(\"Section\")"
      ],
      "execution_count": 0,
      "outputs": []
    },
    {
      "cell_type": "code",
      "metadata": {
        "id": "TGtal13GJUCP",
        "colab_type": "code",
        "colab": {}
      },
      "source": [
        "# print some info about what we just did\n",
        "\n",
        "print(len(grouped))\n",
        "print(type(grouped.groups))\n",
        "print(grouped.groups.keys())"
      ],
      "execution_count": 0,
      "outputs": []
    },
    {
      "cell_type": "code",
      "metadata": {
        "id": "CuMyx6KwJV78",
        "colab_type": "code",
        "colab": {}
      },
      "source": [
        "sns.barplot(x='Section', y='Fare', data=reduced_titanic, ci=68)\n",
        "plt.show()\n",
        "print(grouped['Fare'].mean())"
      ],
      "execution_count": 0,
      "outputs": []
    },
    {
      "cell_type": "markdown",
      "metadata": {
        "id": "HN2BcQpOJbVU",
        "colab_type": "text"
      },
      "source": [
        "We can see that `ticket price` definately impacted which section of the Titanic a passanger was in, but did their location matter for survival?"
      ]
    },
    {
      "cell_type": "code",
      "metadata": {
        "id": "DM1rdknUJYfN",
        "colab_type": "code",
        "colab": {}
      },
      "source": [
        "sns.barplot(x='Section', y='Fare', hue='Survived', data=reduced_titanic, ci=68)\n",
        "plt.show()"
      ],
      "execution_count": 0,
      "outputs": []
    }
  ]
}